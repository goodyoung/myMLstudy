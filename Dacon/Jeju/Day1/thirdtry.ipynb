{
 "cells": [
  {
   "cell_type": "markdown",
   "id": "4571010d-bb98-4ca9-9f9a-d40f436a22d4",
   "metadata": {},
   "source": [
    "# 살짝의 분석 및 피쳐 생성\n",
    "- 공휴일, 일요일에는 가격이 0이라서 해당 피쳐 생성\n",
    "- Third: 171 (964.90654)"
   ]
  },
  {
   "cell_type": "code",
   "execution_count": 1,
   "id": "46dcf153-7581-4f85-ad90-8b2f294a0681",
   "metadata": {},
   "outputs": [],
   "source": [
    "import pandas as pd\n",
    "from sklearn.preprocessing import OrdinalEncoder\n",
    "# from sklearn.linear_model import LinearRegression\n",
    "from sklearn.ensemble import RandomForestRegressor\n",
    "from sklearn.model_selection import train_test_split\n",
    "import numpy as np\n",
    "from sklearn.metrics import mean_squared_error\n",
    "import xgboost as xgb"
   ]
  },
  {
   "cell_type": "code",
   "execution_count": 139,
   "id": "1423ebf5-0dd1-41e2-b35c-91aa61cb73a8",
   "metadata": {},
   "outputs": [
    {
     "name": "stdout",
     "output_type": "stream",
     "text": [
      "Found existing installation: pytimekr 0.1.0\n",
      "Uninstalling pytimekr-0.1.0:\n",
      "  Successfully uninstalled pytimekr-0.1.0\n"
     ]
    }
   ],
   "source": [
    "# !pip3 install xgboost\n",
    "# !pip3 uninstall lightgbm -y\n",
    "# !pip3 uninstall pytimekr -y\n",
    "# !pip3 install holidays"
   ]
  },
  {
   "cell_type": "markdown",
   "id": "247c74ee-1af7-4a77-a361-05d8e766f975",
   "metadata": {},
   "source": [
    "### data load"
   ]
  },
  {
   "cell_type": "code",
   "execution_count": 220,
   "id": "4c924ba1-9ca2-4591-b4a2-e21012ad1ccb",
   "metadata": {},
   "outputs": [],
   "source": [
    "df1 = pd.read_csv(\"../dataset/international_trade.csv\")\n",
    "df2 = pd.read_csv(\"../dataset/sample_submission.csv\")\n",
    "df3 = pd.read_csv(\"../dataset/test.csv\")\n",
    "df4 = pd.read_csv(\"../dataset/train.csv\")"
   ]
  },
  {
   "cell_type": "markdown",
   "id": "bd70d56f-ffa5-4f0e-bade-7a8ce5835622",
   "metadata": {},
   "source": [
    "## preprocessing"
   ]
  },
  {
   "cell_type": "markdown",
   "id": "e7f186d1-bb14-47c3-aa04-c79b6d35341d",
   "metadata": {},
   "source": [
    "### analyze\n",
    "- train 데이터 : 2019년 01월 01일부터 2023년 03월 03일까지의 유통된 품목의 가격 데이터\n",
    "- item: 품목 코드\n",
    "    - TG : 감귤\n",
    "    - BC : 브로콜리\n",
    "    - RD : 무\n",
    "    - CR : 당근\n",
    "    - CB : 양배추\n",
    "- corporation : 유통 법인 코드\n",
    "    - 법인 A부터 F 존재\n",
    "- location : 지역 코드\n",
    "    - J : 제주도 제주시\n",
    "    - S : 제주도 서귀포시\n",
    "- supply(kg) : 유통된 물량, kg 단위\n",
    "- price(원/kg) : 유통된 품목들의 kg 마다의 가격, 원 단위"
   ]
  },
  {
   "cell_type": "code",
   "execution_count": 221,
   "id": "8c161dc2-5266-496d-8eec-71f03ffe1a19",
   "metadata": {},
   "outputs": [
    {
     "data": {
      "text/html": [
       "<div>\n",
       "<style scoped>\n",
       "    .dataframe tbody tr th:only-of-type {\n",
       "        vertical-align: middle;\n",
       "    }\n",
       "\n",
       "    .dataframe tbody tr th {\n",
       "        vertical-align: top;\n",
       "    }\n",
       "\n",
       "    .dataframe thead th {\n",
       "        text-align: right;\n",
       "    }\n",
       "</style>\n",
       "<table border=\"1\" class=\"dataframe\">\n",
       "  <thead>\n",
       "    <tr style=\"text-align: right;\">\n",
       "      <th></th>\n",
       "      <th>ID</th>\n",
       "      <th>timestamp</th>\n",
       "      <th>item</th>\n",
       "      <th>corporation</th>\n",
       "      <th>location</th>\n",
       "      <th>supply(kg)</th>\n",
       "      <th>price(원/kg)</th>\n",
       "    </tr>\n",
       "  </thead>\n",
       "  <tbody>\n",
       "    <tr>\n",
       "      <th>0</th>\n",
       "      <td>TG_A_J_20190101</td>\n",
       "      <td>2019-01-01</td>\n",
       "      <td>TG</td>\n",
       "      <td>A</td>\n",
       "      <td>J</td>\n",
       "      <td>0.0</td>\n",
       "      <td>0.0</td>\n",
       "    </tr>\n",
       "    <tr>\n",
       "      <th>1</th>\n",
       "      <td>TG_A_J_20190102</td>\n",
       "      <td>2019-01-02</td>\n",
       "      <td>TG</td>\n",
       "      <td>A</td>\n",
       "      <td>J</td>\n",
       "      <td>0.0</td>\n",
       "      <td>0.0</td>\n",
       "    </tr>\n",
       "    <tr>\n",
       "      <th>2</th>\n",
       "      <td>TG_A_J_20190103</td>\n",
       "      <td>2019-01-03</td>\n",
       "      <td>TG</td>\n",
       "      <td>A</td>\n",
       "      <td>J</td>\n",
       "      <td>60601.0</td>\n",
       "      <td>1728.0</td>\n",
       "    </tr>\n",
       "    <tr>\n",
       "      <th>3</th>\n",
       "      <td>TG_A_J_20190104</td>\n",
       "      <td>2019-01-04</td>\n",
       "      <td>TG</td>\n",
       "      <td>A</td>\n",
       "      <td>J</td>\n",
       "      <td>25000.0</td>\n",
       "      <td>1408.0</td>\n",
       "    </tr>\n",
       "    <tr>\n",
       "      <th>4</th>\n",
       "      <td>TG_A_J_20190105</td>\n",
       "      <td>2019-01-05</td>\n",
       "      <td>TG</td>\n",
       "      <td>A</td>\n",
       "      <td>J</td>\n",
       "      <td>32352.0</td>\n",
       "      <td>1250.0</td>\n",
       "    </tr>\n",
       "  </tbody>\n",
       "</table>\n",
       "</div>"
      ],
      "text/plain": [
       "                ID   timestamp item corporation location  supply(kg)  \\\n",
       "0  TG_A_J_20190101  2019-01-01   TG           A        J         0.0   \n",
       "1  TG_A_J_20190102  2019-01-02   TG           A        J         0.0   \n",
       "2  TG_A_J_20190103  2019-01-03   TG           A        J     60601.0   \n",
       "3  TG_A_J_20190104  2019-01-04   TG           A        J     25000.0   \n",
       "4  TG_A_J_20190105  2019-01-05   TG           A        J     32352.0   \n",
       "\n",
       "   price(원/kg)  \n",
       "0          0.0  \n",
       "1          0.0  \n",
       "2       1728.0  \n",
       "3       1408.0  \n",
       "4       1250.0  "
      ]
     },
     "execution_count": 221,
     "metadata": {},
     "output_type": "execute_result"
    }
   ],
   "source": [
    "df4.head()"
   ]
  },
  {
   "cell_type": "code",
   "execution_count": 222,
   "id": "12ed8072-c874-4845-99f5-97d07ef99c9e",
   "metadata": {},
   "outputs": [
    {
     "name": "stdout",
     "output_type": "stream",
     "text": [
      "item\n",
      "TG    15230\n",
      "BC    13707\n",
      "RD    12184\n",
      "CR    10661\n",
      "CB     7615\n",
      "Name: count, dtype: int64\n",
      "\n",
      "corporation\n",
      "A    13707\n",
      "E    13707\n",
      "D    12184\n",
      "C     9138\n",
      "B     7615\n",
      "F     3046\n",
      "Name: count, dtype: int64\n",
      "\n",
      "location\n",
      "J    35029\n",
      "S    24368\n",
      "Name: count, dtype: int64\n",
      "\n"
     ]
    }
   ],
   "source": [
    "for i in [\"item\",\"corporation\",\"location\"]:\n",
    "    print(df4[i].value_counts())\n",
    "    print()"
   ]
  },
  {
   "cell_type": "markdown",
   "id": "dbd94734-e3b6-49c1-8fed-45e526d05daf",
   "metadata": {},
   "source": [
    "### 시계열로 감귤(TG)의 특정 회사(A)의 2019년 1월 한달을 그려봤다\n",
    "- 가격이 0인 날이 꽤 있다. -> 살펴 봐야겠다\n",
    "- 1월에 점점 가격이 올라간다"
   ]
  },
  {
   "cell_type": "code",
   "execution_count": 223,
   "id": "0216cae4-f1d6-47c4-b2ce-3dfde2a4fb10",
   "metadata": {},
   "outputs": [],
   "source": [
    "import matplotlib.pyplot as plt"
   ]
  },
  {
   "cell_type": "code",
   "execution_count": 224,
   "id": "ca17eb53-0af2-47ec-953f-0630766a6f06",
   "metadata": {},
   "outputs": [],
   "source": [
    "cond1 = df['item'] =='BC'\n",
    "cond2 = df['corporation'] == 'A'\n",
    "cond3 = df['month'] == 1\n",
    "cond4 = df['year'] == 2019\n",
    "test = df[cond1 & cond2 & cond3 & cond4]"
   ]
  },
  {
   "cell_type": "code",
   "execution_count": 225,
   "id": "884f2181-7168-4eee-9f31-45bc99890f5e",
   "metadata": {},
   "outputs": [
    {
     "ename": "KeyError",
     "evalue": "'timestamp'",
     "output_type": "error",
     "traceback": [
      "\u001b[0;31m---------------------------------------------------------------------------\u001b[0m",
      "\u001b[0;31mKeyError\u001b[0m                                  Traceback (most recent call last)",
      "File \u001b[0;32m~/Desktop/GIt/myMLstudy/.mlvenv/lib/python3.11/site-packages/pandas/core/indexes/base.py:3790\u001b[0m, in \u001b[0;36mIndex.get_loc\u001b[0;34m(self, key)\u001b[0m\n\u001b[1;32m   3789\u001b[0m \u001b[38;5;28;01mtry\u001b[39;00m:\n\u001b[0;32m-> 3790\u001b[0m     \u001b[38;5;28;01mreturn\u001b[39;00m \u001b[38;5;28;43mself\u001b[39;49m\u001b[38;5;241;43m.\u001b[39;49m\u001b[43m_engine\u001b[49m\u001b[38;5;241;43m.\u001b[39;49m\u001b[43mget_loc\u001b[49m\u001b[43m(\u001b[49m\u001b[43mcasted_key\u001b[49m\u001b[43m)\u001b[49m\n\u001b[1;32m   3791\u001b[0m \u001b[38;5;28;01mexcept\u001b[39;00m \u001b[38;5;167;01mKeyError\u001b[39;00m \u001b[38;5;28;01mas\u001b[39;00m err:\n",
      "File \u001b[0;32mindex.pyx:152\u001b[0m, in \u001b[0;36mpandas._libs.index.IndexEngine.get_loc\u001b[0;34m()\u001b[0m\n",
      "File \u001b[0;32mindex.pyx:181\u001b[0m, in \u001b[0;36mpandas._libs.index.IndexEngine.get_loc\u001b[0;34m()\u001b[0m\n",
      "File \u001b[0;32mpandas/_libs/hashtable_class_helper.pxi:7080\u001b[0m, in \u001b[0;36mpandas._libs.hashtable.PyObjectHashTable.get_item\u001b[0;34m()\u001b[0m\n",
      "File \u001b[0;32mpandas/_libs/hashtable_class_helper.pxi:7088\u001b[0m, in \u001b[0;36mpandas._libs.hashtable.PyObjectHashTable.get_item\u001b[0;34m()\u001b[0m\n",
      "\u001b[0;31mKeyError\u001b[0m: 'timestamp'",
      "\nThe above exception was the direct cause of the following exception:\n",
      "\u001b[0;31mKeyError\u001b[0m                                  Traceback (most recent call last)",
      "Cell \u001b[0;32mIn[225], line 3\u001b[0m\n\u001b[1;32m      1\u001b[0m plt\u001b[38;5;241m.\u001b[39mfigure(figsize\u001b[38;5;241m=\u001b[39m(\u001b[38;5;241m12\u001b[39m, \u001b[38;5;241m6\u001b[39m))  \u001b[38;5;66;03m# 그래프 크기 설정\u001b[39;00m\n\u001b[0;32m----> 3\u001b[0m plt\u001b[38;5;241m.\u001b[39mplot(\u001b[43mtest\u001b[49m\u001b[43m[\u001b[49m\u001b[38;5;124;43m'\u001b[39;49m\u001b[38;5;124;43mtimestamp\u001b[39;49m\u001b[38;5;124;43m'\u001b[39;49m\u001b[43m]\u001b[49m, test[\u001b[38;5;124m'\u001b[39m\u001b[38;5;124mprice(원/kg)\u001b[39m\u001b[38;5;124m'\u001b[39m],\u001b[38;5;124m'\u001b[39m\u001b[38;5;124mo\u001b[39m\u001b[38;5;124m'\u001b[39m, linestyle\u001b[38;5;241m=\u001b[39m\u001b[38;5;124m'\u001b[39m\u001b[38;5;124m-\u001b[39m\u001b[38;5;124m'\u001b[39m, color\u001b[38;5;241m=\u001b[39m\u001b[38;5;124m'\u001b[39m\u001b[38;5;124mb\u001b[39m\u001b[38;5;124m'\u001b[39m, label\u001b[38;5;241m=\u001b[39m\u001b[38;5;124m'\u001b[39m\u001b[38;5;124mPrice\u001b[39m\u001b[38;5;124m'\u001b[39m)  \u001b[38;5;66;03m# 그래프 그리기\u001b[39;00m\n\u001b[1;32m      5\u001b[0m plt\u001b[38;5;241m.\u001b[39mtitle(\u001b[38;5;124m'\u001b[39m\u001b[38;5;124mPrice Over Time\u001b[39m\u001b[38;5;124m'\u001b[39m)  \u001b[38;5;66;03m# 그래프 제목 설정\u001b[39;00m\n\u001b[1;32m      6\u001b[0m plt\u001b[38;5;241m.\u001b[39mxlabel(\u001b[38;5;124m'\u001b[39m\u001b[38;5;124mTimestamp\u001b[39m\u001b[38;5;124m'\u001b[39m)  \u001b[38;5;66;03m# x축 레이블 설정\u001b[39;00m\n",
      "File \u001b[0;32m~/Desktop/GIt/myMLstudy/.mlvenv/lib/python3.11/site-packages/pandas/core/frame.py:3896\u001b[0m, in \u001b[0;36mDataFrame.__getitem__\u001b[0;34m(self, key)\u001b[0m\n\u001b[1;32m   3894\u001b[0m \u001b[38;5;28;01mif\u001b[39;00m \u001b[38;5;28mself\u001b[39m\u001b[38;5;241m.\u001b[39mcolumns\u001b[38;5;241m.\u001b[39mnlevels \u001b[38;5;241m>\u001b[39m \u001b[38;5;241m1\u001b[39m:\n\u001b[1;32m   3895\u001b[0m     \u001b[38;5;28;01mreturn\u001b[39;00m \u001b[38;5;28mself\u001b[39m\u001b[38;5;241m.\u001b[39m_getitem_multilevel(key)\n\u001b[0;32m-> 3896\u001b[0m indexer \u001b[38;5;241m=\u001b[39m \u001b[38;5;28;43mself\u001b[39;49m\u001b[38;5;241;43m.\u001b[39;49m\u001b[43mcolumns\u001b[49m\u001b[38;5;241;43m.\u001b[39;49m\u001b[43mget_loc\u001b[49m\u001b[43m(\u001b[49m\u001b[43mkey\u001b[49m\u001b[43m)\u001b[49m\n\u001b[1;32m   3897\u001b[0m \u001b[38;5;28;01mif\u001b[39;00m is_integer(indexer):\n\u001b[1;32m   3898\u001b[0m     indexer \u001b[38;5;241m=\u001b[39m [indexer]\n",
      "File \u001b[0;32m~/Desktop/GIt/myMLstudy/.mlvenv/lib/python3.11/site-packages/pandas/core/indexes/base.py:3797\u001b[0m, in \u001b[0;36mIndex.get_loc\u001b[0;34m(self, key)\u001b[0m\n\u001b[1;32m   3792\u001b[0m     \u001b[38;5;28;01mif\u001b[39;00m \u001b[38;5;28misinstance\u001b[39m(casted_key, \u001b[38;5;28mslice\u001b[39m) \u001b[38;5;129;01mor\u001b[39;00m (\n\u001b[1;32m   3793\u001b[0m         \u001b[38;5;28misinstance\u001b[39m(casted_key, abc\u001b[38;5;241m.\u001b[39mIterable)\n\u001b[1;32m   3794\u001b[0m         \u001b[38;5;129;01mand\u001b[39;00m \u001b[38;5;28many\u001b[39m(\u001b[38;5;28misinstance\u001b[39m(x, \u001b[38;5;28mslice\u001b[39m) \u001b[38;5;28;01mfor\u001b[39;00m x \u001b[38;5;129;01min\u001b[39;00m casted_key)\n\u001b[1;32m   3795\u001b[0m     ):\n\u001b[1;32m   3796\u001b[0m         \u001b[38;5;28;01mraise\u001b[39;00m InvalidIndexError(key)\n\u001b[0;32m-> 3797\u001b[0m     \u001b[38;5;28;01mraise\u001b[39;00m \u001b[38;5;167;01mKeyError\u001b[39;00m(key) \u001b[38;5;28;01mfrom\u001b[39;00m \u001b[38;5;21;01merr\u001b[39;00m\n\u001b[1;32m   3798\u001b[0m \u001b[38;5;28;01mexcept\u001b[39;00m \u001b[38;5;167;01mTypeError\u001b[39;00m:\n\u001b[1;32m   3799\u001b[0m     \u001b[38;5;66;03m# If we have a listlike key, _check_indexing_error will raise\u001b[39;00m\n\u001b[1;32m   3800\u001b[0m     \u001b[38;5;66;03m#  InvalidIndexError. Otherwise we fall through and re-raise\u001b[39;00m\n\u001b[1;32m   3801\u001b[0m     \u001b[38;5;66;03m#  the TypeError.\u001b[39;00m\n\u001b[1;32m   3802\u001b[0m     \u001b[38;5;28mself\u001b[39m\u001b[38;5;241m.\u001b[39m_check_indexing_error(key)\n",
      "\u001b[0;31mKeyError\u001b[0m: 'timestamp'"
     ]
    },
    {
     "data": {
      "text/plain": [
       "<Figure size 1200x600 with 0 Axes>"
      ]
     },
     "metadata": {},
     "output_type": "display_data"
    }
   ],
   "source": [
    "plt.figure(figsize=(12, 6))  # 그래프 크기 설정\n",
    "\n",
    "plt.plot(test['timestamp'], test['price(원/kg)'],'o', linestyle='-', color='b', label='Price')  # 그래프 그리기\n",
    "\n",
    "plt.title('Price Over Time')  # 그래프 제목 설정\n",
    "plt.xlabel('Timestamp')  # x축 레이블 설정\n",
    "plt.ylabel('Price(원/kg)')  # y축 레이블 설정\n",
    "\n",
    "plt.grid(True)  # 그리드 표시\n",
    "plt.legend()  # 범례 표시\n",
    "\n",
    "plt.xticks(rotation=45)  # x축 레이블 회전\n",
    "\n",
    "plt.show()  # 그래프 표시"
   ]
  },
  {
   "cell_type": "markdown",
   "id": "0067b002-7688-4ff6-b86c-b7d52bde0368",
   "metadata": {},
   "source": [
    "### 가격이 0인 날짜들을 살펴보았다\n",
    "- 휴일 (공휴일, 일요일)이면 무조건 가격이 0이다\n",
    "- 평일에도 안판 법인이 있을 수 있다"
   ]
  },
  {
   "cell_type": "code",
   "execution_count": 137,
   "id": "cbee2173-7091-4806-a9c0-7126bcacd89f",
   "metadata": {
    "scrolled": true
   },
   "outputs": [
    {
     "data": {
      "text/html": [
       "<div>\n",
       "<style scoped>\n",
       "    .dataframe tbody tr th:only-of-type {\n",
       "        vertical-align: middle;\n",
       "    }\n",
       "\n",
       "    .dataframe tbody tr th {\n",
       "        vertical-align: top;\n",
       "    }\n",
       "\n",
       "    .dataframe thead th {\n",
       "        text-align: right;\n",
       "    }\n",
       "</style>\n",
       "<table border=\"1\" class=\"dataframe\">\n",
       "  <thead>\n",
       "    <tr style=\"text-align: right;\">\n",
       "      <th></th>\n",
       "      <th>ID</th>\n",
       "      <th>timestamp</th>\n",
       "      <th>item</th>\n",
       "      <th>corporation</th>\n",
       "      <th>location</th>\n",
       "      <th>supply(kg)</th>\n",
       "      <th>price(원/kg)</th>\n",
       "      <th>year</th>\n",
       "      <th>month</th>\n",
       "      <th>day</th>\n",
       "      <th>holiday</th>\n",
       "    </tr>\n",
       "  </thead>\n",
       "  <tbody>\n",
       "    <tr>\n",
       "      <th>0</th>\n",
       "      <td>TG_A_J_20190101</td>\n",
       "      <td>2019-01-01</td>\n",
       "      <td>TG</td>\n",
       "      <td>A</td>\n",
       "      <td>J</td>\n",
       "      <td>0.0</td>\n",
       "      <td>0.0</td>\n",
       "      <td>2019</td>\n",
       "      <td>1</td>\n",
       "      <td>1</td>\n",
       "      <td>1</td>\n",
       "    </tr>\n",
       "    <tr>\n",
       "      <th>1</th>\n",
       "      <td>TG_A_J_20190102</td>\n",
       "      <td>2019-01-02</td>\n",
       "      <td>TG</td>\n",
       "      <td>A</td>\n",
       "      <td>J</td>\n",
       "      <td>0.0</td>\n",
       "      <td>0.0</td>\n",
       "      <td>2019</td>\n",
       "      <td>1</td>\n",
       "      <td>2</td>\n",
       "      <td>0</td>\n",
       "    </tr>\n",
       "    <tr>\n",
       "      <th>5</th>\n",
       "      <td>TG_A_J_20190106</td>\n",
       "      <td>2019-01-06</td>\n",
       "      <td>TG</td>\n",
       "      <td>A</td>\n",
       "      <td>J</td>\n",
       "      <td>0.0</td>\n",
       "      <td>0.0</td>\n",
       "      <td>2019</td>\n",
       "      <td>1</td>\n",
       "      <td>6</td>\n",
       "      <td>0</td>\n",
       "    </tr>\n",
       "    <tr>\n",
       "      <th>12</th>\n",
       "      <td>TG_A_J_20190113</td>\n",
       "      <td>2019-01-13</td>\n",
       "      <td>TG</td>\n",
       "      <td>A</td>\n",
       "      <td>J</td>\n",
       "      <td>0.0</td>\n",
       "      <td>0.0</td>\n",
       "      <td>2019</td>\n",
       "      <td>1</td>\n",
       "      <td>13</td>\n",
       "      <td>0</td>\n",
       "    </tr>\n",
       "    <tr>\n",
       "      <th>19</th>\n",
       "      <td>TG_A_J_20190120</td>\n",
       "      <td>2019-01-20</td>\n",
       "      <td>TG</td>\n",
       "      <td>A</td>\n",
       "      <td>J</td>\n",
       "      <td>0.0</td>\n",
       "      <td>0.0</td>\n",
       "      <td>2019</td>\n",
       "      <td>1</td>\n",
       "      <td>20</td>\n",
       "      <td>0</td>\n",
       "    </tr>\n",
       "    <tr>\n",
       "      <th>...</th>\n",
       "      <td>...</td>\n",
       "      <td>...</td>\n",
       "      <td>...</td>\n",
       "      <td>...</td>\n",
       "      <td>...</td>\n",
       "      <td>...</td>\n",
       "      <td>...</td>\n",
       "      <td>...</td>\n",
       "      <td>...</td>\n",
       "      <td>...</td>\n",
       "      <td>...</td>\n",
       "    </tr>\n",
       "    <tr>\n",
       "      <th>59363</th>\n",
       "      <td>RD_F_J_20230129</td>\n",
       "      <td>2023-01-29</td>\n",
       "      <td>RD</td>\n",
       "      <td>F</td>\n",
       "      <td>J</td>\n",
       "      <td>0.0</td>\n",
       "      <td>0.0</td>\n",
       "      <td>2023</td>\n",
       "      <td>1</td>\n",
       "      <td>29</td>\n",
       "      <td>0</td>\n",
       "    </tr>\n",
       "    <tr>\n",
       "      <th>59370</th>\n",
       "      <td>RD_F_J_20230205</td>\n",
       "      <td>2023-02-05</td>\n",
       "      <td>RD</td>\n",
       "      <td>F</td>\n",
       "      <td>J</td>\n",
       "      <td>0.0</td>\n",
       "      <td>0.0</td>\n",
       "      <td>2023</td>\n",
       "      <td>2</td>\n",
       "      <td>5</td>\n",
       "      <td>0</td>\n",
       "    </tr>\n",
       "    <tr>\n",
       "      <th>59377</th>\n",
       "      <td>RD_F_J_20230212</td>\n",
       "      <td>2023-02-12</td>\n",
       "      <td>RD</td>\n",
       "      <td>F</td>\n",
       "      <td>J</td>\n",
       "      <td>0.0</td>\n",
       "      <td>0.0</td>\n",
       "      <td>2023</td>\n",
       "      <td>2</td>\n",
       "      <td>12</td>\n",
       "      <td>0</td>\n",
       "    </tr>\n",
       "    <tr>\n",
       "      <th>59384</th>\n",
       "      <td>RD_F_J_20230219</td>\n",
       "      <td>2023-02-19</td>\n",
       "      <td>RD</td>\n",
       "      <td>F</td>\n",
       "      <td>J</td>\n",
       "      <td>0.0</td>\n",
       "      <td>0.0</td>\n",
       "      <td>2023</td>\n",
       "      <td>2</td>\n",
       "      <td>19</td>\n",
       "      <td>0</td>\n",
       "    </tr>\n",
       "    <tr>\n",
       "      <th>59391</th>\n",
       "      <td>RD_F_J_20230226</td>\n",
       "      <td>2023-02-26</td>\n",
       "      <td>RD</td>\n",
       "      <td>F</td>\n",
       "      <td>J</td>\n",
       "      <td>0.0</td>\n",
       "      <td>0.0</td>\n",
       "      <td>2023</td>\n",
       "      <td>2</td>\n",
       "      <td>26</td>\n",
       "      <td>0</td>\n",
       "    </tr>\n",
       "  </tbody>\n",
       "</table>\n",
       "<p>35455 rows × 11 columns</p>\n",
       "</div>"
      ],
      "text/plain": [
       "                    ID  timestamp item corporation location  supply(kg)  \\\n",
       "0      TG_A_J_20190101 2019-01-01   TG           A        J         0.0   \n",
       "1      TG_A_J_20190102 2019-01-02   TG           A        J         0.0   \n",
       "5      TG_A_J_20190106 2019-01-06   TG           A        J         0.0   \n",
       "12     TG_A_J_20190113 2019-01-13   TG           A        J         0.0   \n",
       "19     TG_A_J_20190120 2019-01-20   TG           A        J         0.0   \n",
       "...                ...        ...  ...         ...      ...         ...   \n",
       "59363  RD_F_J_20230129 2023-01-29   RD           F        J         0.0   \n",
       "59370  RD_F_J_20230205 2023-02-05   RD           F        J         0.0   \n",
       "59377  RD_F_J_20230212 2023-02-12   RD           F        J         0.0   \n",
       "59384  RD_F_J_20230219 2023-02-19   RD           F        J         0.0   \n",
       "59391  RD_F_J_20230226 2023-02-26   RD           F        J         0.0   \n",
       "\n",
       "       price(원/kg)  year  month  day  holiday  \n",
       "0              0.0  2019      1    1        1  \n",
       "1              0.0  2019      1    2        0  \n",
       "5              0.0  2019      1    6        0  \n",
       "12             0.0  2019      1   13        0  \n",
       "19             0.0  2019      1   20        0  \n",
       "...            ...   ...    ...  ...      ...  \n",
       "59363          0.0  2023      1   29        0  \n",
       "59370          0.0  2023      2    5        0  \n",
       "59377          0.0  2023      2   12        0  \n",
       "59384          0.0  2023      2   19        0  \n",
       "59391          0.0  2023      2   26        0  \n",
       "\n",
       "[35455 rows x 11 columns]"
      ]
     },
     "execution_count": 137,
     "metadata": {},
     "output_type": "execute_result"
    }
   ],
   "source": [
    "cond1 = df['price(원/kg)'] == 0.0\n",
    "# cond2 = df[\"timestamp\"] == \"2019-01-01\"\n",
    "df[cond1]"
   ]
  },
  {
   "cell_type": "code",
   "execution_count": null,
   "id": "cdbee648-75bb-44c3-a0d6-87ce42657f50",
   "metadata": {},
   "outputs": [],
   "source": []
  },
  {
   "cell_type": "markdown",
   "id": "8d610277-1b8f-4b8d-9510-20577614cb6f",
   "metadata": {},
   "source": [
    "# 휴일 처리"
   ]
  },
  {
   "cell_type": "code",
   "execution_count": null,
   "id": "aac880e0-2041-4c00-8907-68ed450e7198",
   "metadata": {},
   "outputs": [],
   "source": [
    "import holidays\n",
    "# 한국 휴일 객체 생성 \n",
    "kr_holidays = holidays.KR()\n",
    "\n",
    "df.loc[:,'holiday'] = df['timestamp'].apply(lambda a: 1 if a in kr_holidays else 0)\n",
    "\n",
    "df.loc[:,'sunday'] = df['timestamp'].apply(lambda a: 1 if a.weekday()==6 else 0)\n",
    "\n",
    "df.loc[:,\"holisunDay\"] = pd.concat([df[\"holiday\"], df[\"sunday\"]],axis = 0,ignore_index=True)"
   ]
  },
  {
   "cell_type": "code",
   "execution_count": 185,
   "id": "496e4ce6-21f1-4d9b-9091-1ea9cff8f1d1",
   "metadata": {},
   "outputs": [],
   "source": [
    "df.drop(['holiday','sunday','timestamp'],axis = 1,inplace = True)"
   ]
  },
  {
   "cell_type": "code",
   "execution_count": null,
   "id": "db9d49b7-9673-4a8d-a06d-b9f22ce7fab3",
   "metadata": {},
   "outputs": [],
   "source": []
  },
  {
   "cell_type": "code",
   "execution_count": null,
   "id": "fb1bc3f1-51dc-4ccd-9e49-640947eea608",
   "metadata": {},
   "outputs": [],
   "source": []
  },
  {
   "cell_type": "code",
   "execution_count": null,
   "id": "f710a2cd-61c0-4667-a1cb-ef44a0402354",
   "metadata": {},
   "outputs": [],
   "source": []
  },
  {
   "cell_type": "markdown",
   "id": "378064a5-c05f-4901-825c-7c609312761f",
   "metadata": {},
   "source": [
    "### 수치화"
   ]
  },
  {
   "cell_type": "code",
   "execution_count": 191,
   "id": "9c70684c-a825-40f0-a964-f8bd300571ec",
   "metadata": {},
   "outputs": [],
   "source": [
    "df4 = df4.drop('ID',axis = 1)"
   ]
  },
  {
   "cell_type": "code",
   "execution_count": 192,
   "id": "87a132a5-faec-4a23-b47b-76f4f2f6b228",
   "metadata": {},
   "outputs": [],
   "source": [
    "def categoryChange(df):\n",
    "    \"\"\" 카테고리화 \"\"\"\n",
    "    ordinal_encoder = OrdinalEncoder()\n",
    "    ordinal = ordinal_encoder.fit_transform(df)\n",
    "    return ordinal"
   ]
  },
  {
   "cell_type": "code",
   "execution_count": 193,
   "id": "33287686-2b58-4554-b4fc-3163ce815b39",
   "metadata": {},
   "outputs": [],
   "source": [
    "for name in ['item','corporation','location']:\n",
    "    df4.loc[:,name] = categoryChange(df4[[name]])\n",
    "    df4[name] = pd.to_numeric(df4[name])"
   ]
  },
  {
   "cell_type": "markdown",
   "id": "613ee51d-f5a4-41e6-af12-17dc85f971fe",
   "metadata": {},
   "source": [
    "### 날짜 분리"
   ]
  },
  {
   "cell_type": "code",
   "execution_count": 204,
   "id": "f8be3e66-d23f-4818-af5f-3fcdec0f637b",
   "metadata": {},
   "outputs": [],
   "source": [
    "# df4['timestamp'] = pd.to_datetime(df4['timestamp'])\n",
    "def dateChange(df):\n",
    "    df.loc[:,'year'] = df['timestamp'].dt.year\n",
    "    df.loc[:,'month'] = df['timestamp'].dt.month\n",
    "    df.loc[:,'day'] = df['timestamp'].dt.day\n",
    "    # df.drop('timestamp',axis = 1, inplace = True)\n",
    "    return df "
   ]
  },
  {
   "cell_type": "code",
   "execution_count": 43,
   "id": "493474a5-06f7-46ff-8d01-23d2f78525a2",
   "metadata": {},
   "outputs": [],
   "source": [
    "df4 = dateChange(df4)"
   ]
  },
  {
   "cell_type": "markdown",
   "id": "41e52857-ccf1-4932-8fa9-7ae4e0a4a132",
   "metadata": {},
   "source": [
    "### model training"
   ]
  },
  {
   "cell_type": "code",
   "execution_count": 195,
   "id": "821d0802-1116-4c11-b522-784e41de793f",
   "metadata": {},
   "outputs": [],
   "source": [
    "X = df4.drop(['price(원/kg)','supply(kg)'],axis = 1)\n",
    "Y = df4['price(원/kg)']"
   ]
  },
  {
   "cell_type": "code",
   "execution_count": 196,
   "id": "5d479705-7c0c-4369-bf11-c91fa697aa00",
   "metadata": {},
   "outputs": [],
   "source": [
    "x_train, x_test, y_train, y_test = train_test_split(X,Y, test_size=0.2, random_state=42,stratify= df4['item'])"
   ]
  },
  {
   "cell_type": "code",
   "execution_count": 197,
   "id": "ffc1fc09-c732-468f-89fe-1f1913027ab1",
   "metadata": {},
   "outputs": [],
   "source": [
    "model = RandomForestRegressor()"
   ]
  },
  {
   "cell_type": "code",
   "execution_count": 198,
   "id": "136e39f2-0e1d-489c-be99-10f25f9da1b7",
   "metadata": {},
   "outputs": [],
   "source": [
    "model = xgb.XGBRegressor()"
   ]
  },
  {
   "cell_type": "code",
   "execution_count": 199,
   "id": "cb6010d6-3550-4035-8a46-72bef19c9b0a",
   "metadata": {},
   "outputs": [
    {
     "data": {
      "text/html": [
       "<style>#sk-container-id-1 {color: black;}#sk-container-id-1 pre{padding: 0;}#sk-container-id-1 div.sk-toggleable {background-color: white;}#sk-container-id-1 label.sk-toggleable__label {cursor: pointer;display: block;width: 100%;margin-bottom: 0;padding: 0.3em;box-sizing: border-box;text-align: center;}#sk-container-id-1 label.sk-toggleable__label-arrow:before {content: \"▸\";float: left;margin-right: 0.25em;color: #696969;}#sk-container-id-1 label.sk-toggleable__label-arrow:hover:before {color: black;}#sk-container-id-1 div.sk-estimator:hover label.sk-toggleable__label-arrow:before {color: black;}#sk-container-id-1 div.sk-toggleable__content {max-height: 0;max-width: 0;overflow: hidden;text-align: left;background-color: #f0f8ff;}#sk-container-id-1 div.sk-toggleable__content pre {margin: 0.2em;color: black;border-radius: 0.25em;background-color: #f0f8ff;}#sk-container-id-1 input.sk-toggleable__control:checked~div.sk-toggleable__content {max-height: 200px;max-width: 100%;overflow: auto;}#sk-container-id-1 input.sk-toggleable__control:checked~label.sk-toggleable__label-arrow:before {content: \"▾\";}#sk-container-id-1 div.sk-estimator input.sk-toggleable__control:checked~label.sk-toggleable__label {background-color: #d4ebff;}#sk-container-id-1 div.sk-label input.sk-toggleable__control:checked~label.sk-toggleable__label {background-color: #d4ebff;}#sk-container-id-1 input.sk-hidden--visually {border: 0;clip: rect(1px 1px 1px 1px);clip: rect(1px, 1px, 1px, 1px);height: 1px;margin: -1px;overflow: hidden;padding: 0;position: absolute;width: 1px;}#sk-container-id-1 div.sk-estimator {font-family: monospace;background-color: #f0f8ff;border: 1px dotted black;border-radius: 0.25em;box-sizing: border-box;margin-bottom: 0.5em;}#sk-container-id-1 div.sk-estimator:hover {background-color: #d4ebff;}#sk-container-id-1 div.sk-parallel-item::after {content: \"\";width: 100%;border-bottom: 1px solid gray;flex-grow: 1;}#sk-container-id-1 div.sk-label:hover label.sk-toggleable__label {background-color: #d4ebff;}#sk-container-id-1 div.sk-serial::before {content: \"\";position: absolute;border-left: 1px solid gray;box-sizing: border-box;top: 0;bottom: 0;left: 50%;z-index: 0;}#sk-container-id-1 div.sk-serial {display: flex;flex-direction: column;align-items: center;background-color: white;padding-right: 0.2em;padding-left: 0.2em;position: relative;}#sk-container-id-1 div.sk-item {position: relative;z-index: 1;}#sk-container-id-1 div.sk-parallel {display: flex;align-items: stretch;justify-content: center;background-color: white;position: relative;}#sk-container-id-1 div.sk-item::before, #sk-container-id-1 div.sk-parallel-item::before {content: \"\";position: absolute;border-left: 1px solid gray;box-sizing: border-box;top: 0;bottom: 0;left: 50%;z-index: -1;}#sk-container-id-1 div.sk-parallel-item {display: flex;flex-direction: column;z-index: 1;position: relative;background-color: white;}#sk-container-id-1 div.sk-parallel-item:first-child::after {align-self: flex-end;width: 50%;}#sk-container-id-1 div.sk-parallel-item:last-child::after {align-self: flex-start;width: 50%;}#sk-container-id-1 div.sk-parallel-item:only-child::after {width: 0;}#sk-container-id-1 div.sk-dashed-wrapped {border: 1px dashed gray;margin: 0 0.4em 0.5em 0.4em;box-sizing: border-box;padding-bottom: 0.4em;background-color: white;}#sk-container-id-1 div.sk-label label {font-family: monospace;font-weight: bold;display: inline-block;line-height: 1.2em;}#sk-container-id-1 div.sk-label-container {text-align: center;}#sk-container-id-1 div.sk-container {/* jupyter's `normalize.less` sets `[hidden] { display: none; }` but bootstrap.min.css set `[hidden] { display: none !important; }` so we also need the `!important` here to be able to override the default hidden behavior on the sphinx rendered scikit-learn.org. See: https://github.com/scikit-learn/scikit-learn/issues/21755 */display: inline-block !important;position: relative;}#sk-container-id-1 div.sk-text-repr-fallback {display: none;}</style><div id=\"sk-container-id-1\" class=\"sk-top-container\"><div class=\"sk-text-repr-fallback\"><pre>XGBRegressor(base_score=None, booster=None, callbacks=None,\n",
       "             colsample_bylevel=None, colsample_bynode=None,\n",
       "             colsample_bytree=None, device=None, early_stopping_rounds=None,\n",
       "             enable_categorical=False, eval_metric=None, feature_types=None,\n",
       "             gamma=None, grow_policy=None, importance_type=None,\n",
       "             interaction_constraints=None, learning_rate=None, max_bin=None,\n",
       "             max_cat_threshold=None, max_cat_to_onehot=None,\n",
       "             max_delta_step=None, max_depth=None, max_leaves=None,\n",
       "             min_child_weight=None, missing=nan, monotone_constraints=None,\n",
       "             multi_strategy=None, n_estimators=None, n_jobs=None,\n",
       "             num_parallel_tree=None, random_state=None, ...)</pre><b>In a Jupyter environment, please rerun this cell to show the HTML representation or trust the notebook. <br />On GitHub, the HTML representation is unable to render, please try loading this page with nbviewer.org.</b></div><div class=\"sk-container\" hidden><div class=\"sk-item\"><div class=\"sk-estimator sk-toggleable\"><input class=\"sk-toggleable__control sk-hidden--visually\" id=\"sk-estimator-id-1\" type=\"checkbox\" checked><label for=\"sk-estimator-id-1\" class=\"sk-toggleable__label sk-toggleable__label-arrow\">XGBRegressor</label><div class=\"sk-toggleable__content\"><pre>XGBRegressor(base_score=None, booster=None, callbacks=None,\n",
       "             colsample_bylevel=None, colsample_bynode=None,\n",
       "             colsample_bytree=None, device=None, early_stopping_rounds=None,\n",
       "             enable_categorical=False, eval_metric=None, feature_types=None,\n",
       "             gamma=None, grow_policy=None, importance_type=None,\n",
       "             interaction_constraints=None, learning_rate=None, max_bin=None,\n",
       "             max_cat_threshold=None, max_cat_to_onehot=None,\n",
       "             max_delta_step=None, max_depth=None, max_leaves=None,\n",
       "             min_child_weight=None, missing=nan, monotone_constraints=None,\n",
       "             multi_strategy=None, n_estimators=None, n_jobs=None,\n",
       "             num_parallel_tree=None, random_state=None, ...)</pre></div></div></div></div></div>"
      ],
      "text/plain": [
       "XGBRegressor(base_score=None, booster=None, callbacks=None,\n",
       "             colsample_bylevel=None, colsample_bynode=None,\n",
       "             colsample_bytree=None, device=None, early_stopping_rounds=None,\n",
       "             enable_categorical=False, eval_metric=None, feature_types=None,\n",
       "             gamma=None, grow_policy=None, importance_type=None,\n",
       "             interaction_constraints=None, learning_rate=None, max_bin=None,\n",
       "             max_cat_threshold=None, max_cat_to_onehot=None,\n",
       "             max_delta_step=None, max_depth=None, max_leaves=None,\n",
       "             min_child_weight=None, missing=nan, monotone_constraints=None,\n",
       "             multi_strategy=None, n_estimators=None, n_jobs=None,\n",
       "             num_parallel_tree=None, random_state=None, ...)"
      ]
     },
     "execution_count": 199,
     "metadata": {},
     "output_type": "execute_result"
    }
   ],
   "source": [
    "model.fit(x_train,y_train)"
   ]
  },
  {
   "cell_type": "code",
   "execution_count": 200,
   "id": "896b5412-b078-466d-9ba1-a70e96682582",
   "metadata": {},
   "outputs": [],
   "source": [
    "pred = model.predict(x_test)"
   ]
  },
  {
   "cell_type": "code",
   "execution_count": 201,
   "id": "9a88450b-c586-46e0-801e-a11a7707334d",
   "metadata": {},
   "outputs": [
    {
     "data": {
      "text/plain": [
       "1145.1369208445203"
      ]
     },
     "execution_count": 201,
     "metadata": {},
     "output_type": "execute_result"
    }
   ],
   "source": [
    "\"\"\"\n",
    "LinearRegressor -> 1904.0070927607574\n",
    "RandomForestRegressor -> 1580.9442694709762\n",
    "xgbregressor -> 1580.9064095937372\n",
    "\n",
    "RandomForestRegressor -> 1192.357782768199 (날짜 전처리)\n",
    "xgbregressor -> 1148.0481545075852 (날짜 전처리)\n",
    "1145.1369208445203\n",
    "\"\"\"\n",
    "forest_mse = mean_squared_error(y_test, pred)\n",
    "forest_rmse = np.sqrt(forest_mse)\n",
    "forest_rmse"
   ]
  },
  {
   "cell_type": "markdown",
   "id": "6ef63302-ace0-4ed1-bf8a-c7f22c305466",
   "metadata": {},
   "source": [
    "### Submission"
   ]
  },
  {
   "cell_type": "code",
   "execution_count": 202,
   "id": "58176cdb-9e10-469a-8de6-b5bfa29b1bc9",
   "metadata": {},
   "outputs": [],
   "source": [
    "for name in ['item','corporation','location']:\n",
    "    df3.loc[:,name] = categoryChange(df3[[name]])\n",
    "    df3[name] = pd.to_numeric(df3[name])"
   ]
  },
  {
   "cell_type": "code",
   "execution_count": 205,
   "id": "80dfd13b-f19e-4d35-8c0c-a6337c56cb7c",
   "metadata": {},
   "outputs": [],
   "source": [
    "df3['timestamp'] = pd.to_datetime(df3['timestamp'])\n",
    "df3 = dateChange(df3)"
   ]
  },
  {
   "cell_type": "code",
   "execution_count": 207,
   "id": "2a38a680-ccd1-4461-8c0b-2cdce08e8549",
   "metadata": {},
   "outputs": [],
   "source": [
    "import holidays\n",
    "# 한국 휴일 객체 생성 \n",
    "kr_holidays = holidays.KR()\n",
    "\n",
    "df3.loc[:,'holiday'] = df3['timestamp'].apply(lambda a: 1 if a in kr_holidays else 0)\n",
    "\n",
    "df3.loc[:,'sunday'] = df3['timestamp'].apply(lambda a: 1 if a.weekday()==6 else 0)\n",
    "\n",
    "df3.loc[:,\"holisunDay\"] = pd.concat([df3[\"holiday\"], df3[\"sunday\"]],axis = 0,ignore_index=True)"
   ]
  },
  {
   "cell_type": "code",
   "execution_count": 210,
   "id": "22bda534-a53c-4f32-96f0-ac857a53723a",
   "metadata": {},
   "outputs": [],
   "source": [
    "df3.drop(['holiday','sunday','timestamp'],axis = 1,inplace = True)"
   ]
  },
  {
   "cell_type": "code",
   "execution_count": null,
   "id": "4386fcba-35c6-4b72-817c-766135e5a60f",
   "metadata": {},
   "outputs": [],
   "source": []
  },
  {
   "cell_type": "code",
   "execution_count": null,
   "id": "114cb9c5-1344-4e43-bcaf-e3feb400d6f0",
   "metadata": {},
   "outputs": [],
   "source": []
  },
  {
   "cell_type": "code",
   "execution_count": 212,
   "id": "ec024c68-bc5a-43c0-a998-ecd2492cec75",
   "metadata": {},
   "outputs": [],
   "source": [
    "X = df3.drop(['ID'],axis = 1)"
   ]
  },
  {
   "cell_type": "code",
   "execution_count": 213,
   "id": "1dd1d5a1-ae94-41b3-968f-ab7075faa7e8",
   "metadata": {},
   "outputs": [],
   "source": [
    "real = model.predict(X)"
   ]
  },
  {
   "cell_type": "code",
   "execution_count": 214,
   "id": "53c7179c-e6d4-4ffa-94bb-6fa653ee92c3",
   "metadata": {},
   "outputs": [
    {
     "data": {
      "text/html": [
       "<div>\n",
       "<style scoped>\n",
       "    .dataframe tbody tr th:only-of-type {\n",
       "        vertical-align: middle;\n",
       "    }\n",
       "\n",
       "    .dataframe tbody tr th {\n",
       "        vertical-align: top;\n",
       "    }\n",
       "\n",
       "    .dataframe thead th {\n",
       "        text-align: right;\n",
       "    }\n",
       "</style>\n",
       "<table border=\"1\" class=\"dataframe\">\n",
       "  <thead>\n",
       "    <tr style=\"text-align: right;\">\n",
       "      <th></th>\n",
       "      <th>ID</th>\n",
       "      <th>answer</th>\n",
       "    </tr>\n",
       "  </thead>\n",
       "  <tbody>\n",
       "    <tr>\n",
       "      <th>0</th>\n",
       "      <td>TG_A_J_20230304</td>\n",
       "      <td>0</td>\n",
       "    </tr>\n",
       "    <tr>\n",
       "      <th>1</th>\n",
       "      <td>TG_A_J_20230305</td>\n",
       "      <td>0</td>\n",
       "    </tr>\n",
       "    <tr>\n",
       "      <th>2</th>\n",
       "      <td>TG_A_J_20230306</td>\n",
       "      <td>0</td>\n",
       "    </tr>\n",
       "    <tr>\n",
       "      <th>3</th>\n",
       "      <td>TG_A_J_20230307</td>\n",
       "      <td>0</td>\n",
       "    </tr>\n",
       "    <tr>\n",
       "      <th>4</th>\n",
       "      <td>TG_A_J_20230308</td>\n",
       "      <td>0</td>\n",
       "    </tr>\n",
       "    <tr>\n",
       "      <th>...</th>\n",
       "      <td>...</td>\n",
       "      <td>...</td>\n",
       "    </tr>\n",
       "    <tr>\n",
       "      <th>1087</th>\n",
       "      <td>RD_F_J_20230327</td>\n",
       "      <td>0</td>\n",
       "    </tr>\n",
       "    <tr>\n",
       "      <th>1088</th>\n",
       "      <td>RD_F_J_20230328</td>\n",
       "      <td>0</td>\n",
       "    </tr>\n",
       "    <tr>\n",
       "      <th>1089</th>\n",
       "      <td>RD_F_J_20230329</td>\n",
       "      <td>0</td>\n",
       "    </tr>\n",
       "    <tr>\n",
       "      <th>1090</th>\n",
       "      <td>RD_F_J_20230330</td>\n",
       "      <td>0</td>\n",
       "    </tr>\n",
       "    <tr>\n",
       "      <th>1091</th>\n",
       "      <td>RD_F_J_20230331</td>\n",
       "      <td>0</td>\n",
       "    </tr>\n",
       "  </tbody>\n",
       "</table>\n",
       "<p>1092 rows × 2 columns</p>\n",
       "</div>"
      ],
      "text/plain": [
       "                   ID  answer\n",
       "0     TG_A_J_20230304       0\n",
       "1     TG_A_J_20230305       0\n",
       "2     TG_A_J_20230306       0\n",
       "3     TG_A_J_20230307       0\n",
       "4     TG_A_J_20230308       0\n",
       "...               ...     ...\n",
       "1087  RD_F_J_20230327       0\n",
       "1088  RD_F_J_20230328       0\n",
       "1089  RD_F_J_20230329       0\n",
       "1090  RD_F_J_20230330       0\n",
       "1091  RD_F_J_20230331       0\n",
       "\n",
       "[1092 rows x 2 columns]"
      ]
     },
     "execution_count": 214,
     "metadata": {},
     "output_type": "execute_result"
    }
   ],
   "source": [
    "df2"
   ]
  },
  {
   "cell_type": "code",
   "execution_count": 215,
   "id": "4f6f72e2-0cd9-4a58-846d-10a07a8f606c",
   "metadata": {},
   "outputs": [],
   "source": [
    "df2.loc[:,'answer'] = real"
   ]
  },
  {
   "cell_type": "code",
   "execution_count": 216,
   "id": "5013268a-bba0-4496-a134-8d66fc432da2",
   "metadata": {},
   "outputs": [
    {
     "data": {
      "text/plain": [
       "0       2947.173584\n",
       "1       1696.663208\n",
       "2       2382.136719\n",
       "3       2962.096924\n",
       "4       3452.773438\n",
       "           ...     \n",
       "1087     439.648499\n",
       "1088     917.850708\n",
       "1089      87.716927\n",
       "1090    1146.545044\n",
       "1091    1189.047241\n",
       "Name: answer, Length: 1092, dtype: float32"
      ]
     },
     "execution_count": 216,
     "metadata": {},
     "output_type": "execute_result"
    }
   ],
   "source": [
    "df2['answer']"
   ]
  },
  {
   "cell_type": "code",
   "execution_count": 217,
   "id": "929227c2-30a7-4aee-a4f0-4654df91130a",
   "metadata": {},
   "outputs": [],
   "source": [
    "df2.to_csv(\"answer.csv\",index = False)"
   ]
  },
  {
   "cell_type": "code",
   "execution_count": null,
   "id": "abd1111d-9013-4e65-a1f2-48b0aea73146",
   "metadata": {},
   "outputs": [],
   "source": []
  }
 ],
 "metadata": {
  "kernelspec": {
   "display_name": "Python 3 (ipykernel)",
   "language": "python",
   "name": "python3"
  },
  "language_info": {
   "codemirror_mode": {
    "name": "ipython",
    "version": 3
   },
   "file_extension": ".py",
   "mimetype": "text/x-python",
   "name": "python",
   "nbconvert_exporter": "python",
   "pygments_lexer": "ipython3",
   "version": "3.11.5"
  }
 },
 "nbformat": 4,
 "nbformat_minor": 5
}
