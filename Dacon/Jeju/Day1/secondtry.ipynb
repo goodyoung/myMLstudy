{
 "cells": [
  {
   "cell_type": "markdown",
   "id": "b7c7ea9f-d5b2-4838-aa41-aeda63b2477b",
   "metadata": {},
   "source": [
    "# 모델 변경 및 약간의 전처리\n",
    "- XGBRegressor 변경\n",
    "- 날짜 분리\n",
    "- Second: 246 (1280.75201)"
   ]
  },
  {
   "cell_type": "code",
   "execution_count": 157,
   "id": "11126eb5-4c76-4333-a620-b11c101d337c",
   "metadata": {},
   "outputs": [],
   "source": [
    "import pandas as pd\n",
    "from sklearn.preprocessing import OrdinalEncoder\n",
    "# from sklearn.linear_model import LinearRegression\n",
    "from sklearn.ensemble import RandomForestRegressor\n",
    "from sklearn.model_selection import train_test_split\n",
    "import numpy as np\n",
    "from sklearn.metrics import mean_squared_error\n",
    "import xgboost as xgb"
   ]
  },
  {
   "cell_type": "code",
   "execution_count": 158,
   "id": "2196be35-04a5-459c-873e-0a6726258afe",
   "metadata": {},
   "outputs": [],
   "source": [
    "# !pip3 install xgboost\n",
    "# !pip3 uninstall lightgbm -y"
   ]
  },
  {
   "cell_type": "markdown",
   "id": "03cc123e-539b-484d-8586-cc320ef34a8b",
   "metadata": {},
   "source": [
    "### data load"
   ]
  },
  {
   "cell_type": "code",
   "execution_count": 159,
   "id": "3f92c68a-6fe8-4023-8b09-2f1f2bf6a92d",
   "metadata": {},
   "outputs": [],
   "source": [
    "df1 = pd.read_csv(\"../dataset/international_trade.csv\")\n",
    "df2 = pd.read_csv(\"../dataset/sample_submission.csv\")\n",
    "df3 = pd.read_csv(\"../dataset/test.csv\")\n",
    "df4 = pd.read_csv(\"../dataset/train.csv\")"
   ]
  },
  {
   "cell_type": "markdown",
   "id": "2d4e4c48-15c9-4340-a7b5-c168662614c1",
   "metadata": {},
   "source": [
    "## preprocessing"
   ]
  },
  {
   "cell_type": "markdown",
   "id": "8df2ba54-1a3e-4fde-88f8-6aa07f98d9f6",
   "metadata": {},
   "source": [
    "### 수치화"
   ]
  },
  {
   "cell_type": "code",
   "execution_count": 160,
   "id": "8d26bd0f-65ee-41eb-b1b6-a3e24be04d84",
   "metadata": {},
   "outputs": [],
   "source": [
    "df4 = df4.drop('ID',axis = 1)"
   ]
  },
  {
   "cell_type": "code",
   "execution_count": 161,
   "id": "ab5ae0c3-0089-4ab0-8734-ad97ead2162a",
   "metadata": {},
   "outputs": [],
   "source": [
    "def categoryChange(df):\n",
    "    \"\"\" 카테고리화 \"\"\"\n",
    "    ordinal_encoder = OrdinalEncoder()\n",
    "    ordinal = ordinal_encoder.fit_transform(df)\n",
    "    return ordinal"
   ]
  },
  {
   "cell_type": "code",
   "execution_count": 162,
   "id": "4ec66735-79b5-44d1-abc8-9322bd99dac1",
   "metadata": {},
   "outputs": [],
   "source": [
    "for name in ['item','corporation','location']:\n",
    "    df4.loc[:,name] = categoryChange(df4[[name]])\n",
    "    df4[name] = pd.to_numeric(df4[name])"
   ]
  },
  {
   "cell_type": "markdown",
   "id": "9f45df06-e389-41dd-969b-b4d0322d7745",
   "metadata": {},
   "source": [
    "### 날짜 분리"
   ]
  },
  {
   "cell_type": "code",
   "execution_count": 163,
   "id": "a46559f3-5d9d-48dc-a829-a8a6c3140ee2",
   "metadata": {},
   "outputs": [],
   "source": [
    "df4['timestamp'] = pd.to_datetime(df4['timestamp'])\n",
    "def dateChange(df):\n",
    "    df.loc[:,'year'] = df['timestamp'].dt.year\n",
    "    df.loc[:,'month'] = df['timestamp'].dt.month\n",
    "    df.loc[:,'day'] = df['timestamp'].dt.day\n",
    "    df.drop('timestamp',axis = 1, inplace = True)\n",
    "    return df "
   ]
  },
  {
   "cell_type": "code",
   "execution_count": 164,
   "id": "4a07da81-7b6b-4244-ad4e-3e88fd0ea31f",
   "metadata": {},
   "outputs": [],
   "source": [
    "df4 = dateChange(df4)"
   ]
  },
  {
   "cell_type": "markdown",
   "id": "6db8005e-457f-480e-98cd-0c3e70265186",
   "metadata": {},
   "source": [
    "### model training"
   ]
  },
  {
   "cell_type": "code",
   "execution_count": 165,
   "id": "ab201512-7f44-431a-8f17-e232cf6fe9e6",
   "metadata": {},
   "outputs": [],
   "source": [
    "X = df4.drop(['price(원/kg)','supply(kg)'],axis = 1)\n",
    "Y = df4['price(원/kg)']"
   ]
  },
  {
   "cell_type": "code",
   "execution_count": 166,
   "id": "b9278158-208d-4423-bd14-9fe5d6d49e50",
   "metadata": {},
   "outputs": [],
   "source": [
    "x_train, x_test, y_train, y_test = train_test_split(X,Y, test_size=0.2, random_state=42,stratify= df4['item'])"
   ]
  },
  {
   "cell_type": "code",
   "execution_count": 167,
   "id": "acb49004-a6d2-4a07-adb8-193db2fc8480",
   "metadata": {},
   "outputs": [],
   "source": [
    "model = RandomForestRegressor()"
   ]
  },
  {
   "cell_type": "code",
   "execution_count": 168,
   "id": "0eb17844-04ed-4bc9-9ccc-0ef698ed4a66",
   "metadata": {},
   "outputs": [],
   "source": [
    "model = xgb.XGBRegressor()"
   ]
  },
  {
   "cell_type": "code",
   "execution_count": 169,
   "id": "2738ad67-24fa-497d-b6f6-0bda8e99aad3",
   "metadata": {
    "collapsed": true,
    "jupyter": {
     "outputs_hidden": true
    }
   },
   "outputs": [
    {
     "data": {
      "text/html": [
       "<style>#sk-container-id-7 {color: black;}#sk-container-id-7 pre{padding: 0;}#sk-container-id-7 div.sk-toggleable {background-color: white;}#sk-container-id-7 label.sk-toggleable__label {cursor: pointer;display: block;width: 100%;margin-bottom: 0;padding: 0.3em;box-sizing: border-box;text-align: center;}#sk-container-id-7 label.sk-toggleable__label-arrow:before {content: \"▸\";float: left;margin-right: 0.25em;color: #696969;}#sk-container-id-7 label.sk-toggleable__label-arrow:hover:before {color: black;}#sk-container-id-7 div.sk-estimator:hover label.sk-toggleable__label-arrow:before {color: black;}#sk-container-id-7 div.sk-toggleable__content {max-height: 0;max-width: 0;overflow: hidden;text-align: left;background-color: #f0f8ff;}#sk-container-id-7 div.sk-toggleable__content pre {margin: 0.2em;color: black;border-radius: 0.25em;background-color: #f0f8ff;}#sk-container-id-7 input.sk-toggleable__control:checked~div.sk-toggleable__content {max-height: 200px;max-width: 100%;overflow: auto;}#sk-container-id-7 input.sk-toggleable__control:checked~label.sk-toggleable__label-arrow:before {content: \"▾\";}#sk-container-id-7 div.sk-estimator input.sk-toggleable__control:checked~label.sk-toggleable__label {background-color: #d4ebff;}#sk-container-id-7 div.sk-label input.sk-toggleable__control:checked~label.sk-toggleable__label {background-color: #d4ebff;}#sk-container-id-7 input.sk-hidden--visually {border: 0;clip: rect(1px 1px 1px 1px);clip: rect(1px, 1px, 1px, 1px);height: 1px;margin: -1px;overflow: hidden;padding: 0;position: absolute;width: 1px;}#sk-container-id-7 div.sk-estimator {font-family: monospace;background-color: #f0f8ff;border: 1px dotted black;border-radius: 0.25em;box-sizing: border-box;margin-bottom: 0.5em;}#sk-container-id-7 div.sk-estimator:hover {background-color: #d4ebff;}#sk-container-id-7 div.sk-parallel-item::after {content: \"\";width: 100%;border-bottom: 1px solid gray;flex-grow: 1;}#sk-container-id-7 div.sk-label:hover label.sk-toggleable__label {background-color: #d4ebff;}#sk-container-id-7 div.sk-serial::before {content: \"\";position: absolute;border-left: 1px solid gray;box-sizing: border-box;top: 0;bottom: 0;left: 50%;z-index: 0;}#sk-container-id-7 div.sk-serial {display: flex;flex-direction: column;align-items: center;background-color: white;padding-right: 0.2em;padding-left: 0.2em;position: relative;}#sk-container-id-7 div.sk-item {position: relative;z-index: 1;}#sk-container-id-7 div.sk-parallel {display: flex;align-items: stretch;justify-content: center;background-color: white;position: relative;}#sk-container-id-7 div.sk-item::before, #sk-container-id-7 div.sk-parallel-item::before {content: \"\";position: absolute;border-left: 1px solid gray;box-sizing: border-box;top: 0;bottom: 0;left: 50%;z-index: -1;}#sk-container-id-7 div.sk-parallel-item {display: flex;flex-direction: column;z-index: 1;position: relative;background-color: white;}#sk-container-id-7 div.sk-parallel-item:first-child::after {align-self: flex-end;width: 50%;}#sk-container-id-7 div.sk-parallel-item:last-child::after {align-self: flex-start;width: 50%;}#sk-container-id-7 div.sk-parallel-item:only-child::after {width: 0;}#sk-container-id-7 div.sk-dashed-wrapped {border: 1px dashed gray;margin: 0 0.4em 0.5em 0.4em;box-sizing: border-box;padding-bottom: 0.4em;background-color: white;}#sk-container-id-7 div.sk-label label {font-family: monospace;font-weight: bold;display: inline-block;line-height: 1.2em;}#sk-container-id-7 div.sk-label-container {text-align: center;}#sk-container-id-7 div.sk-container {/* jupyter's `normalize.less` sets `[hidden] { display: none; }` but bootstrap.min.css set `[hidden] { display: none !important; }` so we also need the `!important` here to be able to override the default hidden behavior on the sphinx rendered scikit-learn.org. See: https://github.com/scikit-learn/scikit-learn/issues/21755 */display: inline-block !important;position: relative;}#sk-container-id-7 div.sk-text-repr-fallback {display: none;}</style><div id=\"sk-container-id-7\" class=\"sk-top-container\"><div class=\"sk-text-repr-fallback\"><pre>XGBRegressor(base_score=None, booster=None, callbacks=None,\n",
       "             colsample_bylevel=None, colsample_bynode=None,\n",
       "             colsample_bytree=None, device=None, early_stopping_rounds=None,\n",
       "             enable_categorical=False, eval_metric=None, feature_types=None,\n",
       "             gamma=None, grow_policy=None, importance_type=None,\n",
       "             interaction_constraints=None, learning_rate=None, max_bin=None,\n",
       "             max_cat_threshold=None, max_cat_to_onehot=None,\n",
       "             max_delta_step=None, max_depth=None, max_leaves=None,\n",
       "             min_child_weight=None, missing=nan, monotone_constraints=None,\n",
       "             multi_strategy=None, n_estimators=None, n_jobs=None,\n",
       "             num_parallel_tree=None, random_state=None, ...)</pre><b>In a Jupyter environment, please rerun this cell to show the HTML representation or trust the notebook. <br />On GitHub, the HTML representation is unable to render, please try loading this page with nbviewer.org.</b></div><div class=\"sk-container\" hidden><div class=\"sk-item\"><div class=\"sk-estimator sk-toggleable\"><input class=\"sk-toggleable__control sk-hidden--visually\" id=\"sk-estimator-id-7\" type=\"checkbox\" checked><label for=\"sk-estimator-id-7\" class=\"sk-toggleable__label sk-toggleable__label-arrow\">XGBRegressor</label><div class=\"sk-toggleable__content\"><pre>XGBRegressor(base_score=None, booster=None, callbacks=None,\n",
       "             colsample_bylevel=None, colsample_bynode=None,\n",
       "             colsample_bytree=None, device=None, early_stopping_rounds=None,\n",
       "             enable_categorical=False, eval_metric=None, feature_types=None,\n",
       "             gamma=None, grow_policy=None, importance_type=None,\n",
       "             interaction_constraints=None, learning_rate=None, max_bin=None,\n",
       "             max_cat_threshold=None, max_cat_to_onehot=None,\n",
       "             max_delta_step=None, max_depth=None, max_leaves=None,\n",
       "             min_child_weight=None, missing=nan, monotone_constraints=None,\n",
       "             multi_strategy=None, n_estimators=None, n_jobs=None,\n",
       "             num_parallel_tree=None, random_state=None, ...)</pre></div></div></div></div></div>"
      ],
      "text/plain": [
       "XGBRegressor(base_score=None, booster=None, callbacks=None,\n",
       "             colsample_bylevel=None, colsample_bynode=None,\n",
       "             colsample_bytree=None, device=None, early_stopping_rounds=None,\n",
       "             enable_categorical=False, eval_metric=None, feature_types=None,\n",
       "             gamma=None, grow_policy=None, importance_type=None,\n",
       "             interaction_constraints=None, learning_rate=None, max_bin=None,\n",
       "             max_cat_threshold=None, max_cat_to_onehot=None,\n",
       "             max_delta_step=None, max_depth=None, max_leaves=None,\n",
       "             min_child_weight=None, missing=nan, monotone_constraints=None,\n",
       "             multi_strategy=None, n_estimators=None, n_jobs=None,\n",
       "             num_parallel_tree=None, random_state=None, ...)"
      ]
     },
     "execution_count": 169,
     "metadata": {},
     "output_type": "execute_result"
    }
   ],
   "source": [
    "model.fit(x_train,y_train)"
   ]
  },
  {
   "cell_type": "code",
   "execution_count": 170,
   "id": "9e733404-a54a-439a-9295-c0dd8c562446",
   "metadata": {},
   "outputs": [],
   "source": [
    "pred = model.predict(x_test)"
   ]
  },
  {
   "cell_type": "code",
   "execution_count": 171,
   "id": "8c77c3fb-1c47-4201-9547-6c4055cc7d3b",
   "metadata": {},
   "outputs": [
    {
     "data": {
      "text/plain": [
       "1148.0481545075852"
      ]
     },
     "execution_count": 171,
     "metadata": {},
     "output_type": "execute_result"
    }
   ],
   "source": [
    "\"\"\"\n",
    "LinearRegressor -> 1904.0070927607574\n",
    "RandomForestRegressor -> 1580.9442694709762\n",
    "xgbregressor -> 1580.9064095937372\n",
    "\n",
    "RandomForestRegressor -> 1192.357782768199 (날짜 전처리)\n",
    "xgbregressor -> 1148.0481545075852 (날짜 전처리)\n",
    "\"\"\"\n",
    "forest_mse = mean_squared_error(y_test, pred)\n",
    "forest_rmse = np.sqrt(forest_mse)\n",
    "forest_rmse"
   ]
  },
  {
   "cell_type": "markdown",
   "id": "a17b9ec0-2855-42a4-8edc-b0067d101fea",
   "metadata": {},
   "source": [
    "### Submission"
   ]
  },
  {
   "cell_type": "code",
   "execution_count": 172,
   "id": "7d85a6fa-8fe8-4b2a-a214-674985991220",
   "metadata": {},
   "outputs": [],
   "source": [
    "for name in ['item','corporation','location']:\n",
    "    df3.loc[:,name] = categoryChange(df3[[name]])\n",
    "    df3[name] = pd.to_numeric(df3[name])"
   ]
  },
  {
   "cell_type": "code",
   "execution_count": 173,
   "id": "7677cb32-1f06-4351-ad24-2f701981b038",
   "metadata": {},
   "outputs": [],
   "source": [
    "df3['timestamp'] = pd.to_datetime(df3['timestamp'])\n",
    "df3 = dateChange(df3)"
   ]
  },
  {
   "cell_type": "code",
   "execution_count": 174,
   "id": "14de96db-b653-4b25-8e36-86397300b016",
   "metadata": {},
   "outputs": [],
   "source": [
    "X = df3.drop(['ID'],axis = 1)"
   ]
  },
  {
   "cell_type": "code",
   "execution_count": 175,
   "id": "7231584c-71a5-48cb-938a-33db9ff9d2c1",
   "metadata": {},
   "outputs": [],
   "source": [
    "real = model.predict(X)"
   ]
  },
  {
   "cell_type": "code",
   "execution_count": 176,
   "id": "da167129-9cda-4267-9857-df6d17f8b96a",
   "metadata": {},
   "outputs": [
    {
     "data": {
      "text/html": [
       "<div>\n",
       "<style scoped>\n",
       "    .dataframe tbody tr th:only-of-type {\n",
       "        vertical-align: middle;\n",
       "    }\n",
       "\n",
       "    .dataframe tbody tr th {\n",
       "        vertical-align: top;\n",
       "    }\n",
       "\n",
       "    .dataframe thead th {\n",
       "        text-align: right;\n",
       "    }\n",
       "</style>\n",
       "<table border=\"1\" class=\"dataframe\">\n",
       "  <thead>\n",
       "    <tr style=\"text-align: right;\">\n",
       "      <th></th>\n",
       "      <th>ID</th>\n",
       "      <th>answer</th>\n",
       "    </tr>\n",
       "  </thead>\n",
       "  <tbody>\n",
       "    <tr>\n",
       "      <th>0</th>\n",
       "      <td>TG_A_J_20230304</td>\n",
       "      <td>0</td>\n",
       "    </tr>\n",
       "    <tr>\n",
       "      <th>1</th>\n",
       "      <td>TG_A_J_20230305</td>\n",
       "      <td>0</td>\n",
       "    </tr>\n",
       "    <tr>\n",
       "      <th>2</th>\n",
       "      <td>TG_A_J_20230306</td>\n",
       "      <td>0</td>\n",
       "    </tr>\n",
       "    <tr>\n",
       "      <th>3</th>\n",
       "      <td>TG_A_J_20230307</td>\n",
       "      <td>0</td>\n",
       "    </tr>\n",
       "    <tr>\n",
       "      <th>4</th>\n",
       "      <td>TG_A_J_20230308</td>\n",
       "      <td>0</td>\n",
       "    </tr>\n",
       "    <tr>\n",
       "      <th>...</th>\n",
       "      <td>...</td>\n",
       "      <td>...</td>\n",
       "    </tr>\n",
       "    <tr>\n",
       "      <th>1087</th>\n",
       "      <td>RD_F_J_20230327</td>\n",
       "      <td>0</td>\n",
       "    </tr>\n",
       "    <tr>\n",
       "      <th>1088</th>\n",
       "      <td>RD_F_J_20230328</td>\n",
       "      <td>0</td>\n",
       "    </tr>\n",
       "    <tr>\n",
       "      <th>1089</th>\n",
       "      <td>RD_F_J_20230329</td>\n",
       "      <td>0</td>\n",
       "    </tr>\n",
       "    <tr>\n",
       "      <th>1090</th>\n",
       "      <td>RD_F_J_20230330</td>\n",
       "      <td>0</td>\n",
       "    </tr>\n",
       "    <tr>\n",
       "      <th>1091</th>\n",
       "      <td>RD_F_J_20230331</td>\n",
       "      <td>0</td>\n",
       "    </tr>\n",
       "  </tbody>\n",
       "</table>\n",
       "<p>1092 rows × 2 columns</p>\n",
       "</div>"
      ],
      "text/plain": [
       "                   ID  answer\n",
       "0     TG_A_J_20230304       0\n",
       "1     TG_A_J_20230305       0\n",
       "2     TG_A_J_20230306       0\n",
       "3     TG_A_J_20230307       0\n",
       "4     TG_A_J_20230308       0\n",
       "...               ...     ...\n",
       "1087  RD_F_J_20230327       0\n",
       "1088  RD_F_J_20230328       0\n",
       "1089  RD_F_J_20230329       0\n",
       "1090  RD_F_J_20230330       0\n",
       "1091  RD_F_J_20230331       0\n",
       "\n",
       "[1092 rows x 2 columns]"
      ]
     },
     "execution_count": 176,
     "metadata": {},
     "output_type": "execute_result"
    }
   ],
   "source": [
    "df2"
   ]
  },
  {
   "cell_type": "code",
   "execution_count": 177,
   "id": "47d182c6-9802-4eca-ae6c-cf946a802c53",
   "metadata": {},
   "outputs": [],
   "source": [
    "df2.loc[:,'answer'] = real"
   ]
  },
  {
   "cell_type": "code",
   "execution_count": 178,
   "id": "65365d9f-477f-4a3d-ae77-5927ab3cd896",
   "metadata": {},
   "outputs": [
    {
     "data": {
      "text/plain": [
       "0       3183.660889\n",
       "1       2218.040283\n",
       "2       1619.587402\n",
       "3       3205.671143\n",
       "4       3774.634033\n",
       "           ...     \n",
       "1087     499.533447\n",
       "1088     704.366150\n",
       "1089      96.116341\n",
       "1090     978.899475\n",
       "1091    1142.099731\n",
       "Name: answer, Length: 1092, dtype: float32"
      ]
     },
     "execution_count": 178,
     "metadata": {},
     "output_type": "execute_result"
    }
   ],
   "source": [
    "df2['answer']"
   ]
  },
  {
   "cell_type": "code",
   "execution_count": 179,
   "id": "f966c74b-12e1-444d-b266-169963e900b0",
   "metadata": {},
   "outputs": [],
   "source": [
    "df2.to_csv(\"answer.csv\",index = False)"
   ]
  },
  {
   "cell_type": "code",
   "execution_count": null,
   "id": "ee6c26b2-c13a-4171-89d8-8b5d0c72b203",
   "metadata": {},
   "outputs": [],
   "source": []
  }
 ],
 "metadata": {
  "kernelspec": {
   "display_name": "Python 3 (ipykernel)",
   "language": "python",
   "name": "python3"
  },
  "language_info": {
   "codemirror_mode": {
    "name": "ipython",
    "version": 3
   },
   "file_extension": ".py",
   "mimetype": "text/x-python",
   "name": "python",
   "nbconvert_exporter": "python",
   "pygments_lexer": "ipython3",
   "version": "3.11.5"
  }
 },
 "nbformat": 4,
 "nbformat_minor": 5
}
