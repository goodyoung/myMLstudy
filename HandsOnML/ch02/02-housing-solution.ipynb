{
 "cells": [
  {
   "cell_type": "markdown",
   "id": "0bf7c152-962f-4b44-995d-2bc413a7db6a",
   "metadata": {},
   "source": [
    "# Startified 와 Random Stratified가 같다\n",
    "### train_test_split의 stratify의 파라미터는 계층적 샘플링을 지원해주는 파라미터이다."
   ]
  },
  {
   "cell_type": "code",
   "execution_count": 34,
   "id": "2c4aafbd-4e4f-4c3a-bd86-acee0905c282",
   "metadata": {},
   "outputs": [],
   "source": [
    "import pandas as pd\n",
    "import numpy as np"
   ]
  },
  {
   "cell_type": "code",
   "execution_count": 35,
   "id": "1cd10102-d518-42f3-a86b-148737db2345",
   "metadata": {},
   "outputs": [],
   "source": [
    "df = pd.read_csv(\"housing.csv\")"
   ]
  },
  {
   "cell_type": "code",
   "execution_count": 36,
   "id": "f1c321ed-db65-4d74-b4fc-b9a60c712cfd",
   "metadata": {},
   "outputs": [],
   "source": [
    "df[\"income_cat\"] = pd.cut(df[\"median_income\"],\n",
    "                               bins=[0., 1.5, 3.0, 4.5, 6., np.inf],\n",
    "                               labels=[1, 2, 3, 4, 5])"
   ]
  },
  {
   "cell_type": "markdown",
   "id": "d5ec0e25-412a-4bd0-9657-ca9b39d966e8",
   "metadata": {},
   "source": [
    "### main"
   ]
  },
  {
   "cell_type": "code",
   "execution_count": 39,
   "id": "3e306cd3-5b9f-4382-afc7-19342d17318a",
   "metadata": {},
   "outputs": [],
   "source": [
    "from sklearn.model_selection import StratifiedShuffleSplit\n",
    "#계층적 샘플링\n",
    "split = StratifiedShuffleSplit(n_splits=1, test_size=0.2, random_state=42)\n",
    "for train_index, test_index in split.split(df, df[\"income_cat\"]):\n",
    "    strat_train_set = df.loc[train_index]\n",
    "    strat_test_set = df.loc[test_index]"
   ]
  },
  {
   "cell_type": "code",
   "execution_count": 43,
   "id": "381d844d-9fa2-4574-af9d-9455a1bb42f3",
   "metadata": {},
   "outputs": [],
   "source": [
    "def income_cat_proportions(data):\n",
    "    return data[\"income_cat\"].value_counts() / len(data)\n",
    "#랜덤\n",
    "train_set, test_set = train_test_split(df, test_size=0.2, random_state=42)\n",
    "#랜덤 계층적\n",
    "rand_strat_train_set, rand_strat_test_set = train_test_split(df, test_size=0.2, random_state=42,stratify=df[\"income_cat\"])\n",
    "\n",
    "#\n",
    "compare_props = pd.DataFrame({\n",
    "    \"Overall\": income_cat_proportions(df),\n",
    "    \"Stratified\": income_cat_proportions(strat_test_set),\n",
    "    \"Random\": income_cat_proportions(test_set),\n",
    "    \"Random Stratified\": income_cat_proportions(strat_train_set),\n",
    "}).sort_index()\n",
    "\n",
    "compare_props[\"Rand. %error\"] = 100 * compare_props[\"Random\"] / compare_props[\"Overall\"] - 100\n",
    "compare_props[\"Strat. %error\"] = 100 * compare_props[\"Stratified\"] / compare_props[\"Overall\"] - 100\n",
    "compare_props[\"Random Stratified. %error\"] = 100 * compare_props[\"Random Stratified\"] / compare_props[\"Overall\"] - 100"
   ]
  },
  {
   "cell_type": "code",
   "execution_count": 44,
   "id": "4b59bc13-a461-4c6a-80b9-b5ddeeb49866",
   "metadata": {},
   "outputs": [
    {
     "data": {
      "text/html": [
       "<div>\n",
       "<style scoped>\n",
       "    .dataframe tbody tr th:only-of-type {\n",
       "        vertical-align: middle;\n",
       "    }\n",
       "\n",
       "    .dataframe tbody tr th {\n",
       "        vertical-align: top;\n",
       "    }\n",
       "\n",
       "    .dataframe thead th {\n",
       "        text-align: right;\n",
       "    }\n",
       "</style>\n",
       "<table border=\"1\" class=\"dataframe\">\n",
       "  <thead>\n",
       "    <tr style=\"text-align: right;\">\n",
       "      <th></th>\n",
       "      <th>Overall</th>\n",
       "      <th>Stratified</th>\n",
       "      <th>Random</th>\n",
       "      <th>Random Stratified</th>\n",
       "      <th>Rand. %error</th>\n",
       "      <th>Strat. %error</th>\n",
       "      <th>Random Stratified. %error</th>\n",
       "    </tr>\n",
       "    <tr>\n",
       "      <th>income_cat</th>\n",
       "      <th></th>\n",
       "      <th></th>\n",
       "      <th></th>\n",
       "      <th></th>\n",
       "      <th></th>\n",
       "      <th></th>\n",
       "      <th></th>\n",
       "    </tr>\n",
       "  </thead>\n",
       "  <tbody>\n",
       "    <tr>\n",
       "      <th>1</th>\n",
       "      <td>0.039826</td>\n",
       "      <td>0.039971</td>\n",
       "      <td>0.040213</td>\n",
       "      <td>0.039789</td>\n",
       "      <td>0.973236</td>\n",
       "      <td>0.364964</td>\n",
       "      <td>-0.091241</td>\n",
       "    </tr>\n",
       "    <tr>\n",
       "      <th>2</th>\n",
       "      <td>0.318847</td>\n",
       "      <td>0.318798</td>\n",
       "      <td>0.324370</td>\n",
       "      <td>0.318859</td>\n",
       "      <td>1.732260</td>\n",
       "      <td>-0.015195</td>\n",
       "      <td>0.003799</td>\n",
       "    </tr>\n",
       "    <tr>\n",
       "      <th>3</th>\n",
       "      <td>0.350581</td>\n",
       "      <td>0.350533</td>\n",
       "      <td>0.358527</td>\n",
       "      <td>0.350594</td>\n",
       "      <td>2.266446</td>\n",
       "      <td>-0.013820</td>\n",
       "      <td>0.003455</td>\n",
       "    </tr>\n",
       "    <tr>\n",
       "      <th>4</th>\n",
       "      <td>0.176308</td>\n",
       "      <td>0.176357</td>\n",
       "      <td>0.167393</td>\n",
       "      <td>0.176296</td>\n",
       "      <td>-5.056334</td>\n",
       "      <td>0.027480</td>\n",
       "      <td>-0.006870</td>\n",
       "    </tr>\n",
       "    <tr>\n",
       "      <th>5</th>\n",
       "      <td>0.114438</td>\n",
       "      <td>0.114341</td>\n",
       "      <td>0.109496</td>\n",
       "      <td>0.114462</td>\n",
       "      <td>-4.318374</td>\n",
       "      <td>-0.084674</td>\n",
       "      <td>0.021169</td>\n",
       "    </tr>\n",
       "  </tbody>\n",
       "</table>\n",
       "</div>"
      ],
      "text/plain": [
       "             Overall  Stratified    Random  Random Stratified  Rand. %error  \\\n",
       "income_cat                                                                    \n",
       "1           0.039826    0.039971  0.040213           0.039789      0.973236   \n",
       "2           0.318847    0.318798  0.324370           0.318859      1.732260   \n",
       "3           0.350581    0.350533  0.358527           0.350594      2.266446   \n",
       "4           0.176308    0.176357  0.167393           0.176296     -5.056334   \n",
       "5           0.114438    0.114341  0.109496           0.114462     -4.318374   \n",
       "\n",
       "            Strat. %error  Random Stratified. %error  \n",
       "income_cat                                            \n",
       "1                0.364964                  -0.091241  \n",
       "2               -0.015195                   0.003799  \n",
       "3               -0.013820                   0.003455  \n",
       "4                0.027480                  -0.006870  \n",
       "5               -0.084674                   0.021169  "
      ]
     },
     "execution_count": 44,
     "metadata": {},
     "output_type": "execute_result"
    }
   ],
   "source": [
    "compare_props"
   ]
  },
  {
   "cell_type": "code",
   "execution_count": null,
   "id": "1b2a728e-6c6c-47bc-9de7-ef99dcbf61d7",
   "metadata": {},
   "outputs": [],
   "source": []
  }
 ],
 "metadata": {
  "kernelspec": {
   "display_name": "Python 3 (ipykernel)",
   "language": "python",
   "name": "python3"
  },
  "language_info": {
   "codemirror_mode": {
    "name": "ipython",
    "version": 3
   },
   "file_extension": ".py",
   "mimetype": "text/x-python",
   "name": "python",
   "nbconvert_exporter": "python",
   "pygments_lexer": "ipython3",
   "version": "3.11.5"
  }
 },
 "nbformat": 4,
 "nbformat_minor": 5
}
