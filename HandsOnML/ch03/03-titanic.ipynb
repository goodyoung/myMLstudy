{
 "cells": [
  {
   "cell_type": "markdown",
   "id": "cbb821d2-5972-4364-b1d1-5a351364d8ae",
   "metadata": {},
   "source": [
    "# 타이타닉 프로세스"
   ]
  },
  {
   "cell_type": "code",
   "execution_count": 19,
   "id": "1b6547b2-3ad8-45f7-b5e7-c8c455b63cd0",
   "metadata": {},
   "outputs": [],
   "source": [
    "import pandas as pd"
   ]
  },
  {
   "cell_type": "code",
   "execution_count": 20,
   "id": "6d4619e7-5777-4e42-bc92-f105f5ce2446",
   "metadata": {},
   "outputs": [],
   "source": [
    "df_train = pd.read_csv(\"train.csv\")"
   ]
  },
  {
   "cell_type": "code",
   "execution_count": 21,
   "id": "c9755192-ead4-498f-8375-eb21fbefa08e",
   "metadata": {},
   "outputs": [],
   "source": [
    "df_test = pd.read_csv(\"test.csv\")"
   ]
  },
  {
   "cell_type": "code",
   "execution_count": 22,
   "id": "d3c75170-56eb-4408-a686-d980ac457bec",
   "metadata": {},
   "outputs": [
    {
     "data": {
      "text/plain": [
       "Index(['PassengerId', 'Survived', 'Pclass', 'Name', 'Sex', 'Age', 'SibSp',\n",
       "       'Parch', 'Ticket', 'Fare', 'Cabin', 'Embarked'],\n",
       "      dtype='object')"
      ]
     },
     "execution_count": 22,
     "metadata": {},
     "output_type": "execute_result"
    }
   ],
   "source": [
    "df_train.columns"
   ]
  },
  {
   "cell_type": "code",
   "execution_count": 23,
   "id": "72e02d3f-d3c4-4c82-a2f3-15b3d74d0208",
   "metadata": {},
   "outputs": [
    {
     "name": "stdout",
     "output_type": "stream",
     "text": [
      "<class 'pandas.core.frame.DataFrame'>\n",
      "RangeIndex: 891 entries, 0 to 890\n",
      "Data columns (total 12 columns):\n",
      " #   Column       Non-Null Count  Dtype  \n",
      "---  ------       --------------  -----  \n",
      " 0   PassengerId  891 non-null    int64  \n",
      " 1   Survived     891 non-null    int64  \n",
      " 2   Pclass       891 non-null    int64  \n",
      " 3   Name         891 non-null    object \n",
      " 4   Sex          891 non-null    object \n",
      " 5   Age          714 non-null    float64\n",
      " 6   SibSp        891 non-null    int64  \n",
      " 7   Parch        891 non-null    int64  \n",
      " 8   Ticket       891 non-null    object \n",
      " 9   Fare         891 non-null    float64\n",
      " 10  Cabin        204 non-null    object \n",
      " 11  Embarked     889 non-null    object \n",
      "dtypes: float64(2), int64(5), object(5)\n",
      "memory usage: 83.7+ KB\n"
     ]
    }
   ],
   "source": [
    "df_train.info()"
   ]
  },
  {
   "cell_type": "markdown",
   "id": "af50898d-9163-4411-846a-41b4aa5a174b",
   "metadata": {},
   "source": [
    "### 1. 수치 특성을 위한 파이프라인부터 시작해서 전처리 파이프라인 만들기"
   ]
  },
  {
   "cell_type": "code",
   "execution_count": 24,
   "id": "e8c61ac8-407f-4209-ab56-c6d0f33caead",
   "metadata": {},
   "outputs": [],
   "source": [
    "from sklearn.pipeline import Pipeline\n",
    "from sklearn.impute import SimpleImputer\n",
    "from sklearn.preprocessing import StandardScaler"
   ]
  },
  {
   "cell_type": "code",
   "execution_count": null,
   "id": "88dc74ea-ec28-4f06-8491-6d7e7d8dfc59",
   "metadata": {},
   "outputs": [],
   "source": [
    "imputer1 = SimpleImputer(strategy=\"median\")"
   ]
  },
  {
   "cell_type": "code",
   "execution_count": 35,
   "id": "23f5d977-7bc0-4011-9b30-c19481b42eb1",
   "metadata": {},
   "outputs": [],
   "source": [
    "num_pipeline = Pipeline([\n",
    "    ('imputer',SimpleImputer(strategy=\"median\")),\n",
    "    ('scaler',StandardScaler())\n",
    "])"
   ]
  },
  {
   "cell_type": "markdown",
   "id": "7b243510-7dd2-4529-af03-8b6142036055",
   "metadata": {},
   "source": [
    "### 2. 범주형 특성을 위한 파이프라인 만들기"
   ]
  },
  {
   "cell_type": "code",
   "execution_count": 26,
   "id": "98ec0786-cd68-4b68-b905-2d61d009e975",
   "metadata": {},
   "outputs": [],
   "source": [
    "from sklearn.pipeline import Pipeline\n",
    "from sklearn.impute import SimpleImputer\n",
    "from sklearn.preprocessing import OneHotEncoder"
   ]
  },
  {
   "cell_type": "code",
   "execution_count": null,
   "id": "e93e98e8-95f3-479c-8a6e-f801f9fcdebc",
   "metadata": {},
   "outputs": [],
   "source": [
    "imputer2 = SimpleImputer(strategy=\"mode\")"
   ]
  },
  {
   "cell_type": "code",
   "execution_count": 37,
   "id": "0fa5de08-c9ac-4799-8564-e24a90e0fb1d",
   "metadata": {},
   "outputs": [],
   "source": [
    "category_pipeline = Pipeline([\n",
    "    ('imputer',SimpleImputer(strategy=\"most_frequent\")),\n",
    "     ('cat_encoder',OneHotEncoder(sparse=False))\n",
    "])"
   ]
  },
  {
   "cell_type": "markdown",
   "id": "02932b30-3372-4e48-bf62-0c56a963d016",
   "metadata": {},
   "source": [
    "### 3. 두 파이프라인 연결하기"
   ]
  },
  {
   "cell_type": "code",
   "execution_count": 38,
   "id": "c473271b-a0a1-4fb3-bcbd-d8a1db94b005",
   "metadata": {},
   "outputs": [],
   "source": [
    "from sklearn.compose import ColumnTransformer"
   ]
  },
  {
   "cell_type": "code",
   "execution_count": 39,
   "id": "bafb3183-9016-41fe-a98b-c86fc1a87455",
   "metadata": {},
   "outputs": [],
   "source": [
    "num_attribs = [\"Age\", \"SibSp\", \"Parch\", \"Fare\"]\n",
    "cat_attribs = [\"Pclass\", \"Sex\", \"Embarked\"]"
   ]
  },
  {
   "cell_type": "code",
   "execution_count": 40,
   "id": "91d464c2-6726-496c-b7a1-c4f2cc4c56af",
   "metadata": {},
   "outputs": [],
   "source": [
    "full_pipeline = ColumnTransformer([\n",
    "    (\"num\", num_pipeline, num_attribs),\n",
    "    (\"cat\", category_pipeline, cat_attribs)\n",
    "])"
   ]
  },
  {
   "cell_type": "code",
   "execution_count": 42,
   "id": "8d3e4f74-b85f-429a-986b-bcf63e06ffc2",
   "metadata": {
    "collapsed": true,
    "jupyter": {
     "outputs_hidden": true
    },
    "scrolled": true
   },
   "outputs": [
    {
     "name": "stderr",
     "output_type": "stream",
     "text": [
      "/Users/goodyoung/Desktop/GIt/myMLstudy/.mlvenv/lib/python3.11/site-packages/sklearn/preprocessing/_encoders.py:975: FutureWarning: `sparse` was renamed to `sparse_output` in version 1.2 and will be removed in 1.4. `sparse_output` is ignored unless you leave `sparse` to its default value.\n",
      "  warnings.warn(\n"
     ]
    }
   ],
   "source": [
    "fullpipe = full_pipeline.fit_transform(df_train[num_attribs + cat_attribs])"
   ]
  },
  {
   "cell_type": "markdown",
   "id": "1260cd3e-c9d8-4521-ba11-5f8b97a08338",
   "metadata": {},
   "source": [
    "### 4. 모델 훈련"
   ]
  },
  {
   "cell_type": "code",
   "execution_count": 44,
   "id": "8ac5cc26-f3e7-4387-8e94-34b816f58b8c",
   "metadata": {},
   "outputs": [],
   "source": [
    "from sklearn.ensemble import RandomForestClassifier"
   ]
  },
  {
   "cell_type": "code",
   "execution_count": 45,
   "id": "8b21cab2-005c-4d3a-a33b-4b22eeeb8dc7",
   "metadata": {},
   "outputs": [],
   "source": [
    "rand = RandomForestClassifier(n_estimators=100, random_state = 42)"
   ]
  },
  {
   "cell_type": "code",
   "execution_count": 50,
   "id": "aa501252-8fbe-4e0c-aecc-d8fbbd29ae3f",
   "metadata": {},
   "outputs": [
    {
     "data": {
      "text/html": [
       "<style>#sk-container-id-2 {color: black;}#sk-container-id-2 pre{padding: 0;}#sk-container-id-2 div.sk-toggleable {background-color: white;}#sk-container-id-2 label.sk-toggleable__label {cursor: pointer;display: block;width: 100%;margin-bottom: 0;padding: 0.3em;box-sizing: border-box;text-align: center;}#sk-container-id-2 label.sk-toggleable__label-arrow:before {content: \"▸\";float: left;margin-right: 0.25em;color: #696969;}#sk-container-id-2 label.sk-toggleable__label-arrow:hover:before {color: black;}#sk-container-id-2 div.sk-estimator:hover label.sk-toggleable__label-arrow:before {color: black;}#sk-container-id-2 div.sk-toggleable__content {max-height: 0;max-width: 0;overflow: hidden;text-align: left;background-color: #f0f8ff;}#sk-container-id-2 div.sk-toggleable__content pre {margin: 0.2em;color: black;border-radius: 0.25em;background-color: #f0f8ff;}#sk-container-id-2 input.sk-toggleable__control:checked~div.sk-toggleable__content {max-height: 200px;max-width: 100%;overflow: auto;}#sk-container-id-2 input.sk-toggleable__control:checked~label.sk-toggleable__label-arrow:before {content: \"▾\";}#sk-container-id-2 div.sk-estimator input.sk-toggleable__control:checked~label.sk-toggleable__label {background-color: #d4ebff;}#sk-container-id-2 div.sk-label input.sk-toggleable__control:checked~label.sk-toggleable__label {background-color: #d4ebff;}#sk-container-id-2 input.sk-hidden--visually {border: 0;clip: rect(1px 1px 1px 1px);clip: rect(1px, 1px, 1px, 1px);height: 1px;margin: -1px;overflow: hidden;padding: 0;position: absolute;width: 1px;}#sk-container-id-2 div.sk-estimator {font-family: monospace;background-color: #f0f8ff;border: 1px dotted black;border-radius: 0.25em;box-sizing: border-box;margin-bottom: 0.5em;}#sk-container-id-2 div.sk-estimator:hover {background-color: #d4ebff;}#sk-container-id-2 div.sk-parallel-item::after {content: \"\";width: 100%;border-bottom: 1px solid gray;flex-grow: 1;}#sk-container-id-2 div.sk-label:hover label.sk-toggleable__label {background-color: #d4ebff;}#sk-container-id-2 div.sk-serial::before {content: \"\";position: absolute;border-left: 1px solid gray;box-sizing: border-box;top: 0;bottom: 0;left: 50%;z-index: 0;}#sk-container-id-2 div.sk-serial {display: flex;flex-direction: column;align-items: center;background-color: white;padding-right: 0.2em;padding-left: 0.2em;position: relative;}#sk-container-id-2 div.sk-item {position: relative;z-index: 1;}#sk-container-id-2 div.sk-parallel {display: flex;align-items: stretch;justify-content: center;background-color: white;position: relative;}#sk-container-id-2 div.sk-item::before, #sk-container-id-2 div.sk-parallel-item::before {content: \"\";position: absolute;border-left: 1px solid gray;box-sizing: border-box;top: 0;bottom: 0;left: 50%;z-index: -1;}#sk-container-id-2 div.sk-parallel-item {display: flex;flex-direction: column;z-index: 1;position: relative;background-color: white;}#sk-container-id-2 div.sk-parallel-item:first-child::after {align-self: flex-end;width: 50%;}#sk-container-id-2 div.sk-parallel-item:last-child::after {align-self: flex-start;width: 50%;}#sk-container-id-2 div.sk-parallel-item:only-child::after {width: 0;}#sk-container-id-2 div.sk-dashed-wrapped {border: 1px dashed gray;margin: 0 0.4em 0.5em 0.4em;box-sizing: border-box;padding-bottom: 0.4em;background-color: white;}#sk-container-id-2 div.sk-label label {font-family: monospace;font-weight: bold;display: inline-block;line-height: 1.2em;}#sk-container-id-2 div.sk-label-container {text-align: center;}#sk-container-id-2 div.sk-container {/* jupyter's `normalize.less` sets `[hidden] { display: none; }` but bootstrap.min.css set `[hidden] { display: none !important; }` so we also need the `!important` here to be able to override the default hidden behavior on the sphinx rendered scikit-learn.org. See: https://github.com/scikit-learn/scikit-learn/issues/21755 */display: inline-block !important;position: relative;}#sk-container-id-2 div.sk-text-repr-fallback {display: none;}</style><div id=\"sk-container-id-2\" class=\"sk-top-container\"><div class=\"sk-text-repr-fallback\"><pre>RandomForestClassifier(random_state=42)</pre><b>In a Jupyter environment, please rerun this cell to show the HTML representation or trust the notebook. <br />On GitHub, the HTML representation is unable to render, please try loading this page with nbviewer.org.</b></div><div class=\"sk-container\" hidden><div class=\"sk-item\"><div class=\"sk-estimator sk-toggleable\"><input class=\"sk-toggleable__control sk-hidden--visually\" id=\"sk-estimator-id-2\" type=\"checkbox\" checked><label for=\"sk-estimator-id-2\" class=\"sk-toggleable__label sk-toggleable__label-arrow\">RandomForestClassifier</label><div class=\"sk-toggleable__content\"><pre>RandomForestClassifier(random_state=42)</pre></div></div></div></div></div>"
      ],
      "text/plain": [
       "RandomForestClassifier(random_state=42)"
      ]
     },
     "execution_count": 50,
     "metadata": {},
     "output_type": "execute_result"
    }
   ],
   "source": [
    "rand.fit(fullpipe,df_train['Survived'])"
   ]
  },
  {
   "cell_type": "code",
   "execution_count": 57,
   "id": "e19fee0e-da78-40b8-b720-7caeffb8e991",
   "metadata": {},
   "outputs": [],
   "source": [
    "X_test = full_pipeline.transform(df_test[num_attribs + cat_attribs])"
   ]
  },
  {
   "cell_type": "code",
   "execution_count": 59,
   "id": "2fc97e86-780f-43a8-98cb-8be2d3823f6f",
   "metadata": {},
   "outputs": [],
   "source": [
    "y_pred = rand.predict(X_test)"
   ]
  },
  {
   "cell_type": "code",
   "execution_count": 60,
   "id": "725114f5-0f1b-4692-8a6c-5539f3e7ce3b",
   "metadata": {
    "collapsed": true,
    "jupyter": {
     "outputs_hidden": true
    }
   },
   "outputs": [
    {
     "data": {
      "text/plain": [
       "array([0, 0, 0, 1, 1, 0, 0, 0, 1, 0, 0, 0, 1, 0, 1, 1, 0, 1, 0, 1, 1, 1,\n",
       "       1, 1, 1, 0, 1, 1, 1, 0, 0, 0, 1, 0, 1, 1, 0, 0, 0, 0, 0, 1, 0, 1,\n",
       "       1, 0, 0, 0, 1, 1, 0, 0, 1, 1, 0, 0, 0, 0, 0, 1, 0, 0, 0, 1, 1, 1,\n",
       "       1, 0, 0, 1, 1, 0, 0, 0, 1, 0, 0, 1, 0, 1, 1, 0, 0, 0, 0, 0, 1, 0,\n",
       "       1, 1, 0, 0, 1, 0, 0, 0, 1, 0, 0, 0, 1, 0, 0, 0, 1, 0, 0, 0, 0, 0,\n",
       "       0, 1, 1, 0, 1, 0, 0, 1, 0, 1, 1, 0, 1, 0, 0, 1, 0, 1, 0, 0, 1, 0,\n",
       "       0, 0, 0, 0, 0, 0, 0, 0, 0, 1, 0, 0, 1, 0, 0, 0, 1, 0, 1, 0, 0, 1,\n",
       "       0, 0, 1, 0, 1, 1, 1, 1, 1, 0, 0, 0, 0, 0, 1, 0, 0, 0, 0, 0, 0, 1,\n",
       "       1, 1, 1, 1, 0, 0, 1, 0, 1, 0, 1, 0, 0, 0, 0, 0, 1, 0, 1, 0, 1, 0,\n",
       "       0, 0, 1, 1, 0, 1, 0, 0, 0, 0, 1, 0, 0, 0, 0, 0, 1, 0, 1, 0, 1, 0,\n",
       "       1, 0, 1, 1, 1, 0, 0, 1, 0, 0, 0, 1, 0, 0, 1, 0, 1, 1, 1, 1, 1, 1,\n",
       "       0, 0, 0, 0, 1, 0, 1, 0, 1, 0, 0, 0, 0, 0, 0, 0, 1, 0, 0, 0, 1, 1,\n",
       "       0, 0, 0, 0, 0, 0, 0, 0, 1, 1, 0, 1, 0, 0, 0, 0, 0, 1, 1, 0, 1, 0,\n",
       "       0, 0, 0, 0, 0, 0, 0, 0, 0, 0, 1, 0, 0, 0, 0, 0, 0, 0, 1, 1, 1, 1,\n",
       "       0, 0, 0, 1, 0, 0, 1, 1, 0, 0, 0, 0, 0, 0, 0, 1, 1, 0, 1, 0, 0, 0,\n",
       "       1, 1, 0, 0, 0, 0, 1, 0, 0, 0, 0, 0, 0, 1, 0, 1, 0, 1, 0, 1, 1, 0,\n",
       "       0, 0, 1, 0, 1, 0, 0, 1, 0, 1, 1, 1, 1, 0, 0, 0, 1, 1, 0, 1, 0, 0,\n",
       "       1, 1, 0, 0, 0, 0, 0, 0, 1, 0, 0, 1, 0, 0, 0, 0, 0, 1, 0, 0, 0, 1,\n",
       "       0, 1, 0, 0, 1, 0, 1, 0, 1, 0, 0, 0, 1, 1, 1, 1, 0, 0, 1, 0, 0, 1])"
      ]
     },
     "execution_count": 60,
     "metadata": {},
     "output_type": "execute_result"
    }
   ],
   "source": [
    "#최종 예측 값 -> tot\n",
    "y_pred"
   ]
  },
  {
   "cell_type": "markdown",
   "id": "68952a4b-308c-40cb-a6bf-b7bdcd5e77da",
   "metadata": {},
   "source": [
    "### 5. 교차 검증을 사용한 평가"
   ]
  },
  {
   "cell_type": "code",
   "execution_count": 53,
   "id": "81db4d2a-74ea-4169-bc4f-9bedbfa51575",
   "metadata": {},
   "outputs": [],
   "source": [
    "from sklearn.model_selection import cross_val_score "
   ]
  },
  {
   "cell_type": "code",
   "execution_count": 61,
   "id": "ff7455e0-96eb-4680-ab58-669b94fe29f3",
   "metadata": {},
   "outputs": [],
   "source": [
    "y_train = df_train['Survived']"
   ]
  },
  {
   "cell_type": "code",
   "execution_count": 62,
   "id": "0a27a2ba-3161-492f-8d6e-7700f6469e66",
   "metadata": {},
   "outputs": [],
   "source": [
    "scores = cross_val_score(rand,fullpipe,y_train,cv = 10)"
   ]
  },
  {
   "cell_type": "code",
   "execution_count": 65,
   "id": "6547d459-aee3-40cb-a9bb-5884592ad283",
   "metadata": {},
   "outputs": [
    {
     "data": {
      "text/plain": [
       "0.8092759051186016"
      ]
     },
     "execution_count": 65,
     "metadata": {},
     "output_type": "execute_result"
    }
   ],
   "source": [
    "scores.mean()"
   ]
  },
  {
   "cell_type": "markdown",
   "id": "bdd6cf7f-6edc-477e-91e6-f19f264ae58e",
   "metadata": {},
   "source": [
    "### 6. Real Predict\n",
    "- 모델 저장\n",
    "  - RandomforestClassifier을 pickle로 저장하시오.\n",
    "\n",
    "- 파이프라인 저장\n",
    "    - joblib을 이용해 pipeline을(전체 파이프라인) 저장하시오.\n",
    "\n",
    "- 실제 예측\n",
    "    - 파이프라인 로드하시오.\n",
    "    - 주어진 사람들을 예측하시오.\n",
    "      - 모델 로드하시오."
   ]
  },
  {
   "cell_type": "markdown",
   "id": "f8c8b2e6-563f-4563-aa26-75cd0e1adb14",
   "metadata": {
    "jp-MarkdownHeadingCollapsed": true
   },
   "source": [
    "#### 모델 저장"
   ]
  },
  {
   "cell_type": "code",
   "execution_count": 93,
   "id": "d3c55baf-a5db-4b4f-85fa-c94f56c6c9e6",
   "metadata": {},
   "outputs": [],
   "source": [
    "import pickle"
   ]
  },
  {
   "cell_type": "code",
   "execution_count": 104,
   "id": "371b8905-8f7f-4195-a946-f294c57be5b1",
   "metadata": {},
   "outputs": [],
   "source": [
    "with open('model.pkl', 'wb') as f:\n",
    "    pickle.dump(rand,f)"
   ]
  },
  {
   "cell_type": "markdown",
   "id": "544fefd0-9739-4bc3-b4ea-99ffe80d7a3c",
   "metadata": {
    "jp-MarkdownHeadingCollapsed": true
   },
   "source": [
    "#### 파이프라인 저장"
   ]
  },
  {
   "cell_type": "code",
   "execution_count": 82,
   "id": "13310e1d-ce8c-4c3e-8733-42f7d6843645",
   "metadata": {},
   "outputs": [],
   "source": [
    "from joblib import dump"
   ]
  },
  {
   "cell_type": "code",
   "execution_count": 89,
   "id": "ae8734f3-5fdc-41c4-bebb-711c388a44cb",
   "metadata": {},
   "outputs": [
    {
     "data": {
      "text/plain": [
       "['fullpipe.joblib']"
      ]
     },
     "execution_count": 89,
     "metadata": {},
     "output_type": "execute_result"
    }
   ],
   "source": [
    "dump(full_pipeline, 'fullpipe.joblib')"
   ]
  },
  {
   "cell_type": "markdown",
   "id": "95661ac1-d967-4a2c-81f8-10dbb83de142",
   "metadata": {},
   "source": [
    "#### 모델, 파이프라인 로드 및 실제 예측"
   ]
  },
  {
   "cell_type": "code",
   "execution_count": 106,
   "id": "9e69e44c-37ab-406d-9911-9131b2c7a346",
   "metadata": {},
   "outputs": [],
   "source": [
    "#모델 로드\n",
    "with open('model.pkl', 'rb') as f:\n",
    "    model = pickle.load(f)"
   ]
  },
  {
   "cell_type": "code",
   "execution_count": 109,
   "id": "fbff9601-267f-446f-aa8f-e3b5d57e0715",
   "metadata": {},
   "outputs": [],
   "source": [
    "person = {\"kim\": [22.0, 1, 0, 7.25, 3, 'male', 'S'],\n",
    "\"lee\" : [38.0, 1, 0, 71.2833, 1, 'female', 'C'],\n",
    "\"park\" : [26.0, 0, 0, 7.925, 3, 'female', 'S']}"
   ]
  },
  {
   "cell_type": "code",
   "execution_count": 107,
   "id": "ff7dbd1e-a342-4df3-bd52-96ccf4a141be",
   "metadata": {},
   "outputs": [],
   "source": [
    "#파이프라인 로드\n",
    "from joblib import load\n",
    "real_pipe = load('fullpipe.joblib')"
   ]
  },
  {
   "cell_type": "code",
   "execution_count": 207,
   "id": "e4dd1309-3527-4177-af12-b29dabfb167a",
   "metadata": {},
   "outputs": [
    {
     "name": "stdout",
     "output_type": "stream",
     "text": [
      "kim is Died... || Percent 0.84:0.16\n",
      "lee is Survived || Percent: 0.00:1.00\n",
      "park is Survived || Percent: 0.12:0.88\n"
     ]
    }
   ],
   "source": [
    "attr = num_attribs + cat_attribs\n",
    "for name, data in person.items():\n",
    "    data = np.asarray(data,dtype='object').reshape(1,-1)\n",
    "    \n",
    "    df = pd.DataFrame(data, columns = attr)\n",
    "    X_test = real_pipe.transform(df)\n",
    "    \n",
    "    pred = model.predict(X_test)\n",
    "    a,b = model.predict_proba(X_test)[0]\n",
    "    if pred:\n",
    "        print(f'{name} is Survived || Percent: {a:.2f}:{b:.2f}')\n",
    "    else:\n",
    "        print(f'{name} is Died... || Percent {a:.2f}:{b:.2f}')"
   ]
  },
  {
   "cell_type": "markdown",
   "id": "de347c8b-e784-4ddb-97e4-753a2f7cd85b",
   "metadata": {},
   "source": [
    "### 후기: 파이프라인에 모델을 추가해보는 방안을 생각해보자"
   ]
  },
  {
   "cell_type": "code",
   "execution_count": null,
   "id": "4db8d6a9-47dc-4fd6-bd55-7400c4054785",
   "metadata": {},
   "outputs": [],
   "source": []
  }
 ],
 "metadata": {
  "kernelspec": {
   "display_name": "Python 3 (ipykernel)",
   "language": "python",
   "name": "python3"
  },
  "language_info": {
   "codemirror_mode": {
    "name": "ipython",
    "version": 3
   },
   "file_extension": ".py",
   "mimetype": "text/x-python",
   "name": "python",
   "nbconvert_exporter": "python",
   "pygments_lexer": "ipython3",
   "version": "3.11.5"
  }
 },
 "nbformat": 4,
 "nbformat_minor": 5
}
