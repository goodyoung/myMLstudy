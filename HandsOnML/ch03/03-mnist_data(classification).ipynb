{
 "cells": [
  {
   "cell_type": "markdown",
   "id": "5e1202ed-4fcd-4806-8d59-b564003f3d79",
   "metadata": {},
   "source": [
    "# 분류"
   ]
  },
  {
   "cell_type": "markdown",
   "id": "5cc63d06-a1f3-4293-9701-7bb150c0ba36",
   "metadata": {
    "jp-MarkdownHeadingCollapsed": true
   },
   "source": [
    "## MNIST 데이터 다운 및 분할"
   ]
  },
  {
   "cell_type": "code",
   "execution_count": 1,
   "id": "e9524151-d50c-466b-9903-04b9ca560b4c",
   "metadata": {},
   "outputs": [
    {
     "name": "stderr",
     "output_type": "stream",
     "text": [
      "/Users/goodyoung/Desktop/GIt/myMLstudy/.mlvenv/lib/python3.11/site-packages/sklearn/datasets/_openml.py:1022: FutureWarning: The default value of `parser` will change from `'liac-arff'` to `'auto'` in 1.4. You can set `parser='auto'` to silence this warning. Therefore, an `ImportError` will be raised from 1.4 if the dataset is dense and pandas is not installed. Note that the pandas parser may return different data types. See the Notes Section in fetch_openml's API doc for details.\n",
      "  warn(\n"
     ]
    },
    {
     "data": {
      "text/plain": [
       "dict_keys(['data', 'target', 'frame', 'categories', 'feature_names', 'target_names', 'DESCR', 'details', 'url'])"
      ]
     },
     "execution_count": 1,
     "metadata": {},
     "output_type": "execute_result"
    }
   ],
   "source": [
    "from sklearn.datasets import fetch_openml\n",
    "mnist = fetch_openml('mnist_784', version=1, as_frame=False)\n",
    "mnist.keys()"
   ]
  },
  {
   "cell_type": "code",
   "execution_count": 2,
   "id": "1168bc4e-7a39-415a-b941-c6c333628ae2",
   "metadata": {},
   "outputs": [],
   "source": [
    "X,Y = mnist['data'],mnist['target']"
   ]
  },
  {
   "cell_type": "code",
   "execution_count": 3,
   "id": "6ee78e3e-e5be-4eae-9878-3497780e20eb",
   "metadata": {},
   "outputs": [
    {
     "data": {
      "text/plain": [
       "(70000, 784)"
      ]
     },
     "execution_count": 3,
     "metadata": {},
     "output_type": "execute_result"
    }
   ],
   "source": [
    "X.shape"
   ]
  },
  {
   "cell_type": "code",
   "execution_count": 4,
   "id": "4b85be7a-49a5-4646-a8aa-67ebec801ca9",
   "metadata": {},
   "outputs": [
    {
     "data": {
      "image/png": "[encoded data removed]",
      "text/plain": [
       "<Figure size 640x480 with 1 Axes>"
      ]
     },
     "metadata": {},
     "output_type": "display_data"
    }
   ],
   "source": [
    "import matplotlib as mpl\n",
    "import matplotlib.pyplot as plt\n",
    "\n",
    "some_digit = X[0]\n",
    "some_digit_image = some_digit.reshape(28, 28)\n",
    "plt.imshow(some_digit_image, cmap=mpl.cm.binary)\n",
    "plt.axis(\"off\")\n",
    "\n",
    "plt.show()"
   ]
  },
  {
   "cell_type": "code",
   "execution_count": 5,
   "id": "ee8f79fd-f596-4eac-b259-c25eaaa45d14",
   "metadata": {},
   "outputs": [],
   "source": [
    "# target 정수형으로 변환\n",
    "import numpy as np\n",
    "Y = Y.astype(np.uint8)"
   ]
  },
  {
   "cell_type": "code",
   "execution_count": 6,
   "id": "19b36610-64b0-47d9-9de1-0fe8beae0854",
   "metadata": {},
   "outputs": [],
   "source": [
    "# train, test split\n",
    "X_train, X_test, y_train, y_test = X[:60000],X[60000:],Y[:60000],Y[60000:]"
   ]
  },
  {
   "cell_type": "markdown",
   "id": "25a7f22d-4376-47ea-8708-cfc78274bef4",
   "metadata": {},
   "source": [
    "## 이진 분류기 훈련"
   ]
  },
  {
   "cell_type": "code",
   "execution_count": 7,
   "id": "ccbdfd75-330f-472e-a2ab-734d796ff2be",
   "metadata": {},
   "outputs": [],
   "source": [
    "# 5-감지기\n",
    "# 5와 5아님\n",
    "y_train_5 = (y_train == 5)\n",
    "y_test_5 = (y_test == 5)"
   ]
  },
  {
   "cell_type": "markdown",
   "id": "1cebd4ce-fb5e-4d0b-aa24-ecef308d83c3",
   "metadata": {
    "jp-MarkdownHeadingCollapsed": true
   },
   "source": [
    "### 확률적 경사 하강법(SGD) 사용"
   ]
  },
  {
   "cell_type": "markdown",
   "id": "c6f693d1-2312-4489-940d-c18da0ec436b",
   "metadata": {},
   "source": [
    "- SGD 분류기는 매우 큰 데이터셋을 효율적으로 처리하는 장점을 지니고 있다.\n",
    "- SGD가 한 번에 하나씩 훈련 샘플을 독립적으로 처리하기 때문\n",
    "  - SGD가 온라인 학습에 잘 들어 맞는다."
   ]
  },
  {
   "cell_type": "code",
   "execution_count": 8,
   "id": "8f8a456f-8b33-41cc-a7db-fbb6926754db",
   "metadata": {},
   "outputs": [
    {
     "data": {
      "text/html": [
       "<style>#sk-container-id-1 {color: black;}#sk-container-id-1 pre{padding: 0;}#sk-container-id-1 div.sk-toggleable {background-color: white;}#sk-container-id-1 label.sk-toggleable__label {cursor: pointer;display: block;width: 100%;margin-bottom: 0;padding: 0.3em;box-sizing: border-box;text-align: center;}#sk-container-id-1 label.sk-toggleable__label-arrow:before {content: \"▸\";float: left;margin-right: 0.25em;color: #696969;}#sk-container-id-1 label.sk-toggleable__label-arrow:hover:before {color: black;}#sk-container-id-1 div.sk-estimator:hover label.sk-toggleable__label-arrow:before {color: black;}#sk-container-id-1 div.sk-toggleable__content {max-height: 0;max-width: 0;overflow: hidden;text-align: left;background-color: #f0f8ff;}#sk-container-id-1 div.sk-toggleable__content pre {margin: 0.2em;color: black;border-radius: 0.25em;background-color: #f0f8ff;}#sk-container-id-1 input.sk-toggleable__control:checked~div.sk-toggleable__content {max-height: 200px;max-width: 100%;overflow: auto;}#sk-container-id-1 input.sk-toggleable__control:checked~label.sk-toggleable__label-arrow:before {content: \"▾\";}#sk-container-id-1 div.sk-estimator input.sk-toggleable__control:checked~label.sk-toggleable__label {background-color: #d4ebff;}#sk-container-id-1 div.sk-label input.sk-toggleable__control:checked~label.sk-toggleable__label {background-color: #d4ebff;}#sk-container-id-1 input.sk-hidden--visually {border: 0;clip: rect(1px 1px 1px 1px);clip: rect(1px, 1px, 1px, 1px);height: 1px;margin: -1px;overflow: hidden;padding: 0;position: absolute;width: 1px;}#sk-container-id-1 div.sk-estimator {font-family: monospace;background-color: #f0f8ff;border: 1px dotted black;border-radius: 0.25em;box-sizing: border-box;margin-bottom: 0.5em;}#sk-container-id-1 div.sk-estimator:hover {background-color: #d4ebff;}#sk-container-id-1 div.sk-parallel-item::after {content: \"\";width: 100%;border-bottom: 1px solid gray;flex-grow: 1;}#sk-container-id-1 div.sk-label:hover label.sk-toggleable__label {background-color: #d4ebff;}#sk-container-id-1 div.sk-serial::before {content: \"\";position: absolute;border-left: 1px solid gray;box-sizing: border-box;top: 0;bottom: 0;left: 50%;z-index: 0;}#sk-container-id-1 div.sk-serial {display: flex;flex-direction: column;align-items: center;background-color: white;padding-right: 0.2em;padding-left: 0.2em;position: relative;}#sk-container-id-1 div.sk-item {position: relative;z-index: 1;}#sk-container-id-1 div.sk-parallel {display: flex;align-items: stretch;justify-content: center;background-color: white;position: relative;}#sk-container-id-1 div.sk-item::before, #sk-container-id-1 div.sk-parallel-item::before {content: \"\";position: absolute;border-left: 1px solid gray;box-sizing: border-box;top: 0;bottom: 0;left: 50%;z-index: -1;}#sk-container-id-1 div.sk-parallel-item {display: flex;flex-direction: column;z-index: 1;position: relative;background-color: white;}#sk-container-id-1 div.sk-parallel-item:first-child::after {align-self: flex-end;width: 50%;}#sk-container-id-1 div.sk-parallel-item:last-child::after {align-self: flex-start;width: 50%;}#sk-container-id-1 div.sk-parallel-item:only-child::after {width: 0;}#sk-container-id-1 div.sk-dashed-wrapped {border: 1px dashed gray;margin: 0 0.4em 0.5em 0.4em;box-sizing: border-box;padding-bottom: 0.4em;background-color: white;}#sk-container-id-1 div.sk-label label {font-family: monospace;font-weight: bold;display: inline-block;line-height: 1.2em;}#sk-container-id-1 div.sk-label-container {text-align: center;}#sk-container-id-1 div.sk-container {/* jupyter's `normalize.less` sets `[hidden] { display: none; }` but bootstrap.min.css set `[hidden] { display: none !important; }` so we also need the `!important` here to be able to override the default hidden behavior on the sphinx rendered scikit-learn.org. See: https://github.com/scikit-learn/scikit-learn/issues/21755 */display: inline-block !important;position: relative;}#sk-container-id-1 div.sk-text-repr-fallback {display: none;}</style><div id=\"sk-container-id-1\" class=\"sk-top-container\"><div class=\"sk-text-repr-fallback\"><pre>SGDClassifier(random_state=42)</pre><b>In a Jupyter environment, please rerun this cell to show the HTML representation or trust the notebook. <br />On GitHub, the HTML representation is unable to render, please try loading this page with nbviewer.org.</b></div><div class=\"sk-container\" hidden><div class=\"sk-item\"><div class=\"sk-estimator sk-toggleable\"><input class=\"sk-toggleable__control sk-hidden--visually\" id=\"sk-estimator-id-1\" type=\"checkbox\" checked><label for=\"sk-estimator-id-1\" class=\"sk-toggleable__label sk-toggleable__label-arrow\">SGDClassifier</label><div class=\"sk-toggleable__content\"><pre>SGDClassifier(random_state=42)</pre></div></div></div></div></div>"
      ],
      "text/plain": [
       "SGDClassifier(random_state=42)"
      ]
     },
     "execution_count": 8,
     "metadata": {},
     "output_type": "execute_result"
    }
   ],
   "source": [
    "from sklearn.linear_model import SGDClassifier\n",
    "\n",
    "sgd_clf = SGDClassifier(max_iter=1000, tol=1e-3, random_state=42)\n",
    "sgd_clf.fit(X_train, y_train_5)"
   ]
  },
  {
   "cell_type": "code",
   "execution_count": 9,
   "id": "f17733fa-2752-4c1f-a6b7-68bb78ce55a6",
   "metadata": {},
   "outputs": [
    {
     "data": {
      "text/plain": [
       "array([ True])"
      ]
     },
     "execution_count": 9,
     "metadata": {},
     "output_type": "execute_result"
    }
   ],
   "source": [
    "sgd_clf.predict([X[0]])"
   ]
  },
  {
   "cell_type": "markdown",
   "id": "4705df89-814d-4b1b-8b13-7556bc9ca6a4",
   "metadata": {},
   "source": [
    "# 성능 측정\n",
    "- 분류기 평가는 회귀 모델보다 훨씬 어렵다.\n",
    "- 사용할 수 있는 성능 지표가 많다."
   ]
  },
  {
   "cell_type": "markdown",
   "id": "5b777255-d950-4590-a254-411e7ecdc99e",
   "metadata": {},
   "source": [
    "## 교차 검증 폴드 성능 측정\n",
    "- 모든 정확도가 90 이상이다.\n",
    "  - 정확도를 분류기의 성능 측정 지표로 선호하지 않는 이유를 보여준다.\n",
    "  - 특히 불균형한 데이터셋을 다룰 때 더욱 그렇다."
   ]
  },
  {
   "cell_type": "code",
   "execution_count": 10,
   "id": "dc67542c-b904-4a15-9c97-dc82471bc4ce",
   "metadata": {},
   "outputs": [
    {
     "name": "stdout",
     "output_type": "stream",
     "text": [
      "0.9669\n",
      "0.91625\n",
      "0.96785\n"
     ]
    }
   ],
   "source": [
    "from sklearn.model_selection import StratifiedKFold\n",
    "from sklearn.base import clone\n",
    "skfolds = StratifiedKFold(n_splits=3, random_state=42,shuffle = True)\n",
    "\n",
    "# cross_val_score() 거의 같은 작업을 수행하고 동일한 결과를 출력한다.\n",
    "for train_idx, test_idx in skfolds.split(X_train, y_train_5):\n",
    "    clone_clf = clone(sgd_clf)\n",
    "    X_train_folds = X_train[train_idx]\n",
    "    y_train_folds = y_train_5[train_idx]\n",
    "    X_test_fold = X_train[test_idx]\n",
    "    y_test_fold = y_train_5[test_idx]\n",
    "\n",
    "    clone_clf.fit(X_train_folds, y_train_folds)\n",
    "    y_pred = clone_clf.predict(X_test_fold)\n",
    "    n_correct = sum(y_pred == y_test_fold)\n",
    "    print(n_correct / len(y_pred))"
   ]
  },
  {
   "cell_type": "markdown",
   "id": "25fc0d97-7909-4648-9383-5566e966d2a6",
   "metadata": {},
   "source": [
    "- StratifiedKFold는 클래스별 비율이 유지되도록 폴드를 만들기 위해 계층적 샘플링을 수행합니다."
   ]
  },
  {
   "cell_type": "code",
   "execution_count": 11,
   "id": "fb059f81-d3e3-4e58-bd04-401dea8004c2",
   "metadata": {},
   "outputs": [
    {
     "data": {
      "text/plain": [
       "array([0.95035, 0.96035, 0.9604 ])"
      ]
     },
     "execution_count": 11,
     "metadata": {},
     "output_type": "execute_result"
    }
   ],
   "source": [
    "from sklearn.model_selection import cross_val_score\n",
    "cross_val_score(sgd_clf, X_train,y_train_5, cv=3, scoring = \"accuracy\")"
   ]
  },
  {
   "cell_type": "markdown",
   "id": "5a67c3d0-5fc2-43d1-9ed2-9a4c8ffb6069",
   "metadata": {},
   "source": [
    "##### 모든 이미지를 5 아님 클래스로 분류하는 더미 분류기 성능 측정"
   ]
  },
  {
   "cell_type": "code",
   "execution_count": 12,
   "id": "12eb713e-39d2-449f-806d-dca4cfb4e6cd",
   "metadata": {},
   "outputs": [],
   "source": [
    "from sklearn.base import BaseEstimator\n",
    "class Never5Classifier(BaseEstimator):\n",
    "    def fit(self,X,y = None):\n",
    "        return self\n",
    "    def predict(self,X):\n",
    "        return np.zeros((len(X),1),dtype = bool)"
   ]
  },
  {
   "cell_type": "code",
   "execution_count": 13,
   "id": "79f2d6d1-c8ed-4195-9c34-5fcebec73a16",
   "metadata": {},
   "outputs": [
    {
     "data": {
      "text/plain": [
       "array([0.91125, 0.90855, 0.90915])"
      ]
     },
     "execution_count": 13,
     "metadata": {},
     "output_type": "execute_result"
    }
   ],
   "source": [
    "never_5_clf = Never5Classifier()\n",
    "cross_val_score(never_5_clf, X_train, y_train_5, cv=3, scoring=\"accuracy\")"
   ]
  },
  {
   "cell_type": "markdown",
   "id": "fdb82034-329a-472c-abd3-135d14250312",
   "metadata": {},
   "source": [
    "## 오차 행렬\n",
    "- 클래스 A의 샘플이 클래스 B로 분류된 횟수를 세는 것이다.\n",
    "  - 숫자 5의 이미지를 3으로 잘못 분류한 횟수를 알고 싶다 -> 오차행렬의 5행 3열을 보자"
   ]
  },
  {
   "cell_type": "code",
   "execution_count": 14,
   "id": "b378fb0d-0305-4a0a-b7fc-a502e6f49bdc",
   "metadata": {},
   "outputs": [],
   "source": [
    "from sklearn.model_selection import cross_val_predict\n",
    "\n",
    "y_train_pred = cross_val_predict(sgd_clf, X_train, y_train_5, cv=3)"
   ]
  },
  {
   "cell_type": "code",
   "execution_count": 15,
   "id": "58778f37-39ed-408b-8f6b-0d1e79f43a7a",
   "metadata": {},
   "outputs": [
    {
     "data": {
      "text/plain": [
       "array([ True, False, False, False, False, False, False, False, False,\n",
       "       False, False, False, False, False, False, False, False, False,\n",
       "       False, False, False, False, False, False, False, False, False,\n",
       "       False, False, False, False, False, False, False, False,  True,\n",
       "       False, False, False, False, False, False, False, False, False,\n",
       "       False, False,  True, False, False])"
      ]
     },
     "execution_count": 15,
     "metadata": {},
     "output_type": "execute_result"
    }
   ],
   "source": [
    "y_train_pred[:50]"
   ]
  },
  {
   "cell_type": "code",
   "execution_count": 16,
   "id": "f0aafc16-4d2c-4041-9037-237c558d720e",
   "metadata": {},
   "outputs": [
    {
     "data": {
      "text/plain": [
       "array([[53892,   687],\n",
       "       [ 1891,  3530]])"
      ]
     },
     "execution_count": 16,
     "metadata": {},
     "output_type": "execute_result"
    }
   ],
   "source": [
    "from sklearn.metrics import confusion_matrix\n",
    "\n",
    "confusion_matrix(y_train_5, y_train_pred)"
   ]
  },
  {
   "cell_type": "markdown",
   "id": "fa49a89b-cf13-4238-97bf-1ca93eff767c",
   "metadata": {},
   "source": [
    "오차행렬의 행은 실제 클래스, 열은 예측한 클래스\n",
    "- 이 행렬의 첫 번째 행은 '5아님'(음성 클래스)\n",
    "  - 53000개를 5아님으로 정확하게 분류 (진짜 음성)\n",
    "  - 687개를 5라고 잘못 분류 (거짓 양성)\n",
    "- 두 번쨰 행은 5이미지(양성 클래스)\n",
    "  - 1800개를 5아님으로 잘못 분류 (거짓 음성)\n",
    "  - 3500개를 정확히 5라고ㅓ 분류 (진짜 양성)"
   ]
  },
  {
   "cell_type": "code",
   "execution_count": 17,
   "id": "b8025a34-50be-4b1b-9ee3-c67691716953",
   "metadata": {},
   "outputs": [
    {
     "data": {
      "text/plain": [
       "array([[54579,     0],\n",
       "       [    0,  5421]])"
      ]
     },
     "execution_count": 17,
     "metadata": {},
     "output_type": "execute_result"
    }
   ],
   "source": [
    "# 완벽한척 하자\n",
    "# 만약 분류기가 완벽했다면..\n",
    "y_train_perfect_predictions = y_train_5  \n",
    "confusion_matrix(y_train_5, y_train_perfect_predictions)"
   ]
  },
  {
   "cell_type": "markdown",
   "id": "354241dc-8d41-4587-a54c-6445a76a1d91",
   "metadata": {},
   "source": [
    "- 정밀도(precision)(양성 예측에 대한 정확도),\n",
    "- 재현율(recall)(분류기가 정확하게 감지한 양성 샘플의 비율) 이랑 같이 쓰임"
   ]
  },
  {
   "cell_type": "markdown",
   "id": "985b9829-9a3d-41b6-a379-a46686ef840c",
   "metadata": {},
   "source": [
    "## 정밀도 & 재현율 & f1score"
   ]
  },
  {
   "cell_type": "code",
   "execution_count": 18,
   "id": "e2322d43-c8f4-4466-9d00-7a7a2c661109",
   "metadata": {},
   "outputs": [
    {
     "data": {
      "text/plain": [
       "0.8370879772350012"
      ]
     },
     "execution_count": 18,
     "metadata": {},
     "output_type": "execute_result"
    }
   ],
   "source": [
    "from sklearn.metrics import precision_score, recall_score\n",
    "\n",
    "precision_score(y_train_5, y_train_pred)"
   ]
  },
  {
   "cell_type": "code",
   "execution_count": 19,
   "id": "70a6eb92-a6aa-4b9b-afa2-79bcf1b6ac55",
   "metadata": {},
   "outputs": [
    {
     "data": {
      "text/plain": [
       "0.8370879772350012"
      ]
     },
     "execution_count": 19,
     "metadata": {},
     "output_type": "execute_result"
    }
   ],
   "source": [
    "# 정밀도\n",
    "cm = confusion_matrix(y_train_5, y_train_pred)\n",
    "cm[1, 1] / (cm[0, 1] + cm[1, 1])"
   ]
  },
  {
   "cell_type": "code",
   "execution_count": 20,
   "id": "9580cf26-2da3-4668-a161-9d461b2627c8",
   "metadata": {},
   "outputs": [
    {
     "data": {
      "text/plain": [
       "0.6511713705958311"
      ]
     },
     "execution_count": 20,
     "metadata": {},
     "output_type": "execute_result"
    }
   ],
   "source": [
    "# 재현율\n",
    "recall_score(y_train_5, y_train_pred)"
   ]
  },
  {
   "cell_type": "code",
   "execution_count": 21,
   "id": "4392cfca-7a2d-49d0-97bd-8d17782c1fa0",
   "metadata": {},
   "outputs": [
    {
     "data": {
      "text/plain": [
       "0.6511713705958311"
      ]
     },
     "execution_count": 21,
     "metadata": {},
     "output_type": "execute_result"
    }
   ],
   "source": [
    "cm[1, 1] / (cm[1, 0] + cm[1, 1])"
   ]
  },
  {
   "cell_type": "code",
   "execution_count": 22,
   "id": "fdc00649-2868-4320-bfe8-712901abbe28",
   "metadata": {},
   "outputs": [
    {
     "data": {
      "text/plain": [
       "0.7325171197343846"
      ]
     },
     "execution_count": 22,
     "metadata": {},
     "output_type": "execute_result"
    }
   ],
   "source": [
    "#f1 score\n",
    "from sklearn.metrics import f1_score\n",
    "\n",
    "f1_score(y_train_5, y_train_pred)"
   ]
  },
  {
   "cell_type": "code",
   "execution_count": 23,
   "id": "56ec4614-dc2f-46e8-a078-1ba9e7e4cecb",
   "metadata": {},
   "outputs": [
    {
     "data": {
      "text/plain": [
       "0.7325171197343847"
      ]
     },
     "execution_count": 23,
     "metadata": {},
     "output_type": "execute_result"
    }
   ],
   "source": [
    "cm[1, 1] / (cm[1, 1] + (cm[1, 0] + cm[0, 1]) / 2)"
   ]
  },
  {
   "cell_type": "markdown",
   "id": "ac16089a-0316-4d7a-871c-bb77d613caad",
   "metadata": {},
   "source": [
    "- F1 score는 정밀도와 재현율의 조화 평균\n",
    "- 정밀도와 재현율이 비슷한 분류기에서는 f1점수가 높다.\n",
    "- 어링나이에게 안전한 동영상을 걸러내는 분류기의 경우\n",
    "  - 재현율은 높으나 정말 나쁜 동영상이 몇 개 노출되는 것보다\n",
    "  - 좋은 동영상이 많이 제외되더라도(낮은 재현율) 안전한 것들만 노출시키는(높은 정밀도) 분류기를 선호한다.\n",
    "- 감시 카메라를 통해 좀도둑을 잡아내는 분류기\n",
    "  - 분류기의 재현율이 99 라면 정확도가 30퍼만 되더라도 괜찮을지 모른다. (거의 모든 좀도둑을 잡는다.)\n",
    "- 정밀도/재현율 트레이드 오프\n",
    "  - 둘 다 모두 얻을 수는 없다."
   ]
  },
  {
   "cell_type": "markdown",
   "id": "b1d587f2-ecd2-415f-bb35-cee08c16d4a9",
   "metadata": {},
   "source": [
    "## 정밀도 / 재현율 트레이드오프"
   ]
  },
  {
   "cell_type": "markdown",
   "id": "186874e3-588d-4f96-a211-f758babd7b9c",
   "metadata": {},
   "source": [
    "### 임계값 확인"
   ]
  },
  {
   "cell_type": "code",
   "execution_count": 24,
   "id": "cbf42eab-bb1b-4548-b3a2-2f0116fd7eab",
   "metadata": {},
   "outputs": [
    {
     "data": {
      "text/plain": [
       "array([2164.22030239])"
      ]
     },
     "execution_count": 24,
     "metadata": {},
     "output_type": "execute_result"
    }
   ],
   "source": [
    "# 모델의 임계값을 직접 지정할 수는 없지만 예측에 사용한 점수는 확인할 수 있다.\n",
    "y_scores = sgd_clf.decision_function([some_digit])\n",
    "y_scores"
   ]
  },
  {
   "cell_type": "markdown",
   "id": "e375150e-0b64-4024-883d-a83318488820",
   "metadata": {},
   "source": [
    "#### 임계값을 0으로 설정한다면"
   ]
  },
  {
   "cell_type": "code",
   "execution_count": 25,
   "id": "cde5f74b-6af1-422c-bdcc-dc2e9829ced3",
   "metadata": {},
   "outputs": [
    {
     "data": {
      "text/plain": [
       "array([ True])"
      ]
     },
     "execution_count": 25,
     "metadata": {},
     "output_type": "execute_result"
    }
   ],
   "source": [
    "threshold = 0\n",
    "y_some_digit_pred = (y_scores > threshold)\n",
    "\n",
    "y_some_digit_pred"
   ]
  },
  {
   "cell_type": "markdown",
   "id": "b54f0b06-d38f-446a-856b-4b2ed96cdea6",
   "metadata": {},
   "source": [
    "#### 임계값을 8000으로 설정한다면"
   ]
  },
  {
   "cell_type": "code",
   "execution_count": 26,
   "id": "39f97561-7e79-440a-a215-796049e85236",
   "metadata": {},
   "outputs": [
    {
     "data": {
      "text/plain": [
       "array([False])"
      ]
     },
     "execution_count": 26,
     "metadata": {},
     "output_type": "execute_result"
    }
   ],
   "source": [
    "threshold = 8000\n",
    "y_some_digit_pred = (y_scores > threshold)\n",
    "y_some_digit_pred"
   ]
  },
  {
   "cell_type": "markdown",
   "id": "e9542dc7-3865-46fa-90f5-8b673e845ff1",
   "metadata": {},
   "source": [
    "### 적절한 임계값을 정하기"
   ]
  },
  {
   "cell_type": "code",
   "execution_count": 27,
   "id": "2250212a-9fc2-464b-8a7b-2eb1becf68ea",
   "metadata": {},
   "outputs": [],
   "source": [
    "#모든 샘플의 점수\n",
    "#method를 지정하여 결정 점수를 반환 받게 한다.\n",
    "y_scores = cross_val_predict(sgd_clf, X_train, y_train_5, cv=3,\n",
    "                             method=\"decision_function\")"
   ]
  },
  {
   "cell_type": "code",
   "execution_count": 28,
   "id": "a6688d3e-9ba2-403a-9b0a-b1548357f314",
   "metadata": {},
   "outputs": [],
   "source": [
    "# 이 점수로 모든 임계값에 대해 정밀도와 재현율을 계산할 수 있게 된다.\n",
    "from sklearn.metrics import precision_recall_curve\n",
    "\n",
    "precisions, recalls, thresholds = precision_recall_curve(y_train_5, y_scores)"
   ]
  },
  {
   "cell_type": "markdown",
   "id": "aee0c3d8-be33-4c9c-a05f-a3b1f039e87c",
   "metadata": {},
   "source": [
    "정밀도와 재현율 그리기"
   ]
  },
  {
   "cell_type": "code",
   "execution_count": 29,
   "id": "731e45b2-18a2-454b-9013-7a3bd1d89262",
   "metadata": {},
   "outputs": [
    {
     "data": {
      "image/png": "[encoded data removed]",
      "text/plain": [
       "<Figure size 800x400 with 1 Axes>"
      ]
     },
     "metadata": {},
     "output_type": "display_data"
    }
   ],
   "source": [
    "def plot_precision_recall_vs_threshold(precisions, recalls, thresholds):\n",
    "    plt.plot(thresholds, precisions[:-1], \"b--\", label=\"Precision\", linewidth=2)\n",
    "    plt.plot(thresholds, recalls[:-1], \"g-\", label=\"Recall\", linewidth=2)\n",
    "    plt.legend(loc=\"center right\", fontsize=16) # Not shown in the book\n",
    "    plt.xlabel(\"Threshold\", fontsize=16)        # Not shown\n",
    "    plt.grid(True)                              # Not shown\n",
    "    plt.axis([-50000, 50000, 0, 1])             # Not shown\n",
    "\n",
    "\n",
    "\n",
    "recall_90_precision = recalls[np.argmax(precisions >= 0.90)]\n",
    "threshold_90_precision = thresholds[np.argmax(precisions >= 0.90)]\n",
    "\n",
    "\n",
    "plt.figure(figsize=(8, 4))                                                                  # Not shown\n",
    "plot_precision_recall_vs_threshold(precisions, recalls, thresholds)\n",
    "plt.plot([threshold_90_precision, threshold_90_precision], [0., 0.9], \"r:\")                 # Not shown\n",
    "plt.plot([-50000, threshold_90_precision], [0.9, 0.9], \"r:\")                                # Not shown\n",
    "plt.plot([-50000, threshold_90_precision], [recall_90_precision, recall_90_precision], \"r:\")# Not shown\n",
    "plt.plot([threshold_90_precision], [0.9], \"ro\")                                             # Not shown\n",
    "plt.plot([threshold_90_precision], [recall_90_precision], \"ro\")                             # Not shown\n",
    "# save_fig(\"precision_recall_vs_threshold_plot\")                                              # Not shown\n",
    "plt.show()"
   ]
  },
  {
   "cell_type": "code",
   "execution_count": 30,
   "id": "17b97018-d4a4-4d27-a018-cd73d979eb49",
   "metadata": {},
   "outputs": [
    {
     "data": {
      "image/png": "[encoded data removed]",
      "text/plain": [
       "<Figure size 800x600 with 1 Axes>"
      ]
     },
     "metadata": {},
     "output_type": "display_data"
    }
   ],
   "source": [
    "def plot_precision_vs_recall(precisions, recalls):\n",
    "    plt.plot(recalls, precisions, \"b-\", linewidth=2)\n",
    "    plt.xlabel(\"Recall\", fontsize=16)\n",
    "    plt.ylabel(\"Precision\", fontsize=16)\n",
    "    plt.axis([0, 1, 0, 1])\n",
    "    plt.grid(True)\n",
    "\n",
    "plt.figure(figsize=(8, 6))\n",
    "plot_precision_vs_recall(precisions, recalls)\n",
    "plt.plot([recall_90_precision, recall_90_precision], [0., 0.9], \"r:\")\n",
    "plt.plot([0.0, recall_90_precision], [0.9, 0.9], \"r:\")\n",
    "plt.plot([recall_90_precision], [0.9], \"ro\")\n",
    "plt.show()"
   ]
  },
  {
   "cell_type": "markdown",
   "id": "478a02dc-63a4-490c-95d6-e8b843e2203c",
   "metadata": {},
   "source": [
    "- 재현율 80퍼 근처에서 정밀도가 급격하게 줄어든다.\n",
    "- 이 하강점 직전을 정밀도/재현율 트레이드오프로 선택하는 것이 좋다."
   ]
  },
  {
   "cell_type": "code",
   "execution_count": 31,
   "id": "2000f5f2-b1f0-47d4-96f0-78674c64deed",
   "metadata": {},
   "outputs": [
    {
     "data": {
      "text/plain": [
       "4"
      ]
     },
     "execution_count": 31,
     "metadata": {},
     "output_type": "execute_result"
    }
   ],
   "source": [
    "np.argmax(np.array([1,2,3,4,623123124,234,24,41,56,46,234,623123124,12342]) >= 100)"
   ]
  },
  {
   "cell_type": "code",
   "execution_count": 34,
   "id": "98d76136-829e-4868-9f9c-5307d8d80d98",
   "metadata": {},
   "outputs": [
    {
     "data": {
      "text/plain": [
       "array([-146348.56726174, -142300.00705404, -137588.97581744, ...,\n",
       "         38871.26391927,   42216.05562787,   49441.43765905])"
      ]
     },
     "execution_count": 34,
     "metadata": {},
     "output_type": "execute_result"
    }
   ],
   "source": [
    "thresholds"
   ]
  },
  {
   "cell_type": "code",
   "execution_count": 72,
   "id": "66ac2c8d-0950-492d-88ce-3255f5f82669",
   "metadata": {},
   "outputs": [
    {
     "data": {
      "text/plain": [
       "3370.0194991439557"
      ]
     },
     "execution_count": 72,
     "metadata": {},
     "output_type": "execute_result"
    }
   ],
   "source": [
    "# argmax: precision이 0.9보다 큰 값의 첫번째 인덱스\n",
    "thresholds[np.argmax((precisions >= 0.90) & (0.3 <= recalls) & (recalls <= 0.48))]\n",
    "#이게 맞는 것 같다."
   ]
  },
  {
   "cell_type": "code",
   "execution_count": 36,
   "id": "36722f8f-aee2-48a0-8475-dc9f455c3c78",
   "metadata": {},
   "outputs": [],
   "source": [
    "threshold_90_precision = thresholds[np.argmax(precisions >= 0.90)]"
   ]
  },
  {
   "cell_type": "code",
   "execution_count": 37,
   "id": "dee8ee12-43ef-479c-b0d9-85ec4c299318",
   "metadata": {},
   "outputs": [
    {
     "data": {
      "text/plain": [
       "3370.0194991439557"
      ]
     },
     "execution_count": 37,
     "metadata": {},
     "output_type": "execute_result"
    }
   ],
   "source": [
    "threshold_90_precision"
   ]
  },
  {
   "cell_type": "code",
   "execution_count": 45,
   "id": "e5afa5db-3c24-4f27-8ce3-b13fc0d09ede",
   "metadata": {},
   "outputs": [
    {
     "data": {
      "text/plain": [
       "49441.437659047755"
      ]
     },
     "execution_count": 45,
     "metadata": {},
     "output_type": "execute_result"
    }
   ],
   "source": [
    "max(thresholds)"
   ]
  },
  {
   "cell_type": "code",
   "execution_count": 46,
   "id": "7e3c658b-1790-4dd6-b01b-af8ecef5e2c6",
   "metadata": {},
   "outputs": [
    {
     "name": "stdout",
     "output_type": "stream",
     "text": [
      "59999\n"
     ]
    }
   ],
   "source": [
    "for i in range(len(thresholds)):\n",
    "    if thresholds[i] == 49441.437659047755:\n",
    "        print(i)"
   ]
  },
  {
   "cell_type": "code",
   "execution_count": 47,
   "id": "73267bd9-38bb-4bbe-ab64-6331ff5ff273",
   "metadata": {},
   "outputs": [
    {
     "data": {
      "text/plain": [
       "1.0"
      ]
     },
     "execution_count": 47,
     "metadata": {},
     "output_type": "execute_result"
    }
   ],
   "source": [
    "precisions[59999]"
   ]
  },
  {
   "cell_type": "code",
   "execution_count": 78,
   "id": "669f7a50-715f-40a5-9801-a98b7f009251",
   "metadata": {},
   "outputs": [
    {
     "data": {
      "text/plain": [
       "array([  1200.93051237, -26883.79202424, -33072.03475406, ...,\n",
       "        13272.12718981,  -7258.47203373, -16877.50840447])"
      ]
     },
     "execution_count": 78,
     "metadata": {},
     "output_type": "execute_result"
    }
   ],
   "source": [
    "y_scores"
   ]
  },
  {
   "cell_type": "code",
   "execution_count": 67,
   "id": "024b7d31-42e1-4260-b129-0458838fba82",
   "metadata": {},
   "outputs": [],
   "source": [
    "# 정밀도 90을 달성한 분류기\n",
    "y_train_pred_90 = (y_scores >= 3370.0194991439557)"
   ]
  },
  {
   "cell_type": "code",
   "execution_count": 68,
   "id": "82adcf61-7d14-4eb5-a720-a8bacf77d80f",
   "metadata": {},
   "outputs": [
    {
     "data": {
      "text/plain": [
       "0.9000345901072293"
      ]
     },
     "execution_count": 68,
     "metadata": {},
     "output_type": "execute_result"
    }
   ],
   "source": [
    "precision_score(y_train_5, y_train_pred_90)\n",
    "# 기존: 0.9000345901072293"
   ]
  },
  {
   "cell_type": "code",
   "execution_count": 69,
   "id": "dd920ed0-4d66-4666-bcbf-9c88cd490d54",
   "metadata": {},
   "outputs": [
    {
     "data": {
      "text/plain": [
       "0.4799852425751706"
      ]
     },
     "execution_count": 69,
     "metadata": {},
     "output_type": "execute_result"
    }
   ],
   "source": [
    "recall_score(y_train_5, y_train_pred_90)\n",
    "# 기존: 0.4799852425751706"
   ]
  },
  {
   "cell_type": "markdown",
   "id": "7ea31143-c413-42a4-859f-539e09d1166b",
   "metadata": {},
   "source": [
    "## ROC 곡선\n",
    "- 수신기 조작 특성 곡선\n",
    "- 거짓 양성 비율(FPR)에 대한 진짜 양성 비율(TPR: 재현율의 다른 이름)의 곡선이다.\n",
    "- 이는 1에서 진짜 음성 비율(TNR: 특이도)을 뺸 값\n",
    "- ROC곡선: 민감도에 대한 `1-특이도` 그래프"
   ]
  },
  {
   "cell_type": "code",
   "execution_count": 96,
   "id": "bfacef8e-740e-488b-a633-dbb54d45827d",
   "metadata": {},
   "outputs": [],
   "source": [
    "from sklearn.metrics import roc_curve\n",
    "\n",
    "fpr, tpr, thresholds = roc_curve(y_train_5, y_scores)"
   ]
  },
  {
   "cell_type": "code",
   "execution_count": 97,
   "id": "ba860365-68b4-4fcc-9617-23d7054035f4",
   "metadata": {},
   "outputs": [
    {
     "data": {
      "image/png": "[encoded data removed]",
      "text/plain": [
       "<Figure size 800x600 with 1 Axes>"
      ]
     },
     "metadata": {},
     "output_type": "display_data"
    }
   ],
   "source": [
    "def plot_roc_curve(fpr, tpr, label=None):\n",
    "    plt.plot(fpr, tpr, linewidth=2, label=label)\n",
    "    plt.plot([0, 1], [0, 1], 'k--') # 대각 점선\n",
    "    plt.axis([0, 1, 0, 1])                                    # Not shown in the book\n",
    "    plt.xlabel('False Positive Rate (Fall-Out)', fontsize=16) # Not shown\n",
    "    plt.ylabel('True Positive Rate (Recall)', fontsize=16)    # Not shown\n",
    "    plt.grid(True)                                            # Not shown\n",
    "\n",
    "plt.figure(figsize=(8, 6))                                    # Not shown\n",
    "plot_roc_curve(fpr, tpr)\n",
    "fpr_90 = fpr[np.argmax(tpr >= recall_90_precision)]           # Not shown\n",
    "plt.plot([fpr_90, fpr_90], [0., recall_90_precision], \"r:\")   # Not shown\n",
    "plt.plot([0.0, fpr_90], [recall_90_precision, recall_90_precision], \"r:\")  # Not shown\n",
    "plt.plot([fpr_90], [recall_90_precision], \"ro\")               # Not shown\n",
    "plt.show()"
   ]
  },
  {
   "cell_type": "markdown",
   "id": "4a943d42-1f34-4ae2-9361-2d807a7c537a",
   "metadata": {},
   "source": [
    "- 재현율(TPR)이 높을수록 분류기가 만드는 거짓 양성(FPR)이 늘어난다.\n",
    "- 점선: 완전한 랜덤 분류기의 ROC곡선을 뜻한다\n",
    "  - 좋은 분류기는 이 점선에서 최대한 멀리 떨어져 있어야한다.\n",
    "- 곡선 아래의 면적(`AUC`): 분류기들을 비교할 수 있다.\n",
    "  - 완벽한 분류기는 ROC의 AUC가 1\n",
    "  - 완전한 랜덤 분류기는 0.5이다.\n",
    "\n",
    " ### PR곡선 vs ROC곡선?\n",
    "- 양성 클래스가 드물거나 거짓음성보다 거짓 양성이 더 중요할 때 PR곡선을 사용하고\n",
    "- 그렇지 않으면 ROC곡선을 사용한다."
   ]
  },
  {
   "cell_type": "code",
   "execution_count": 99,
   "id": "41e82e44-87bc-4a90-a03a-86a688a7c64b",
   "metadata": {},
   "outputs": [
    {
     "data": {
      "text/plain": [
       "0.9604938554008616"
      ]
     },
     "execution_count": 99,
     "metadata": {},
     "output_type": "execute_result"
    }
   ],
   "source": [
    "# AUC 면적\n",
    "from sklearn.metrics import roc_auc_score\n",
    "\n",
    "roc_auc_score(y_train_5, y_scores)\n"
   ]
  },
  {
   "cell_type": "markdown",
   "id": "77b65149-619f-46fe-9cfd-2d41da16df53",
   "metadata": {},
   "source": [
    "## 여러 모델 ROC 비교\n",
    "- randomForestClassifier는 `decision_function()` 메서드가 없고`predict_proba()` 메서드가 있다.\n",
    "- `predict_proba()`: 주어진 클래스에 속할 확률을 담은 배열을 반환 (어떤 이미지가 5일 확률 70%)"
   ]
  },
  {
   "cell_type": "code",
   "execution_count": 100,
   "id": "a01ed6c5-321a-4d48-8a26-933dc8b4e0da",
   "metadata": {},
   "outputs": [],
   "source": [
    "from sklearn.ensemble import RandomForestClassifier\n",
    "forest_clf = RandomForestClassifier(n_estimators=100, random_state=42)\n",
    "y_probas_forest = cross_val_predict(forest_clf, X_train, y_train_5, cv=3,\n",
    "                                    method=\"predict_proba\")"
   ]
  },
  {
   "cell_type": "code",
   "execution_count": 48,
   "id": "3e9131a5-998e-419b-a459-31dc26db8c28",
   "metadata": {
    "execution": {
     "iopub.execute_input": "2021-11-03T03:36:05.301420Z",
     "iopub.status.busy": "2021-11-03T03:36:05.300274Z",
     "iopub.status.idle": "2021-11-03T03:36:05.310105Z",
     "shell.execute_reply": "2021-11-03T03:36:05.310512Z"
    }
   },
   "outputs": [],
   "source": [
    "y_scores_forest = y_probas_forest[:, 1] # 점수 = 양성 클래스의 확률\n",
    "fpr_forest, tpr_forest, thresholds_forest = roc_curve(y_train_5,y_scores_forest)"
   ]
  },
  {
   "cell_type": "code",
   "execution_count": 49,
   "id": "94a6aee4-e8e8-4a76-be25-22d6794c460b",
   "metadata": {
    "execution": {
     "iopub.execute_input": "2021-11-03T03:36:05.314016Z",
     "iopub.status.busy": "2021-11-03T03:36:05.312811Z",
     "iopub.status.idle": "2021-11-03T03:36:05.870569Z",
     "shell.execute_reply": "2021-11-03T03:36:05.870044Z"
    }
   },
   "outputs": [
    {
     "name": "stdout",
     "output_type": "stream",
     "text": [
      "그림 저장: roc_curve_comparison_plot\n"
     ]
    },
    {
     "data": {
      "image/png": "[encoded data removed]",
      "text/plain": [
       "<Figure size 576x432 with 1 Axes>"
      ]
     },
     "metadata": {
      "needs_background": "light"
     },
     "output_type": "display_data"
    }
   ],
   "source": [
    "recall_for_forest = tpr_forest[np.argmax(fpr_forest >= fpr_90)]\n",
    "\n",
    "plt.figure(figsize=(8, 6))\n",
    "plt.plot(fpr, tpr, \"b:\", linewidth=2, label=\"SGD\")\n",
    "plot_roc_curve(fpr_forest, tpr_forest, \"Random Forest\")\n",
    "plt.plot([fpr_90, fpr_90], [0., recall_90_precision], \"r:\")\n",
    "plt.plot([0.0, fpr_90], [recall_90_precision, recall_90_precision], \"r:\")\n",
    "plt.plot([fpr_90], [recall_90_precision], \"ro\")\n",
    "plt.plot([fpr_90, fpr_90], [0., recall_for_forest], \"r:\")\n",
    "plt.plot([fpr_90], [recall_for_forest], \"ro\")\n",
    "plt.grid(True)\n",
    "plt.legend(loc=\"lower right\", fontsize=16)\n",
    "save_fig(\"roc_curve_comparison_plot\")\n",
    "plt.show()"
   ]
  },
  {
   "cell_type": "markdown",
   "id": "54ad06ab-6bdb-4871-9425-73ddcae5d58d",
   "metadata": {},
   "source": [
    "# 다중 분류\n",
    "\n",
    "## 다양한 기법\n",
    "- `OvR (one-versus-the-rest)`: 특정 숫자 하나만 구분하는 숫자별 이진 분류기 10개를 훈련시켜 클래스가 10개인 숫자 이미지 분류 시스템을 만드는 방법\n",
    "  - 이미지 분류시 각 분류기의 결정 점수 중에서 가장 높은 것을 클래스로 선택\n",
    "- `OvO (one-versus-one)`: 0과1 구별, 0과2 구별 등 각 숫자의 조합 마다 이진 분류기를 훈련시키는 것이다. 클래스가 N개면 `N*(N-1)/2` 가 필요하다.\n",
    "  - 장점은 각 분류기의 훈련에 전체 훈련 세트 중에 구별할 두 클래스에 해당하는 샘플만 필요하다는 것이다."
   ]
  },
  {
   "cell_type": "code",
   "execution_count": 103,
   "id": "7abb1364-a139-494d-8ff4-926b47728a96",
   "metadata": {},
   "outputs": [
    {
     "data": {
      "text/plain": [
       "array([5], dtype=uint8)"
      ]
     },
     "execution_count": 103,
     "metadata": {},
     "output_type": "execute_result"
    }
   ],
   "source": [
    "#사이킷런이 ovo 전략을 사용해 45개의 이진 분류기를 훈련시키고 각각의\n",
    "#결정 점수를 얻어 점수가 가장 높은 클래스를 선택합니다.\n",
    "from sklearn.svm import SVC\n",
    "\n",
    "svm_clf = SVC(gamma=\"auto\", random_state=42)\n",
    "svm_clf.fit(X_train[:1000], y_train[:1000]) # y_train_5이 아니라 y_train입니다\n",
    "svm_clf.predict([X[0]])"
   ]
  },
  {
   "cell_type": "code",
   "execution_count": 105,
   "id": "e01fd9fe-a29d-4ffc-8860-6e6706be9358",
   "metadata": {},
   "outputs": [
    {
     "name": "stdout",
     "output_type": "stream",
     "text": [
      "[[ 2.81585438  7.09167958  3.82972099  0.79365551  5.8885703   9.29718395\n",
      "   1.79862509  8.10392157 -0.228207    4.83753243]] 5\n"
     ]
    }
   ],
   "source": [
    "some_digit_scores = svm_clf.decision_function([some_digit])\n",
    "print(some_digit_scores, np.argmax(some_digit_scores))"
   ]
  },
  {
   "cell_type": "markdown",
   "id": "0c6bc224-0449-4484-b94b-6db785950514",
   "metadata": {},
   "source": [
    "OVO나 OVR사용을 강제하는 방법"
   ]
  },
  {
   "cell_type": "code",
   "execution_count": null,
   "id": "8e6f7b4d-26c5-4256-8234-be126bb52713",
   "metadata": {},
   "outputs": [],
   "source": [
    "from sklearn.multiclass import OneVsRestClassifier\n",
    "ovr_clf = OneVsRestClassifier(SVC(gamma=\"auto\", random_state=42))\n",
    "ovr_clf.fit(X_train[:1000], y_train[:1000])\n",
    "ovr_clf.predict([some_digit])"
   ]
  },
  {
   "cell_type": "markdown",
   "id": "778ea86c-31c3-40a9-858c-3ddbd1a78ebb",
   "metadata": {},
   "source": [
    "SGD 분류기이나, randomforest는 다중 클래스를 분류할 수 있기때문에 별도로 지정안해도 된다."
   ]
  },
  {
   "cell_type": "code",
   "execution_count": 107,
   "id": "1ce14813-2436-45d3-b472-81a7beddf14e",
   "metadata": {},
   "outputs": [
    {
     "data": {
      "text/plain": [
       "array([3], dtype=uint8)"
      ]
     },
     "execution_count": 107,
     "metadata": {},
     "output_type": "execute_result"
    }
   ],
   "source": [
    "sgd_clf.fit(X_train, y_train)\n",
    "sgd_clf.predict([some_digit])"
   ]
  },
  {
   "cell_type": "code",
   "execution_count": 108,
   "id": "f34dba6f-d952-48e7-be26-b617b1ffa17a",
   "metadata": {},
   "outputs": [
    {
     "data": {
      "text/plain": [
       "array([[-31893.03095419, -34419.69069632,  -9530.63950739,\n",
       "          1823.73154031, -22320.14822878,  -1385.80478895,\n",
       "        -26188.91070951, -16147.51323997,  -4604.35491274,\n",
       "        -12050.767298  ]])"
      ]
     },
     "execution_count": 108,
     "metadata": {},
     "output_type": "execute_result"
    }
   ],
   "source": [
    "sgd_clf.decision_function([some_digit])"
   ]
  },
  {
   "cell_type": "markdown",
   "id": "b95ca799-4920-4057-b7fa-3817f60de021",
   "metadata": {},
   "source": [
    "# 에러 분석\n",
    "- 모델의 성능 향상을 위한 방법"
   ]
  },
  {
   "cell_type": "markdown",
   "id": "09400e50-ffea-4f18-97be-a1a391320dc9",
   "metadata": {},
   "source": [
    "### 오차행렬 분석"
   ]
  },
  {
   "cell_type": "code",
   "execution_count": 110,
   "id": "c6ad11ca-dbe2-477f-ace7-455f8f8b543b",
   "metadata": {},
   "outputs": [
    {
     "data": {
      "text/plain": [
       "array([[5635,    0,   61,   10,   16,   50,   46,    7,   66,   32],\n",
       "       [   3, 6393,   95,   21,   16,   47,   15,   27,  109,   16],\n",
       "       [  72,   56, 5174,   89,   69,   39,  163,   66,  212,   18],\n",
       "       [  58,   32,  217, 4941,   23,  441,   32,   56,  216,  115],\n",
       "       [  11,   26,   46,    6, 5298,   26,   73,   32,   87,  237],\n",
       "       [  68,   23,   58,  150,   83, 4606,  174,   26,  152,   81],\n",
       "       [  40,   13,   56,    6,   22,  113, 5625,    5,   36,    2],\n",
       "       [  23,   24,  103,   36,  124,   40,   10, 5228,   75,  602],\n",
       "       [  40,  101,  158,  122,   49,  457,   77,   35, 4666,  146],\n",
       "       [  33,   18,   66,   83,  515,  127,    4,  485,  166, 4452]])"
      ]
     },
     "execution_count": 110,
     "metadata": {},
     "output_type": "execute_result"
    }
   ],
   "source": [
    "y_train_pred = cross_val_predict(sgd_clf, X_train, y_train, cv=3)\n",
    "conf_mx = confusion_matrix(y_train, y_train_pred)\n",
    "conf_mx"
   ]
  },
  {
   "cell_type": "code",
   "execution_count": 118,
   "id": "7c8e2d89-ffb7-4aff-8d49-7642796dbccb",
   "metadata": {},
   "outputs": [],
   "source": [
    "def plot_confusion_matrix(matrix):\n",
    "    \"\"\"If you prefer color and a colorbar\"\"\"\n",
    "    fig = plt.figure(figsize=(8,8))\n",
    "    ax = fig.add_subplot(111)\n",
    "    cax = ax.matshow(matrix)\n",
    "    fig.colorbar(cax)"
   ]
  },
  {
   "cell_type": "code",
   "execution_count": 119,
   "id": "b955ec67-df9f-4cfd-92d0-c294ed93f541",
   "metadata": {},
   "outputs": [
    {
     "data": {
      "image/png": "[encoded data removed]",
      "text/plain": [
       "<Figure size 480x480 with 1 Axes>"
      ]
     },
     "metadata": {},
     "output_type": "display_data"
    }
   ],
   "source": [
    "plt.matshow(conf_mx, cmap=plt.cm.gray)\n",
    "plt.show()"
   ]
  },
  {
   "cell_type": "markdown",
   "id": "545d0c58-16eb-4cfa-b427-309fd07234b5",
   "metadata": {},
   "source": [
    "- 에러 부분에 초점\n",
    "- 오차행렬의 각 값에 대응되는 클래스의 이미지 개수로 나누기\n",
    "- 각 대각선은 0으로 채우기"
   ]
  },
  {
   "cell_type": "code",
   "execution_count": 120,
   "id": "28b4091a-b650-4e23-b677-fe1be06dcdfb",
   "metadata": {},
   "outputs": [
    {
     "data": {
      "image/png": "[encoded data removed]",
      "text/plain": [
       "<Figure size 480x480 with 1 Axes>"
      ]
     },
     "metadata": {},
     "output_type": "display_data"
    }
   ],
   "source": [
    "row_sums = conf_mx.sum(axis=1, keepdims=True)\n",
    "norm_conf_mx = conf_mx / row_sums\n",
    "np.fill_diagonal(norm_conf_mx, 0)\n",
    "plt.matshow(norm_conf_mx, cmap=plt.cm.gray)\n",
    "plt.show()"
   ]
  },
  {
   "cell_type": "markdown",
   "id": "14325a8d-3644-49de-90b6-802f310c811d",
   "metadata": {},
   "source": [
    "- 많은 이미지가 8로 잘못 분류되었다.\n",
    "- 오차행렬은 반드시 대칭은 아니다.\n",
    "- 오차 행렬을 분석하면 분류기의 성능 향상 방안에 대한 통찰을 얻을 수 있다.\n",
    "  - 8로 잘못 분류를 줄이도록 개선할 수 있다.\n",
    "    - 훈련데이터 더 많이 모으기\n",
    "    - 분류기에 도움이 될 만한 특성들을 더 찾아보기"
   ]
  },
  {
   "cell_type": "markdown",
   "id": "34cb4c48-c6d2-4e88-9526-2d28dc3c2c8c",
   "metadata": {},
   "source": [
    "# 다중 레이블 분류\n",
    "- 분류기가 샘플마다 여러개의 클래스를 출력해야 할 때"
   ]
  },
  {
   "cell_type": "markdown",
   "id": "b7419a31-8727-400e-a62f-bc58900ccd3b",
   "metadata": {},
   "source": [
    "다중 레이블: 숫자가 큰 값인지 or 홀수인지"
   ]
  },
  {
   "cell_type": "code",
   "execution_count": 121,
   "id": "cf3b2bb0-449b-4ecd-b92e-205719bbaa99",
   "metadata": {},
   "outputs": [
    {
     "data": {
      "text/html": [
       "<style>#sk-container-id-4 {color: black;}#sk-container-id-4 pre{padding: 0;}#sk-container-id-4 div.sk-toggleable {background-color: white;}#sk-container-id-4 label.sk-toggleable__label {cursor: pointer;display: block;width: 100%;margin-bottom: 0;padding: 0.3em;box-sizing: border-box;text-align: center;}#sk-container-id-4 label.sk-toggleable__label-arrow:before {content: \"▸\";float: left;margin-right: 0.25em;color: #696969;}#sk-container-id-4 label.sk-toggleable__label-arrow:hover:before {color: black;}#sk-container-id-4 div.sk-estimator:hover label.sk-toggleable__label-arrow:before {color: black;}#sk-container-id-4 div.sk-toggleable__content {max-height: 0;max-width: 0;overflow: hidden;text-align: left;background-color: #f0f8ff;}#sk-container-id-4 div.sk-toggleable__content pre {margin: 0.2em;color: black;border-radius: 0.25em;background-color: #f0f8ff;}#sk-container-id-4 input.sk-toggleable__control:checked~div.sk-toggleable__content {max-height: 200px;max-width: 100%;overflow: auto;}#sk-container-id-4 input.sk-toggleable__control:checked~label.sk-toggleable__label-arrow:before {content: \"▾\";}#sk-container-id-4 div.sk-estimator input.sk-toggleable__control:checked~label.sk-toggleable__label {background-color: #d4ebff;}#sk-container-id-4 div.sk-label input.sk-toggleable__control:checked~label.sk-toggleable__label {background-color: #d4ebff;}#sk-container-id-4 input.sk-hidden--visually {border: 0;clip: rect(1px 1px 1px 1px);clip: rect(1px, 1px, 1px, 1px);height: 1px;margin: -1px;overflow: hidden;padding: 0;position: absolute;width: 1px;}#sk-container-id-4 div.sk-estimator {font-family: monospace;background-color: #f0f8ff;border: 1px dotted black;border-radius: 0.25em;box-sizing: border-box;margin-bottom: 0.5em;}#sk-container-id-4 div.sk-estimator:hover {background-color: #d4ebff;}#sk-container-id-4 div.sk-parallel-item::after {content: \"\";width: 100%;border-bottom: 1px solid gray;flex-grow: 1;}#sk-container-id-4 div.sk-label:hover label.sk-toggleable__label {background-color: #d4ebff;}#sk-container-id-4 div.sk-serial::before {content: \"\";position: absolute;border-left: 1px solid gray;box-sizing: border-box;top: 0;bottom: 0;left: 50%;z-index: 0;}#sk-container-id-4 div.sk-serial {display: flex;flex-direction: column;align-items: center;background-color: white;padding-right: 0.2em;padding-left: 0.2em;position: relative;}#sk-container-id-4 div.sk-item {position: relative;z-index: 1;}#sk-container-id-4 div.sk-parallel {display: flex;align-items: stretch;justify-content: center;background-color: white;position: relative;}#sk-container-id-4 div.sk-item::before, #sk-container-id-4 div.sk-parallel-item::before {content: \"\";position: absolute;border-left: 1px solid gray;box-sizing: border-box;top: 0;bottom: 0;left: 50%;z-index: -1;}#sk-container-id-4 div.sk-parallel-item {display: flex;flex-direction: column;z-index: 1;position: relative;background-color: white;}#sk-container-id-4 div.sk-parallel-item:first-child::after {align-self: flex-end;width: 50%;}#sk-container-id-4 div.sk-parallel-item:last-child::after {align-self: flex-start;width: 50%;}#sk-container-id-4 div.sk-parallel-item:only-child::after {width: 0;}#sk-container-id-4 div.sk-dashed-wrapped {border: 1px dashed gray;margin: 0 0.4em 0.5em 0.4em;box-sizing: border-box;padding-bottom: 0.4em;background-color: white;}#sk-container-id-4 div.sk-label label {font-family: monospace;font-weight: bold;display: inline-block;line-height: 1.2em;}#sk-container-id-4 div.sk-label-container {text-align: center;}#sk-container-id-4 div.sk-container {/* jupyter's `normalize.less` sets `[hidden] { display: none; }` but bootstrap.min.css set `[hidden] { display: none !important; }` so we also need the `!important` here to be able to override the default hidden behavior on the sphinx rendered scikit-learn.org. See: https://github.com/scikit-learn/scikit-learn/issues/21755 */display: inline-block !important;position: relative;}#sk-container-id-4 div.sk-text-repr-fallback {display: none;}</style><div id=\"sk-container-id-4\" class=\"sk-top-container\"><div class=\"sk-text-repr-fallback\"><pre>KNeighborsClassifier()</pre><b>In a Jupyter environment, please rerun this cell to show the HTML representation or trust the notebook. <br />On GitHub, the HTML representation is unable to render, please try loading this page with nbviewer.org.</b></div><div class=\"sk-container\" hidden><div class=\"sk-item\"><div class=\"sk-estimator sk-toggleable\"><input class=\"sk-toggleable__control sk-hidden--visually\" id=\"sk-estimator-id-4\" type=\"checkbox\" checked><label for=\"sk-estimator-id-4\" class=\"sk-toggleable__label sk-toggleable__label-arrow\">KNeighborsClassifier</label><div class=\"sk-toggleable__content\"><pre>KNeighborsClassifier()</pre></div></div></div></div></div>"
      ],
      "text/plain": [
       "KNeighborsClassifier()"
      ]
     },
     "execution_count": 121,
     "metadata": {},
     "output_type": "execute_result"
    }
   ],
   "source": [
    "from sklearn.neighbors import KNeighborsClassifier\n",
    "\n",
    "y_train_large = (y_train >= 7)\n",
    "y_train_odd = (y_train % 2 == 1)\n",
    "y_multilabel = np.c_[y_train_large, y_train_odd]\n",
    "\n",
    "knn_clf = KNeighborsClassifier()\n",
    "knn_clf.fit(X_train, y_multilabel)"
   ]
  },
  {
   "cell_type": "code",
   "execution_count": 123,
   "id": "03ae2755-9e2c-45a5-a7e1-2d6a767c77e4",
   "metadata": {},
   "outputs": [
    {
     "data": {
      "text/plain": [
       "array([[False,  True]])"
      ]
     },
     "execution_count": 123,
     "metadata": {},
     "output_type": "execute_result"
    }
   ],
   "source": [
    "knn_clf.predict([X[0]])\n",
    "# 5는 크지 않고, 홀수이다."
   ]
  },
  {
   "cell_type": "markdown",
   "id": "dde41ef0-9a46-421a-aef4-0f2f9e2ac14a",
   "metadata": {},
   "source": [
    "### 분류기 평가"
   ]
  },
  {
   "cell_type": "code",
   "execution_count": null,
   "id": "2f0af298-e8d9-4799-939b-f346623ec61c",
   "metadata": {},
   "outputs": [],
   "source": [
    "y_train_knn_pred = cross_val_predict(knn_clf, X_train, y_multilabel, cv=3)\n",
    "f1_score(y_multilabel, y_train_knn_pred, average=\"macro\")"
   ]
  },
  {
   "cell_type": "markdown",
   "id": "da599249-31d8-4793-9ca0-c3b853cc8afe",
   "metadata": {},
   "source": [
    "# 다중 출력 분류\n",
    "- 다중 레이블 분류에서 한 레이블이 다중 클래스가 될 수 있도록하는 것.\n",
    "- 값을 두 개 이상 가질 수 있게된다."
   ]
  },
  {
   "cell_type": "code",
   "execution_count": 124,
   "id": "ad22d2ef-d524-41c1-952c-be5b97d68942",
   "metadata": {},
   "outputs": [],
   "source": [
    "noise = np.random.randint(0, 100, (len(X_train), 784))\n",
    "X_train_mod = X_train + noise\n",
    "noise = np.random.randint(0, 100, (len(X_test), 784))\n",
    "X_test_mod = X_test + noise\n",
    "y_train_mod = X_train\n",
    "y_test_mod = X_test"
   ]
  },
  {
   "cell_type": "code",
   "execution_count": null,
   "id": "4e4e2235-9883-4883-8a67-dc0ac3204f72",
   "metadata": {},
   "outputs": [],
   "source": []
  }
 ],
 "metadata": {
  "kernelspec": {
   "display_name": "Python 3 (ipykernel)",
   "language": "python",
   "name": "python3"
  },
  "language_info": {
   "codemirror_mode": {
    "name": "ipython",
    "version": 3
   },
   "file_extension": ".py",
   "mimetype": "text/x-python",
   "name": "python",
   "nbconvert_exporter": "python",
   "pygments_lexer": "ipython3",
   "version": "3.11.5"
  }
 },
 "nbformat": 4,
 "nbformat_minor": 5
}
