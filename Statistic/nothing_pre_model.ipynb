{
 "cells": [
  {
   "cell_type": "code",
   "execution_count": 1,
   "id": "57c8e4e9-1b70-48c2-a8f2-30116c8fbe59",
   "metadata": {
    "tags": []
   },
   "outputs": [],
   "source": [
    "import warnings\n",
    "warnings.filterwarnings('ignore')\n",
    "import numpy as np\n",
    "import pandas as pd   \n",
    "import matplotlib.pyplot as plt\n",
    "# import seaborn as sns\n",
    "import itertools\n",
    "\n",
    "from sklearn.model_selection import train_test_split\n",
    "from sklearn.metrics import accuracy_score, confusion_matrix, log_loss\n",
    "# from sklearn.linear_model import LogisticRegression\n",
    "# from sklearn.tree import DecisionTreeClassifier\n",
    "\n",
    "# from xgboost import XGBClassifier\n",
    "# from lightgbm import LGBMClassifier\n",
    "# from catboost import CatBoostClassifier\n",
    "# from sklearn import svm\n",
    "# from sklearn.ensemble import RandomForestClassifier"
   ]
  },
  {
   "cell_type": "code",
   "execution_count": 2,
   "id": "766d971f-7fa6-49cf-b1ad-dd23b2d644ff",
   "metadata": {},
   "outputs": [],
   "source": [
    "train=pd.read_csv('train.csv')\n",
    "test=pd.read_csv('test.csv')\n",
    "submission=pd.read_csv('sample_submission.csv')"
   ]
  },
  {
   "cell_type": "code",
   "execution_count": 3,
   "id": "797b9cc2-8712-4b95-a635-2dd6404f72fe",
   "metadata": {},
   "outputs": [
    {
     "data": {
      "text/plain": [
       "1.7775960013665866"
      ]
     },
     "execution_count": 3,
     "metadata": {},
     "output_type": "execute_result"
    }
   ],
   "source": [
    "train['DAYS_EMPLOYED'].skew()"
   ]
  },
  {
   "cell_type": "code",
   "execution_count": 4,
   "id": "7c04d549-2ac9-4786-aa86-e58ce68f11d7",
   "metadata": {},
   "outputs": [
    {
     "data": {
      "text/plain": [
       "2.659270736824145"
      ]
     },
     "execution_count": 4,
     "metadata": {},
     "output_type": "execute_result"
    }
   ],
   "source": [
    "train['income_total'].skew()"
   ]
  },
  {
   "cell_type": "markdown",
   "id": "821eda16-389d-4b3e-bb0e-fdb626f930ba",
   "metadata": {},
   "source": [
    "## **1. 결측치 제거** \n",
    "\n",
    "- occpy_type 제거 이유\n",
    "    - NULL 값을 보여줘야한다. -> R\n",
    "- FLAG_MOBIL\n",
    "  - 모두가 1인것을 보여줘야한다"
   ]
  },
  {
   "cell_type": "code",
   "execution_count": 5,
   "id": "25dd03de-a8d4-4583-a937-ecde39914aa2",
   "metadata": {},
   "outputs": [],
   "source": [
    "train=train.drop(['index','occyp_type','FLAG_MOBIL'], axis=1)\n",
    "test=test.drop(['index','occyp_type','FLAG_MOBIL'], axis=1)"
   ]
  },
  {
   "cell_type": "markdown",
   "id": "b16522ff-4ee1-40bd-98b1-757823605e9a",
   "metadata": {},
   "source": [
    "### DAY_EMPLOYED 0값 채우기"
   ]
  },
  {
   "cell_type": "code",
   "execution_count": 6,
   "id": "6c3b106c-5228-49f3-bcc4-9ff926ad8e94",
   "metadata": {},
   "outputs": [],
   "source": [
    "train[train['DAYS_EMPLOYED']>0][\"DAYS_EMPLOYED\"] = 0"
   ]
  },
  {
   "cell_type": "markdown",
   "id": "c2217bdf-62c8-48d0-abaa-06f2b1a268de",
   "metadata": {},
   "source": [
    "### 음수 -> 양수"
   ]
  },
  {
   "cell_type": "code",
   "execution_count": 7,
   "id": "84f4d487-c636-40d0-80bb-9eb00b264b04",
   "metadata": {},
   "outputs": [],
   "source": [
    "train[\"DAYS_BIRTH\"] = abs(train[\"DAYS_BIRTH\"])\n",
    "train[\"DAYS_EMPLOYED\"] = abs(train[\"DAYS_EMPLOYED\"])\n",
    "train[\"begin_month\"] = abs(train[\"begin_month\"])\n",
    "\n",
    "test[\"DAYS_BIRTH\"] = abs(test[\"DAYS_BIRTH\"])\n",
    "test[\"DAYS_EMPLOYED\"] = abs(test[\"DAYS_EMPLOYED\"])\n",
    "test[\"begin_month\"] = abs(test[\"begin_month\"])"
   ]
  },
  {
   "cell_type": "markdown",
   "id": "b5cbc946-d6c5-4eab-8375-abba9be7695b",
   "metadata": {},
   "source": [
    "### 파생변수"
   ]
  },
  {
   "cell_type": "code",
   "execution_count": 8,
   "id": "105a75d9-d4a3-44fb-9eb8-b5de4385afcd",
   "metadata": {},
   "outputs": [
    {
     "data": {
      "text/plain": [
       "Index(['gender', 'car', 'reality', 'child_num', 'income_total', 'income_type',\n",
       "       'edu_type', 'family_type', 'house_type', 'DAYS_BIRTH', 'DAYS_EMPLOYED',\n",
       "       'work_phone', 'phone', 'email', 'family_size', 'begin_month', 'credit'],\n",
       "      dtype='object')"
      ]
     },
     "execution_count": 8,
     "metadata": {},
     "output_type": "execute_result"
    }
   ],
   "source": [
    "train.columns"
   ]
  },
  {
   "cell_type": "code",
   "execution_count": 9,
   "id": "292ddb6a-2635-403b-bc14-ee19cf2051ae",
   "metadata": {},
   "outputs": [],
   "source": [
    "train['EMPLOYED'] = train['DAYS_EMPLOYED'] // 365 #근속일\n",
    "train['AGE'] = train['DAYS_BIRTH'] // 365 # 나이\n",
    "train['income_mean'] = train['income_total'] / train['family_size'] # 소득 비율\n",
    "train['before_EMPLOYED'] = train['DAYS_BIRTH'] - train['DAYS_EMPLOYED'] # 고용될때 까지의 날짜\n",
    "train['income_EMPLOYED'] = train['income_total'] / train['DAYS_EMPLOYED'] # 일하면서 번돈?\n",
    "train['diff_fam_child'] = train['family_size'] - train['child_num'] # 전체 가족수 - 자식 수 (내 위에 사람들?)"
   ]
  },
  {
   "cell_type": "code",
   "execution_count": 10,
   "id": "e49f90cc-40a2-4e48-a7d4-bab56fd350dc",
   "metadata": {},
   "outputs": [],
   "source": [
    "train['personal_id'] = train['gender'] + \"_\" + train['DAYS_BIRTH'].astype(str) + \"_\" + train['income_total'].astype(str) + \"_\" + train['income_type'].astype(str)\n"
   ]
  },
  {
   "cell_type": "code",
   "execution_count": 11,
   "id": "6d0c4110-c517-48f2-ad29-d18066bee502",
   "metadata": {},
   "outputs": [
    {
     "data": {
      "text/html": [
       "<div>\n",
       "<style scoped>\n",
       "    .dataframe tbody tr th:only-of-type {\n",
       "        vertical-align: middle;\n",
       "    }\n",
       "\n",
       "    .dataframe tbody tr th {\n",
       "        vertical-align: top;\n",
       "    }\n",
       "\n",
       "    .dataframe thead th {\n",
       "        text-align: right;\n",
       "    }\n",
       "</style>\n",
       "<table border=\"1\" class=\"dataframe\">\n",
       "  <thead>\n",
       "    <tr style=\"text-align: right;\">\n",
       "      <th></th>\n",
       "      <th>gender</th>\n",
       "      <th>car</th>\n",
       "      <th>reality</th>\n",
       "      <th>child_num</th>\n",
       "      <th>income_total</th>\n",
       "      <th>income_type</th>\n",
       "      <th>edu_type</th>\n",
       "      <th>family_type</th>\n",
       "      <th>house_type</th>\n",
       "      <th>DAYS_BIRTH</th>\n",
       "      <th>...</th>\n",
       "      <th>family_size</th>\n",
       "      <th>begin_month</th>\n",
       "      <th>credit</th>\n",
       "      <th>EMPLOYED</th>\n",
       "      <th>AGE</th>\n",
       "      <th>income_mean</th>\n",
       "      <th>before_EMPLOYED</th>\n",
       "      <th>income_EMPLOYED</th>\n",
       "      <th>diff_fam_child</th>\n",
       "      <th>personal_id</th>\n",
       "    </tr>\n",
       "  </thead>\n",
       "  <tbody>\n",
       "    <tr>\n",
       "      <th>0</th>\n",
       "      <td>F</td>\n",
       "      <td>N</td>\n",
       "      <td>N</td>\n",
       "      <td>0</td>\n",
       "      <td>202500.0</td>\n",
       "      <td>Commercial associate</td>\n",
       "      <td>Higher education</td>\n",
       "      <td>Married</td>\n",
       "      <td>Municipal apartment</td>\n",
       "      <td>13899</td>\n",
       "      <td>...</td>\n",
       "      <td>2.0</td>\n",
       "      <td>6.0</td>\n",
       "      <td>1.0</td>\n",
       "      <td>12</td>\n",
       "      <td>38</td>\n",
       "      <td>101250.0</td>\n",
       "      <td>9190</td>\n",
       "      <td>43.002761</td>\n",
       "      <td>2.0</td>\n",
       "      <td>F_13899_202500.0_Commercial associate</td>\n",
       "    </tr>\n",
       "    <tr>\n",
       "      <th>1</th>\n",
       "      <td>F</td>\n",
       "      <td>N</td>\n",
       "      <td>Y</td>\n",
       "      <td>1</td>\n",
       "      <td>247500.0</td>\n",
       "      <td>Commercial associate</td>\n",
       "      <td>Secondary / secondary special</td>\n",
       "      <td>Civil marriage</td>\n",
       "      <td>House / apartment</td>\n",
       "      <td>11380</td>\n",
       "      <td>...</td>\n",
       "      <td>3.0</td>\n",
       "      <td>5.0</td>\n",
       "      <td>1.0</td>\n",
       "      <td>4</td>\n",
       "      <td>31</td>\n",
       "      <td>82500.0</td>\n",
       "      <td>9840</td>\n",
       "      <td>160.714286</td>\n",
       "      <td>2.0</td>\n",
       "      <td>F_11380_247500.0_Commercial associate</td>\n",
       "    </tr>\n",
       "    <tr>\n",
       "      <th>2</th>\n",
       "      <td>M</td>\n",
       "      <td>Y</td>\n",
       "      <td>Y</td>\n",
       "      <td>0</td>\n",
       "      <td>450000.0</td>\n",
       "      <td>Working</td>\n",
       "      <td>Higher education</td>\n",
       "      <td>Married</td>\n",
       "      <td>House / apartment</td>\n",
       "      <td>19087</td>\n",
       "      <td>...</td>\n",
       "      <td>2.0</td>\n",
       "      <td>22.0</td>\n",
       "      <td>2.0</td>\n",
       "      <td>12</td>\n",
       "      <td>52</td>\n",
       "      <td>225000.0</td>\n",
       "      <td>14653</td>\n",
       "      <td>101.488498</td>\n",
       "      <td>2.0</td>\n",
       "      <td>M_19087_450000.0_Working</td>\n",
       "    </tr>\n",
       "    <tr>\n",
       "      <th>3</th>\n",
       "      <td>F</td>\n",
       "      <td>N</td>\n",
       "      <td>Y</td>\n",
       "      <td>0</td>\n",
       "      <td>202500.0</td>\n",
       "      <td>Commercial associate</td>\n",
       "      <td>Secondary / secondary special</td>\n",
       "      <td>Married</td>\n",
       "      <td>House / apartment</td>\n",
       "      <td>15088</td>\n",
       "      <td>...</td>\n",
       "      <td>2.0</td>\n",
       "      <td>37.0</td>\n",
       "      <td>0.0</td>\n",
       "      <td>5</td>\n",
       "      <td>41</td>\n",
       "      <td>101250.0</td>\n",
       "      <td>12996</td>\n",
       "      <td>96.797323</td>\n",
       "      <td>2.0</td>\n",
       "      <td>F_15088_202500.0_Commercial associate</td>\n",
       "    </tr>\n",
       "    <tr>\n",
       "      <th>4</th>\n",
       "      <td>F</td>\n",
       "      <td>Y</td>\n",
       "      <td>Y</td>\n",
       "      <td>0</td>\n",
       "      <td>157500.0</td>\n",
       "      <td>State servant</td>\n",
       "      <td>Higher education</td>\n",
       "      <td>Married</td>\n",
       "      <td>House / apartment</td>\n",
       "      <td>15037</td>\n",
       "      <td>...</td>\n",
       "      <td>2.0</td>\n",
       "      <td>26.0</td>\n",
       "      <td>2.0</td>\n",
       "      <td>5</td>\n",
       "      <td>41</td>\n",
       "      <td>78750.0</td>\n",
       "      <td>12932</td>\n",
       "      <td>74.821853</td>\n",
       "      <td>2.0</td>\n",
       "      <td>F_15037_157500.0_State servant</td>\n",
       "    </tr>\n",
       "  </tbody>\n",
       "</table>\n",
       "<p>5 rows × 24 columns</p>\n",
       "</div>"
      ],
      "text/plain": [
       "  gender car reality  child_num  income_total           income_type  \\\n",
       "0      F   N       N          0      202500.0  Commercial associate   \n",
       "1      F   N       Y          1      247500.0  Commercial associate   \n",
       "2      M   Y       Y          0      450000.0               Working   \n",
       "3      F   N       Y          0      202500.0  Commercial associate   \n",
       "4      F   Y       Y          0      157500.0         State servant   \n",
       "\n",
       "                        edu_type     family_type           house_type  \\\n",
       "0               Higher education         Married  Municipal apartment   \n",
       "1  Secondary / secondary special  Civil marriage    House / apartment   \n",
       "2               Higher education         Married    House / apartment   \n",
       "3  Secondary / secondary special         Married    House / apartment   \n",
       "4               Higher education         Married    House / apartment   \n",
       "\n",
       "   DAYS_BIRTH  ...  family_size  begin_month  credit  EMPLOYED  AGE  \\\n",
       "0       13899  ...          2.0          6.0     1.0        12   38   \n",
       "1       11380  ...          3.0          5.0     1.0         4   31   \n",
       "2       19087  ...          2.0         22.0     2.0        12   52   \n",
       "3       15088  ...          2.0         37.0     0.0         5   41   \n",
       "4       15037  ...          2.0         26.0     2.0         5   41   \n",
       "\n",
       "   income_mean  before_EMPLOYED  income_EMPLOYED  diff_fam_child  \\\n",
       "0     101250.0             9190        43.002761             2.0   \n",
       "1      82500.0             9840       160.714286             2.0   \n",
       "2     225000.0            14653       101.488498             2.0   \n",
       "3     101250.0            12996        96.797323             2.0   \n",
       "4      78750.0            12932        74.821853             2.0   \n",
       "\n",
       "                             personal_id  \n",
       "0  F_13899_202500.0_Commercial associate  \n",
       "1  F_11380_247500.0_Commercial associate  \n",
       "2               M_19087_450000.0_Working  \n",
       "3  F_15088_202500.0_Commercial associate  \n",
       "4         F_15037_157500.0_State servant  \n",
       "\n",
       "[5 rows x 24 columns]"
      ]
     },
     "execution_count": 11,
     "metadata": {},
     "output_type": "execute_result"
    }
   ],
   "source": [
    "train.head()"
   ]
  },
  {
   "cell_type": "code",
   "execution_count": 12,
   "id": "d1e3fca0-4fa2-4bdb-b64d-3ce6dbb22e34",
   "metadata": {},
   "outputs": [],
   "source": [
    "import numpy as np\n",
    "\n",
    "# 로그 변환할 특성 선택\n",
    "skewed_features = ['income_total', 'DAYS_EMPLOYED']\n",
    "\n",
    "# 0이나 음수 값이 없는 경우에만 로그 변환 적용\n",
    "for feature in skewed_features:\n",
    "    if (train[feature] > 0).all():\n",
    "        train[feature] = np.log(train[feature])\n",
    "        \n",
    "    if (test[feature] > 0).all():\n",
    "        test[feature] = np.log(test[feature])"
   ]
  },
  {
   "cell_type": "markdown",
   "id": "fb555d8f-9abd-4655-bc14-927e94f9e9bb",
   "metadata": {},
   "source": [
    "## **2. Binary variables**\n",
    "\n",
    "- gender, car, reality, income_type, edu_type, family_type, house_type"
   ]
  },
  {
   "cell_type": "code",
   "execution_count": 13,
   "id": "9d1f212b-14c3-4458-82fe-ca0e8a2830cd",
   "metadata": {
    "scrolled": true
   },
   "outputs": [],
   "source": [
    "from sklearn.preprocessing import LabelEncoder, OrdinalEncoder\n",
    "\n",
    "encoder = LabelEncoder()\n",
    "encoder = OrdinalEncoder()\n",
    "bin = ['gender', 'car', 'reality', 'income_type', 'edu_type', 'family_type', 'house_type',\"personal_id\"]\n",
    "encoder = OrdinalEncoder()\n",
    "train[bin] = encoder.fit_transform(train[bin], train['credit'])\n",
    "# test[bin] = encoder.transform(test[bin])\n",
    "\n",
    "# for i in bin:\n",
    "#     print(train[i].value_counts())\n",
    "#     s = encoder.fit_transform(train[i],train['credit'])\n",
    "#     train.loc[:,i] = s\n",
    "#     print(train[i].value_counts())\n",
    "#     print('-'*10)\n",
    "#     train[i] = pd.to_numeric(train[i])"
   ]
  },
  {
   "cell_type": "code",
   "execution_count": 14,
   "id": "0a1189a7-7b42-42fa-930d-df220d621eab",
   "metadata": {},
   "outputs": [],
   "source": [
    "# for i in bin:\n",
    "#     s = encoder.fit_transform(test[i])\n",
    "#     test.loc[:,i] = s\n",
    "#     test[i] = pd.to_numeric(test[i])"
   ]
  },
  {
   "cell_type": "markdown",
   "id": "843c2a07-3ead-4f0e-8d16-fd8993ba999a",
   "metadata": {},
   "source": [
    "### 이상치"
   ]
  },
  {
   "cell_type": "code",
   "execution_count": 15,
   "id": "347ef6ad-92bb-4e21-a6fe-116d547507e7",
   "metadata": {},
   "outputs": [
    {
     "name": "stdout",
     "output_type": "stream",
     "text": [
      "outlier의 수 :  369\n"
     ]
    }
   ],
   "source": [
    "def remove_outlier(train,column):\n",
    "    df = train[column]\n",
    "    # 1분위수\n",
    "    quan_25 = np.percentile(df.values, 25)\n",
    "    \n",
    "    # 3분위수\n",
    "    quan_75 = np.percentile(df.values, 75)\n",
    "    \n",
    "    iqr = quan_75 - quan_25\n",
    "    \n",
    "    lowest = quan_25 - iqr * 1.5\n",
    "    highest = quan_75 + iqr * 1.5\n",
    "    outlier_index = df[(df < lowest) | (df > highest)].index\n",
    "    print('outlier의 수 : ' , len(outlier_index))\n",
    "    train.drop(outlier_index, axis = 0, inplace = True)\n",
    "    \n",
    "    return train\n",
    "\n",
    "candidate = ['child_num']\n",
    "# candidate = [\"child_num\",\"income_total\",\"DAYS_BIRTH\",\"DAYS_EMPLOYED\",\"family_size\",\"begin_month\"]\n",
    "for cand in candidate:  \n",
    "    train = remove_outlier(train,cand)\n",
    "    "
   ]
  },
  {
   "cell_type": "code",
   "execution_count": 16,
   "id": "36b5a5f1-9ddf-40a6-bb0f-47f49d09798c",
   "metadata": {},
   "outputs": [
    {
     "ename": "NameError",
     "evalue": "name 'sns' is not defined",
     "output_type": "error",
     "traceback": [
      "\u001b[0;31m---------------------------------------------------------------------------\u001b[0m",
      "\u001b[0;31mNameError\u001b[0m                                 Traceback (most recent call last)",
      "Cell \u001b[0;32mIn[16], line 1\u001b[0m\n\u001b[0;32m----> 1\u001b[0m \u001b[43msns\u001b[49m\u001b[38;5;241m.\u001b[39mheatmap(train\u001b[38;5;241m.\u001b[39mcorr())\n",
      "\u001b[0;31mNameError\u001b[0m: name 'sns' is not defined"
     ]
    }
   ],
   "source": [
    "sns.heatmap(train.corr())"
   ]
  },
  {
   "cell_type": "code",
   "execution_count": null,
   "id": "5de90fc7-73c8-4a02-acf6-2954dd90589e",
   "metadata": {},
   "outputs": [],
   "source": [
    "train.drop([\"child_num\",\"DAYS_BIRTH\",'gender'],axis = 1, inplace = True)"
   ]
  },
  {
   "cell_type": "code",
   "execution_count": 17,
   "id": "68606790-3d10-4132-a6ce-e38ed314ba2d",
   "metadata": {
    "scrolled": true
   },
   "outputs": [
    {
     "ename": "NameError",
     "evalue": "name 'sns' is not defined",
     "output_type": "error",
     "traceback": [
      "\u001b[0;31m---------------------------------------------------------------------------\u001b[0m",
      "\u001b[0;31mNameError\u001b[0m                                 Traceback (most recent call last)",
      "Cell \u001b[0;32mIn[17], line 1\u001b[0m\n\u001b[0;32m----> 1\u001b[0m \u001b[43msns\u001b[49m\u001b[38;5;241m.\u001b[39mheatmap(train\u001b[38;5;241m.\u001b[39mcorr())\n",
      "\u001b[0;31mNameError\u001b[0m: name 'sns' is not defined"
     ]
    }
   ],
   "source": [
    "sns.heatmap(train.corr())"
   ]
  },
  {
   "cell_type": "markdown",
   "id": "327da7e0-7ba7-4fec-8953-3f7ec2ff3107",
   "metadata": {},
   "source": [
    "### StandardScaler"
   ]
  },
  {
   "cell_type": "code",
   "execution_count": 18,
   "id": "1b514453-06f4-4c89-bd85-76184d89c4e0",
   "metadata": {},
   "outputs": [
    {
     "data": {
      "text/plain": [
       "begin_month        0.291060\n",
       "EMPLOYED           1.759379\n",
       "before_EMPLOYED   -1.758229\n",
       "income_mean        2.594154\n",
       "income_EMPLOYED    6.315229\n",
       "dtype: float64"
      ]
     },
     "execution_count": 18,
     "metadata": {},
     "output_type": "execute_result"
    }
   ],
   "source": [
    "s = [\"begin_month\",\"EMPLOYED\",\"before_EMPLOYED\",\"income_mean\",\"income_EMPLOYED\"]\n",
    "train[s].skew() #income_mean과 income_EMPLOYED의 skew가 높은 것을 볼 수 있다."
   ]
  },
  {
   "cell_type": "code",
   "execution_count": 19,
   "id": "c36bc2f2-af65-4d62-a827-dc1f332c45db",
   "metadata": {},
   "outputs": [],
   "source": [
    "s = [\"begin_month\",\"EMPLOYED\"]"
   ]
  },
  {
   "cell_type": "code",
   "execution_count": 20,
   "id": "ecc4bc8b-42ec-49a5-a594-80f2dfe9997d",
   "metadata": {},
   "outputs": [
    {
     "ename": "NameError",
     "evalue": "name 'StandardScaler' is not defined",
     "output_type": "error",
     "traceback": [
      "\u001b[0;31m---------------------------------------------------------------------------\u001b[0m",
      "\u001b[0;31mNameError\u001b[0m                                 Traceback (most recent call last)",
      "Cell \u001b[0;32mIn[20], line 1\u001b[0m\n\u001b[0;32m----> 1\u001b[0m scaler \u001b[38;5;241m=\u001b[39m \u001b[43mStandardScaler\u001b[49m() \u001b[38;5;66;03m#skew가 높은 것을 제외한 것들 정규화\u001b[39;00m\n\u001b[1;32m      2\u001b[0m train[s] \u001b[38;5;241m=\u001b[39m scaler\u001b[38;5;241m.\u001b[39mfit_transform(train[s])\n",
      "\u001b[0;31mNameError\u001b[0m: name 'StandardScaler' is not defined"
     ]
    }
   ],
   "source": [
    "scaler = StandardScaler() #skew가 높은 것을 제외한 것들 정규화\n",
    "train[s] = scaler.fit_transform(train[s])"
   ]
  },
  {
   "cell_type": "code",
   "execution_count": 21,
   "id": "1a75b685-13c3-4ded-a933-a0bae36511f4",
   "metadata": {},
   "outputs": [],
   "source": [
    "if (train[\"income_mean\"] > 0).all():\n",
    "        train[\"income_mean\"] = np.log(train[\"income_mean\"])"
   ]
  },
  {
   "cell_type": "code",
   "execution_count": 22,
   "id": "0ece055f-41f6-41bd-b7bb-a16713f33807",
   "metadata": {},
   "outputs": [],
   "source": [
    "if (train[\"income_EMPLOYED\"] > 0).all():\n",
    "        train[\"income_EMPLOYED\"] = np.log(train[\"income_EMPLOYED\"])\n",
    "    "
   ]
  },
  {
   "cell_type": "code",
   "execution_count": 23,
   "id": "3ea0984b-e149-4873-94fd-63f26de2a4e1",
   "metadata": {},
   "outputs": [
    {
     "data": {
      "text/plain": [
       "(-1.0666075187916602, 0.15056016138733389)"
      ]
     },
     "execution_count": 23,
     "metadata": {},
     "output_type": "execute_result"
    }
   ],
   "source": [
    "train['income_EMPLOYED'].skew(), train['income_mean'].skew() "
   ]
  },
  {
   "cell_type": "markdown",
   "id": "b2610f00-67df-40f9-afc0-5dfbaf8fa7f8",
   "metadata": {},
   "source": [
    "## 3. Modeling"
   ]
  },
  {
   "cell_type": "code",
   "execution_count": 24,
   "id": "78729ead-619a-4f6f-9254-d62b8bb9ff62",
   "metadata": {},
   "outputs": [
    {
     "ename": "NameError",
     "evalue": "name 'train_x' is not defined",
     "output_type": "error",
     "traceback": [
      "\u001b[0;31m---------------------------------------------------------------------------\u001b[0m",
      "\u001b[0;31mNameError\u001b[0m                                 Traceback (most recent call last)",
      "Cell \u001b[0;32mIn[24], line 1\u001b[0m\n\u001b[0;32m----> 1\u001b[0m \u001b[38;5;28mprint\u001b[39m(\u001b[43mtrain_x\u001b[49m\u001b[38;5;241m.\u001b[39mshape, train_y\u001b[38;5;241m.\u001b[39mshape, test\u001b[38;5;241m.\u001b[39mshape)\n",
      "\u001b[0;31mNameError\u001b[0m: name 'train_x' is not defined"
     ]
    }
   ],
   "source": [
    "print(train_x.shape, train_y.shape, test.shape)"
   ]
  },
  {
   "cell_type": "markdown",
   "id": "05cf8d5e-607a-46ef-b3c6-714965999b99",
   "metadata": {},
   "source": [
    "#### Logistic"
   ]
  },
  {
   "cell_type": "code",
   "execution_count": 25,
   "id": "f304ca93-1f17-45e7-8732-fa18a54541ae",
   "metadata": {},
   "outputs": [
    {
     "ename": "NameError",
     "evalue": "name 'to_categorical' is not defined",
     "output_type": "error",
     "traceback": [
      "\u001b[0;31m---------------------------------------------------------------------------\u001b[0m",
      "\u001b[0;31mNameError\u001b[0m                                 Traceback (most recent call last)",
      "Cell \u001b[0;32mIn[25], line 13\u001b[0m\n\u001b[1;32m     11\u001b[0m clf\u001b[38;5;241m.\u001b[39mfit(x_train, y_train)\n\u001b[1;32m     12\u001b[0m y_pred \u001b[38;5;241m=\u001b[39m clf\u001b[38;5;241m.\u001b[39mpredict_proba(x_test)\n\u001b[0;32m---> 13\u001b[0m log_loss(\u001b[43mto_categorical\u001b[49m(y_test[\u001b[38;5;124m'\u001b[39m\u001b[38;5;124mcredit\u001b[39m\u001b[38;5;124m'\u001b[39m]),y_pred)\n",
      "\u001b[0;31mNameError\u001b[0m: name 'to_categorical' is not defined"
     ]
    }
   ],
   "source": [
    "from sklearn.linear_model import LogisticRegression\n",
    "from sklearn.metrics import accuracy_score, log_loss\n",
    "from sklearn.metrics import f1_score\n",
    "train_x=train.drop('credit', axis=1)\n",
    "train_y=train[['credit']]\n",
    "x_train, x_test, y_train, y_test = train_test_split(train_x, train_y, \n",
    "                                                    stratify=train_y, test_size=0.2,\n",
    "                                                    random_state = 46)\n",
    "\n",
    "clf= LogisticRegression()\n",
    "clf.fit(x_train, y_train)\n",
    "y_pred = clf.predict_proba(x_test)\n",
    "log_loss(to_categorical(y_test['credit']),y_pred)"
   ]
  },
  {
   "cell_type": "markdown",
   "id": "b6831f7d-a33d-46d4-a498-45a2d50b9347",
   "metadata": {},
   "source": [
    "#### XGB"
   ]
  },
  {
   "cell_type": "code",
   "execution_count": 1279,
   "id": "98ee1dee-6da8-4666-8b05-18b13e19a3e3",
   "metadata": {},
   "outputs": [
    {
     "data": {
      "text/plain": [
       "0.7326513937199086"
      ]
     },
     "execution_count": 1279,
     "metadata": {},
     "output_type": "execute_result"
    }
   ],
   "source": [
    "from tensorflow.keras.utils import to_categorical\n",
    "from xgboost import XGBClassifier\n",
    "train_x=train.drop('credit', axis=1)\n",
    "train_y=train[['credit']]\n",
    "x_train, x_test, y_train, y_test = train_test_split(train_x, train_y, \n",
    "                                                    stratify=train_y, test_size=0.2,\n",
    "                                                    random_state = 42)\n",
    "clf=XGBClassifier()\n",
    "clf.fit(x_train, y_train)\n",
    "# y_pred = clf.predict(x_test)\n",
    "#기본 0.7031368102796675\n",
    "# accuracy_score(y_test, y_pred) #0.70427059712774(로그 변환), 0.7106170946722883(이상치 제거) # 0.7073591414334994 떨어짐..\n",
    "y_pred = clf.predict_proba(x_test)\n",
    "log_loss(to_categorical(y_test['credit']),y_pred)"
   ]
  },
  {
   "cell_type": "code",
   "execution_count": 1280,
   "id": "43908784-0f24-4eb3-b08c-a1b76f7e144f",
   "metadata": {},
   "outputs": [],
   "source": [
    "#0.7570779095141649 (첫번째 노 전처리)\n",
    "#0.7437512418790037 (이상치 제거)\n",
    "#0.7326513937199086 (종합..?)"
   ]
  },
  {
   "cell_type": "code",
   "execution_count": null,
   "id": "64eacf8c-85d9-424e-a0d9-b10c8e7bd5ec",
   "metadata": {},
   "outputs": [],
   "source": []
  },
  {
   "cell_type": "code",
   "execution_count": null,
   "id": "626ee1fa-f6ef-41a9-976d-e0d717472c73",
   "metadata": {},
   "outputs": [],
   "source": []
  }
 ],
 "metadata": {
  "kernelspec": {
   "display_name": "Python 3 (ipykernel)",
   "language": "python",
   "name": "python3"
  },
  "language_info": {
   "codemirror_mode": {
    "name": "ipython",
    "version": 3
   },
   "file_extension": ".py",
   "mimetype": "text/x-python",
   "name": "python",
   "nbconvert_exporter": "python",
   "pygments_lexer": "ipython3",
   "version": "3.11.5"
  }
 },
 "nbformat": 4,
 "nbformat_minor": 5
}
