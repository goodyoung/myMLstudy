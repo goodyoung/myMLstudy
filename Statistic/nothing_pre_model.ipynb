{
 "cells": [
  {
   "cell_type": "code",
   "execution_count": 282,
   "id": "57c8e4e9-1b70-48c2-a8f2-30116c8fbe59",
   "metadata": {
    "tags": []
   },
   "outputs": [],
   "source": [
    "import warnings\n",
    "warnings.filterwarnings('ignore')\n",
    "import numpy as np\n",
    "import pandas as pd   \n",
    "import matplotlib.pyplot as plt\n",
    "# import seaborn as sns\n",
    "import itertools\n",
    "\n",
    "from sklearn.model_selection import train_test_split\n",
    "from sklearn.metrics import accuracy_score, confusion_matrix, log_loss\n",
    "\n",
    "# from sklearn.linear_model import LogisticRegression\n",
    "# from sklearn.tree import DecisionTreeClassifier\n",
    "\n",
    "# from xgboost import XGBClassifier\n",
    "# from lightgbm import LGBMClassifier\n",
    "# from catboost import CatBoostClassifier\n",
    "# from sklearn import svm\n",
    "# from sklearn.ensemble import RandomForestClassifier"
   ]
  },
  {
   "cell_type": "code",
   "execution_count": 283,
   "id": "766d971f-7fa6-49cf-b1ad-dd23b2d644ff",
   "metadata": {},
   "outputs": [],
   "source": [
    "train=pd.read_csv('train.csv')\n",
    "test=pd.read_csv('test.csv')\n",
    "submission=pd.read_csv('sample_submission.csv')"
   ]
  },
  {
   "cell_type": "markdown",
   "id": "821eda16-389d-4b3e-bb0e-fdb626f930ba",
   "metadata": {},
   "source": [
    "## **1. 결측치 제거** \n",
    "\n",
    "- occpy_type 제거 이유\n",
    "    - NULL 값을 보여줘야한다. -> R\n",
    "- FLAG_MOBIL\n",
    "  - 모두가 1인것을 보여줘야한다"
   ]
  },
  {
   "cell_type": "code",
   "execution_count": 269,
   "id": "25dd03de-a8d4-4583-a937-ecde39914aa2",
   "metadata": {},
   "outputs": [],
   "source": [
    "train=train.drop(['index','occyp_type','FLAG_MOBIL'], axis=1)\n",
    "test=test.drop(['index','occyp_type','FLAG_MOBIL'], axis=1)"
   ]
  },
  {
   "cell_type": "code",
   "execution_count": 270,
   "id": "84f4d487-c636-40d0-80bb-9eb00b264b04",
   "metadata": {},
   "outputs": [],
   "source": [
    "train[\"DAYS_BIRTH\"] = abs(train[\"DAYS_BIRTH\"])\n",
    "train[\"DAYS_EMPLOYED\"] = abs(train[\"DAYS_EMPLOYED\"])\n",
    "train[\"begin_month\"] = abs(train[\"begin_month\"])"
   ]
  },
  {
   "cell_type": "code",
   "execution_count": 271,
   "id": "5b08c1ad-f614-49b5-a398-227708ac7e13",
   "metadata": {},
   "outputs": [],
   "source": [
    "import numpy as np\n",
    "\n",
    "# 로그 변환할 특성 선택\n",
    "skewed_features = ['income_total', 'DAYS_EMPLOYED']\n",
    "\n",
    "# 0이나 음수 값이 없는 경우에만 로그 변환 적용\n",
    "for feature in skewed_features:\n",
    "    if (train[feature] > 0).all():\n",
    "        train[feature] = np.log(train[feature])"
   ]
  },
  {
   "cell_type": "markdown",
   "id": "fb555d8f-9abd-4655-bc14-927e94f9e9bb",
   "metadata": {},
   "source": [
    "## **2. Binary variables**\n",
    "\n",
    "- gender, car, reality, income_type, edu_type, family_type, house_type"
   ]
  },
  {
   "cell_type": "code",
   "execution_count": 272,
   "id": "9d1f212b-14c3-4458-82fe-ca0e8a2830cd",
   "metadata": {
    "scrolled": true
   },
   "outputs": [
    {
     "name": "stdout",
     "output_type": "stream",
     "text": [
      "gender\n",
      "F    17697\n",
      "M     8760\n",
      "Name: count, dtype: int64\n",
      "gender\n",
      "0    17697\n",
      "1     8760\n",
      "Name: count, dtype: int64\n",
      "----------\n",
      "car\n",
      "N    16410\n",
      "Y    10047\n",
      "Name: count, dtype: int64\n",
      "car\n",
      "0    16410\n",
      "1    10047\n",
      "Name: count, dtype: int64\n",
      "----------\n",
      "reality\n",
      "Y    17830\n",
      "N     8627\n",
      "Name: count, dtype: int64\n",
      "reality\n",
      "1    17830\n",
      "0     8627\n",
      "Name: count, dtype: int64\n",
      "----------\n",
      "income_type\n",
      "Working                 13645\n",
      "Commercial associate     6202\n",
      "Pensioner                4449\n",
      "State servant            2154\n",
      "Student                     7\n",
      "Name: count, dtype: int64\n",
      "income_type\n",
      "4    13645\n",
      "0     6202\n",
      "1     4449\n",
      "2     2154\n",
      "3        7\n",
      "Name: count, dtype: int64\n",
      "----------\n",
      "edu_type\n",
      "Secondary / secondary special    17995\n",
      "Higher education                  7162\n",
      "Incomplete higher                 1020\n",
      "Lower secondary                    257\n",
      "Academic degree                     23\n",
      "Name: count, dtype: int64\n",
      "edu_type\n",
      "4    17995\n",
      "1     7162\n",
      "2     1020\n",
      "3      257\n",
      "0       23\n",
      "Name: count, dtype: int64\n",
      "----------\n",
      "family_type\n",
      "Married                 18196\n",
      "Single / not married     3496\n",
      "Civil marriage           2123\n",
      "Separated                1539\n",
      "Widow                    1103\n",
      "Name: count, dtype: int64\n",
      "family_type\n",
      "1    18196\n",
      "3     3496\n",
      "0     2123\n",
      "2     1539\n",
      "4     1103\n",
      "Name: count, dtype: int64\n",
      "----------\n",
      "house_type\n",
      "House / apartment      23653\n",
      "With parents            1257\n",
      "Municipal apartment      818\n",
      "Rented apartment         429\n",
      "Office apartment         190\n",
      "Co-op apartment          110\n",
      "Name: count, dtype: int64\n",
      "house_type\n",
      "1    23653\n",
      "5     1257\n",
      "2      818\n",
      "4      429\n",
      "3      190\n",
      "0      110\n",
      "Name: count, dtype: int64\n",
      "----------\n"
     ]
    }
   ],
   "source": [
    "from sklearn.preprocessing import LabelEncoder\n",
    "\n",
    "encoder = LabelEncoder()\n",
    "\n",
    "bin = ['gender', 'car', 'reality', 'income_type', 'edu_type', 'family_type', 'house_type']\n",
    "for i in bin:\n",
    "    print(train[i].value_counts())\n",
    "    s = encoder.fit_transform(train[i])\n",
    "    train.loc[:,i] = s\n",
    "    print(train[i].value_counts())\n",
    "    print('-'*10)\n",
    "    train[i] = pd.to_numeric(train[i])"
   ]
  },
  {
   "cell_type": "code",
   "execution_count": 252,
   "id": "0a1189a7-7b42-42fa-930d-df220d621eab",
   "metadata": {},
   "outputs": [],
   "source": [
    "for i in bin:\n",
    "    s = encoder.fit_transform(test[i])\n",
    "    test.loc[:,i] = s\n",
    "    test[i] = pd.to_numeric(test[i])"
   ]
  },
  {
   "cell_type": "markdown",
   "id": "b2610f00-67df-40f9-afc0-5dfbaf8fa7f8",
   "metadata": {},
   "source": [
    "## 3. Modeling"
   ]
  },
  {
   "cell_type": "code",
   "execution_count": 73,
   "id": "78729ead-619a-4f6f-9254-d62b8bb9ff62",
   "metadata": {},
   "outputs": [
    {
     "name": "stdout",
     "output_type": "stream",
     "text": [
      "(26457, 16) (26457, 1) (10000, 16)\n"
     ]
    }
   ],
   "source": [
    "print(train_x.shape, train_y.shape, test.shape)"
   ]
  },
  {
   "cell_type": "markdown",
   "id": "05cf8d5e-607a-46ef-b3c6-714965999b99",
   "metadata": {},
   "source": [
    "#### Logistic"
   ]
  },
  {
   "cell_type": "code",
   "execution_count": 224,
   "id": "f304ca93-1f17-45e7-8732-fa18a54541ae",
   "metadata": {},
   "outputs": [
    {
     "data": {
      "text/plain": [
       "0.6415418610360913"
      ]
     },
     "execution_count": 224,
     "metadata": {},
     "output_type": "execute_result"
    }
   ],
   "source": [
    "from sklearn.linear_model import LogisticRegression\n",
    "from sklearn.metrics import accuracy_score, log_loss\n",
    "from sklearn.metrics import f1_score\n",
    "train_x=train.drop('credit', axis=1)\n",
    "train_y=train[['credit']]\n",
    "x_train, x_test, y_train, y_test = train_test_split(train_x, train_y, \n",
    "                                                    stratify=train_y, test_size=0.2,\n",
    "                                                    random_state = 46)\n",
    "\n",
    "clf= LogisticRegression()\n",
    "clf.fit(x_train, y_train)\n",
    "y_pred = clf.predict(x_test)\n",
    "accuracy_score(y_test, y_pred) #0.6413454270597128"
   ]
  },
  {
   "cell_type": "markdown",
   "id": "b6831f7d-a33d-46d4-a498-45a2d50b9347",
   "metadata": {},
   "source": [
    "#### XGB"
   ]
  },
  {
   "cell_type": "code",
   "execution_count": 233,
   "id": "98ee1dee-6da8-4666-8b05-18b13e19a3e3",
   "metadata": {},
   "outputs": [
    {
     "data": {
      "text/plain": [
       "0.7153488372093023"
      ]
     },
     "execution_count": 233,
     "metadata": {},
     "output_type": "execute_result"
    }
   ],
   "source": [
    "from xgboost import XGBClassifier\n",
    "train_x=train.drop('credit', axis=1)\n",
    "train_y=train[['credit']]\n",
    "x_train, x_test, y_train, y_test = train_test_split(train_x, train_y, \n",
    "                                                    stratify=train_y, test_size=0.2,\n",
    "                                                    random_state = 46)\n",
    "clf=XGBClassifier()\n",
    "clf.fit(x_train, y_train)\n",
    "y_pred = clf.predict(x_test)\n",
    "accuracy_score(y_test, y_pred) #0.7031368102796675(로그 변환), 0.7050594097355308(이상치 제거), #????0.7153488372093023"
   ]
  },
  {
   "cell_type": "code",
   "execution_count": null,
   "id": "5e563acc-4a15-4d35-b3b6-48e4bab32b1c",
   "metadata": {},
   "outputs": [],
   "source": [
    "from sklearn.preprocessing import StandardScaler\n",
    "from sklearn.preprocessing import MinMaxScaler\n",
    "\n",
    "scaler = StandardScaler()"
   ]
  },
  {
   "cell_type": "markdown",
   "id": "aeec61f6-4477-4ac0-98ec-473fd56ca5cf",
   "metadata": {},
   "source": [
    "### Modeling2"
   ]
  },
  {
   "cell_type": "code",
   "execution_count": 234,
   "id": "7dffbaa4-6ebe-45b7-bf9a-e6bf1d16053b",
   "metadata": {},
   "outputs": [
    {
     "data": {
      "image/png": "[encoded data removed]",
      "text/plain": [
       "<Figure size 2000x1500 with 4 Axes>"
      ]
     },
     "metadata": {},
     "output_type": "display_data"
    }
   ],
   "source": [
    "import matplotlib.pyplot as plt\n",
    "import seaborn as sns\n",
    "columns = ['income_total','DAYS_BIRTH','DAYS_EMPLOYED','begin_month']\n",
    "plt.figure(figsize = (20,15))\n",
    "for i in range(4):\n",
    "    plt.subplot(3,2,i+1)\n",
    "    sns.distplot(train[columns[i]])\n",
    "plt.show()"
   ]
  },
  {
   "cell_type": "code",
   "execution_count": 235,
   "id": "73c54a98-d9db-4884-a6aa-6fbbf338fa68",
   "metadata": {},
   "outputs": [
    {
     "data": {
      "image/png": "[encoded data removed]",
      "text/plain": [
       "<Figure size 2000x1500 with 2 Axes>"
      ]
     },
     "metadata": {},
     "output_type": "display_data"
    }
   ],
   "source": [
    "import matplotlib.pyplot as plt\n",
    "import seaborn as sns\n",
    "columns = skewed_features\n",
    "plt.figure(figsize = (20,15))\n",
    "for i in range(2):\n",
    "    plt.subplot(3,2,i+1)\n",
    "    sns.distplot(train[columns[i]])\n",
    "plt.show()"
   ]
  },
  {
   "cell_type": "code",
   "execution_count": 189,
   "id": "d5a2c8b4-0959-4c80-ba18-2954bf0870e7",
   "metadata": {},
   "outputs": [
    {
     "data": {
      "text/plain": [
       "{'whiskers': [<matplotlib.lines.Line2D at 0x13998f710>,\n",
       "  <matplotlib.lines.Line2D at 0x1333a7cd0>,\n",
       "  <matplotlib.lines.Line2D at 0x13810df10>,\n",
       "  <matplotlib.lines.Line2D at 0x137fe1810>],\n",
       " 'caps': [<matplotlib.lines.Line2D at 0x13810e050>,\n",
       "  <matplotlib.lines.Line2D at 0x137dbd610>,\n",
       "  <matplotlib.lines.Line2D at 0x137fe3150>,\n",
       "  <matplotlib.lines.Line2D at 0x137fe1110>],\n",
       " 'boxes': [<matplotlib.lines.Line2D at 0x13998eb50>,\n",
       "  <matplotlib.lines.Line2D at 0x13810e010>],\n",
       " 'medians': [<matplotlib.lines.Line2D at 0x13810f010>,\n",
       "  <matplotlib.lines.Line2D at 0x137fe39d0>],\n",
       " 'fliers': [<matplotlib.lines.Line2D at 0x13810dc50>,\n",
       "  <matplotlib.lines.Line2D at 0x135ac5e90>],\n",
       " 'means': []}"
      ]
     },
     "execution_count": 189,
     "metadata": {},
     "output_type": "execute_result"
    },
    {
     "data": {
      "image/png": "[encoded data removed]",
      "text/plain": [
       "<Figure size 640x480 with 1 Axes>"
      ]
     },
     "metadata": {},
     "output_type": "display_data"
    }
   ],
   "source": [
    "# child_num과 family_size의 박스플롯\n",
    "plt.boxplot(x=train[['child_num','family_size']])"
   ]
  },
  {
   "cell_type": "code",
   "execution_count": 253,
   "id": "ff9b2b0e-2e7f-4d60-81e9-a8d67b405baa",
   "metadata": {},
   "outputs": [],
   "source": [
    "test = train.copy()"
   ]
  },
  {
   "cell_type": "code",
   "execution_count": 276,
   "id": "347ef6ad-92bb-4e21-a6fe-116d547507e7",
   "metadata": {},
   "outputs": [
    {
     "name": "stdout",
     "output_type": "stream",
     "text": [
      "outlier의 수 :  350\n",
      "outlier의 수 :  19\n",
      "outlier의 수 :  4589\n"
     ]
    }
   ],
   "source": [
    "def remove_outlier(train,column):\n",
    "    df = train[column]\n",
    "    # 1분위수\n",
    "    quan_25 = np.percentile(df.values, 25)\n",
    "    \n",
    "    # 3분위수\n",
    "    quan_75 = np.percentile(df.values, 75)\n",
    "    \n",
    "    iqr = quan_75 - quan_25\n",
    "    \n",
    "    lowest = quan_25 - iqr * 1.5\n",
    "    highest = quan_75 + iqr * 1.5\n",
    "    outlier_index = df[(df < lowest) | (df > highest)].index\n",
    "    print('outlier의 수 : ' , len(outlier_index))\n",
    "    train.drop(outlier_index, axis = 0, inplace = True)\n",
    "    \n",
    "    return train\n",
    "\n",
    "candidate = [\"family_size\",'child_num','DAYS_EMPLOYED']\n",
    "# candidate = [\"child_num\",\"income_total\",\"DAYS_BIRTH\",\"DAYS_EMPLOYED\",\"family_size\",\"begin_month\"]\n",
    "for cand in candidate:  \n",
    "    train = remove_outlier(train,cand)\n",
    "    "
   ]
  },
  {
   "cell_type": "code",
   "execution_count": 268,
   "id": "1041783f-06f3-4e11-ac99-d6d82d9f9ac7",
   "metadata": {},
   "outputs": [
    {
     "data": {
      "text/html": [
       "<div>\n",
       "<style scoped>\n",
       "    .dataframe tbody tr th:only-of-type {\n",
       "        vertical-align: middle;\n",
       "    }\n",
       "\n",
       "    .dataframe tbody tr th {\n",
       "        vertical-align: top;\n",
       "    }\n",
       "\n",
       "    .dataframe thead th {\n",
       "        text-align: right;\n",
       "    }\n",
       "</style>\n",
       "<table border=\"1\" class=\"dataframe\">\n",
       "  <thead>\n",
       "    <tr style=\"text-align: right;\">\n",
       "      <th></th>\n",
       "      <th>child_num</th>\n",
       "      <th>family_size</th>\n",
       "      <th>credit</th>\n",
       "    </tr>\n",
       "  </thead>\n",
       "  <tbody>\n",
       "    <tr>\n",
       "      <th>child_num</th>\n",
       "      <td>1.000000</td>\n",
       "      <td>0.890530</td>\n",
       "      <td>0.004081</td>\n",
       "    </tr>\n",
       "    <tr>\n",
       "      <th>family_size</th>\n",
       "      <td>0.890530</td>\n",
       "      <td>1.000000</td>\n",
       "      <td>0.008227</td>\n",
       "    </tr>\n",
       "    <tr>\n",
       "      <th>credit</th>\n",
       "      <td>0.004081</td>\n",
       "      <td>0.008227</td>\n",
       "      <td>1.000000</td>\n",
       "    </tr>\n",
       "  </tbody>\n",
       "</table>\n",
       "</div>"
      ],
      "text/plain": [
       "             child_num  family_size    credit\n",
       "child_num     1.000000     0.890530  0.004081\n",
       "family_size   0.890530     1.000000  0.008227\n",
       "credit        0.004081     0.008227  1.000000"
      ]
     },
     "execution_count": 268,
     "metadata": {},
     "output_type": "execute_result"
    }
   ],
   "source": [
    "train[[\"child_num\",\"family_size\",\"credit\"]].corr()"
   ]
  },
  {
   "cell_type": "code",
   "execution_count": 277,
   "id": "60982232-bbcf-4616-87e8-da68538c9a83",
   "metadata": {},
   "outputs": [
    {
     "data": {
      "text/html": [
       "<div>\n",
       "<style scoped>\n",
       "    .dataframe tbody tr th:only-of-type {\n",
       "        vertical-align: middle;\n",
       "    }\n",
       "\n",
       "    .dataframe tbody tr th {\n",
       "        vertical-align: top;\n",
       "    }\n",
       "\n",
       "    .dataframe thead th {\n",
       "        text-align: right;\n",
       "    }\n",
       "</style>\n",
       "<table border=\"1\" class=\"dataframe\">\n",
       "  <thead>\n",
       "    <tr style=\"text-align: right;\">\n",
       "      <th></th>\n",
       "      <th>child_num</th>\n",
       "      <th>family_size</th>\n",
       "      <th>credit</th>\n",
       "    </tr>\n",
       "  </thead>\n",
       "  <tbody>\n",
       "    <tr>\n",
       "      <th>child_num</th>\n",
       "      <td>1.000000</td>\n",
       "      <td>0.878134</td>\n",
       "      <td>0.003536</td>\n",
       "    </tr>\n",
       "    <tr>\n",
       "      <th>family_size</th>\n",
       "      <td>0.878134</td>\n",
       "      <td>1.000000</td>\n",
       "      <td>0.006079</td>\n",
       "    </tr>\n",
       "    <tr>\n",
       "      <th>credit</th>\n",
       "      <td>0.003536</td>\n",
       "      <td>0.006079</td>\n",
       "      <td>1.000000</td>\n",
       "    </tr>\n",
       "  </tbody>\n",
       "</table>\n",
       "</div>"
      ],
      "text/plain": [
       "             child_num  family_size    credit\n",
       "child_num     1.000000     0.878134  0.003536\n",
       "family_size   0.878134     1.000000  0.006079\n",
       "credit        0.003536     0.006079  1.000000"
      ]
     },
     "execution_count": 277,
     "metadata": {},
     "output_type": "execute_result"
    }
   ],
   "source": [
    "train[[\"child_num\",\"family_size\",\"credit\"]].corr()"
   ]
  },
  {
   "cell_type": "code",
   "execution_count": 285,
   "id": "6cf5e4b6-020f-465d-9a49-e3a638ec9b94",
   "metadata": {},
   "outputs": [],
   "source": [
    "train['person'] = train[\"family_size\"] - train[\"child_num\"]"
   ]
  },
  {
   "cell_type": "code",
   "execution_count": 286,
   "id": "6a0c9a01-b4d7-4a62-b2be-5779bcb90c11",
   "metadata": {},
   "outputs": [
    {
     "data": {
      "text/html": [
       "<div>\n",
       "<style scoped>\n",
       "    .dataframe tbody tr th:only-of-type {\n",
       "        vertical-align: middle;\n",
       "    }\n",
       "\n",
       "    .dataframe tbody tr th {\n",
       "        vertical-align: top;\n",
       "    }\n",
       "\n",
       "    .dataframe thead th {\n",
       "        text-align: right;\n",
       "    }\n",
       "</style>\n",
       "<table border=\"1\" class=\"dataframe\">\n",
       "  <thead>\n",
       "    <tr style=\"text-align: right;\">\n",
       "      <th></th>\n",
       "      <th>person</th>\n",
       "      <th>credit</th>\n",
       "    </tr>\n",
       "  </thead>\n",
       "  <tbody>\n",
       "    <tr>\n",
       "      <th>person</th>\n",
       "      <td>1.000000</td>\n",
       "      <td>0.010627</td>\n",
       "    </tr>\n",
       "    <tr>\n",
       "      <th>credit</th>\n",
       "      <td>0.010627</td>\n",
       "      <td>1.000000</td>\n",
       "    </tr>\n",
       "  </tbody>\n",
       "</table>\n",
       "</div>"
      ],
      "text/plain": [
       "          person    credit\n",
       "person  1.000000  0.010627\n",
       "credit  0.010627  1.000000"
      ]
     },
     "execution_count": 286,
     "metadata": {},
     "output_type": "execute_result"
    }
   ],
   "source": [
    "train[[\"person\",\"credit\"]].corr()"
   ]
  },
  {
   "cell_type": "code",
   "execution_count": 287,
   "id": "66626943-1a70-483b-8696-aee802dfb314",
   "metadata": {},
   "outputs": [
    {
     "data": {
      "text/plain": [
       "(array([1.0000e+00, 0.0000e+00, 0.0000e+00, 5.0000e+00, 0.0000e+00,\n",
       "        0.0000e+00, 6.1200e+03, 0.0000e+00, 0.0000e+00, 2.0331e+04]),\n",
       " array([-1. , -0.7, -0.4, -0.1,  0.2,  0.5,  0.8,  1.1,  1.4,  1.7,  2. ]),\n",
       " <BarContainer object of 10 artists>)"
      ]
     },
     "execution_count": 287,
     "metadata": {},
     "output_type": "execute_result"
    },
    {
     "data": {
      "image/png": "[encoded data removed]",
      "text/plain": [
       "<Figure size 640x480 with 1 Axes>"
      ]
     },
     "metadata": {},
     "output_type": "display_data"
    }
   ],
   "source": [
    "plt.hist(train['person'])"
   ]
  },
  {
   "cell_type": "code",
   "execution_count": 291,
   "id": "67995feb-2a51-47c6-9e3d-fa6012a503b3",
   "metadata": {},
   "outputs": [
    {
     "data": {
      "text/plain": [
       "child_num\n",
       "0     18340\n",
       "1      5386\n",
       "2      2362\n",
       "3       306\n",
       "4        47\n",
       "5        10\n",
       "14        3\n",
       "7         2\n",
       "19        1\n",
       "Name: count, dtype: int64"
      ]
     },
     "execution_count": 291,
     "metadata": {},
     "output_type": "execute_result"
    }
   ],
   "source": [
    "train['child_num'].value_counts()"
   ]
  },
  {
   "cell_type": "code",
   "execution_count": null,
   "id": "ad6b25d0-af65-4715-b86c-dce8b753b74a",
   "metadata": {},
   "outputs": [],
   "source": []
  },
  {
   "cell_type": "code",
   "execution_count": null,
   "id": "3d66ef5b-bd44-4e9d-a6e5-6ff8dbf0d7d8",
   "metadata": {},
   "outputs": [],
   "source": []
  },
  {
   "cell_type": "code",
   "execution_count": 236,
   "id": "a523cdc2-dd5a-45a6-a600-7fc9891a4612",
   "metadata": {},
   "outputs": [
    {
     "data": {
      "text/plain": [
       "Index(['gender', 'car', 'reality', 'child_num', 'income_total', 'income_type',\n",
       "       'edu_type', 'family_type', 'house_type', 'DAYS_BIRTH', 'DAYS_EMPLOYED',\n",
       "       'work_phone', 'phone', 'email', 'family_size', 'begin_month', 'credit'],\n",
       "      dtype='object')"
      ]
     },
     "execution_count": 236,
     "metadata": {},
     "output_type": "execute_result"
    }
   ],
   "source": [
    "train.columns"
   ]
  },
  {
   "cell_type": "code",
   "execution_count": 237,
   "id": "03d0606f-19c3-4b96-a99b-3c4213234125",
   "metadata": {},
   "outputs": [
    {
     "data": {
      "text/html": [
       "<div>\n",
       "<style scoped>\n",
       "    .dataframe tbody tr th:only-of-type {\n",
       "        vertical-align: middle;\n",
       "    }\n",
       "\n",
       "    .dataframe tbody tr th {\n",
       "        vertical-align: top;\n",
       "    }\n",
       "\n",
       "    .dataframe thead th {\n",
       "        text-align: right;\n",
       "    }\n",
       "</style>\n",
       "<table border=\"1\" class=\"dataframe\">\n",
       "  <thead>\n",
       "    <tr style=\"text-align: right;\">\n",
       "      <th></th>\n",
       "      <th>gender</th>\n",
       "      <th>car</th>\n",
       "      <th>reality</th>\n",
       "      <th>child_num</th>\n",
       "      <th>income_total</th>\n",
       "      <th>income_type</th>\n",
       "      <th>edu_type</th>\n",
       "      <th>family_type</th>\n",
       "      <th>house_type</th>\n",
       "      <th>DAYS_BIRTH</th>\n",
       "      <th>DAYS_EMPLOYED</th>\n",
       "      <th>work_phone</th>\n",
       "      <th>phone</th>\n",
       "      <th>email</th>\n",
       "      <th>family_size</th>\n",
       "      <th>begin_month</th>\n",
       "      <th>credit</th>\n",
       "    </tr>\n",
       "  </thead>\n",
       "  <tbody>\n",
       "    <tr>\n",
       "      <th>0</th>\n",
       "      <td>0</td>\n",
       "      <td>0</td>\n",
       "      <td>0</td>\n",
       "      <td>0</td>\n",
       "      <td>12.218495</td>\n",
       "      <td>0</td>\n",
       "      <td>1</td>\n",
       "      <td>1</td>\n",
       "      <td>2</td>\n",
       "      <td>13899</td>\n",
       "      <td>8.457231</td>\n",
       "      <td>0</td>\n",
       "      <td>0</td>\n",
       "      <td>0</td>\n",
       "      <td>2.0</td>\n",
       "      <td>6.0</td>\n",
       "      <td>1.0</td>\n",
       "    </tr>\n",
       "    <tr>\n",
       "      <th>1</th>\n",
       "      <td>0</td>\n",
       "      <td>0</td>\n",
       "      <td>1</td>\n",
       "      <td>1</td>\n",
       "      <td>12.419166</td>\n",
       "      <td>0</td>\n",
       "      <td>4</td>\n",
       "      <td>0</td>\n",
       "      <td>1</td>\n",
       "      <td>11380</td>\n",
       "      <td>7.339538</td>\n",
       "      <td>0</td>\n",
       "      <td>0</td>\n",
       "      <td>1</td>\n",
       "      <td>3.0</td>\n",
       "      <td>5.0</td>\n",
       "      <td>1.0</td>\n",
       "    </tr>\n",
       "    <tr>\n",
       "      <th>2</th>\n",
       "      <td>1</td>\n",
       "      <td>1</td>\n",
       "      <td>1</td>\n",
       "      <td>0</td>\n",
       "      <td>13.017003</td>\n",
       "      <td>4</td>\n",
       "      <td>1</td>\n",
       "      <td>1</td>\n",
       "      <td>1</td>\n",
       "      <td>19087</td>\n",
       "      <td>8.397057</td>\n",
       "      <td>0</td>\n",
       "      <td>1</td>\n",
       "      <td>0</td>\n",
       "      <td>2.0</td>\n",
       "      <td>22.0</td>\n",
       "      <td>2.0</td>\n",
       "    </tr>\n",
       "    <tr>\n",
       "      <th>3</th>\n",
       "      <td>0</td>\n",
       "      <td>0</td>\n",
       "      <td>1</td>\n",
       "      <td>0</td>\n",
       "      <td>12.218495</td>\n",
       "      <td>0</td>\n",
       "      <td>4</td>\n",
       "      <td>1</td>\n",
       "      <td>1</td>\n",
       "      <td>15088</td>\n",
       "      <td>7.645876</td>\n",
       "      <td>0</td>\n",
       "      <td>1</td>\n",
       "      <td>0</td>\n",
       "      <td>2.0</td>\n",
       "      <td>37.0</td>\n",
       "      <td>0.0</td>\n",
       "    </tr>\n",
       "    <tr>\n",
       "      <th>4</th>\n",
       "      <td>0</td>\n",
       "      <td>1</td>\n",
       "      <td>1</td>\n",
       "      <td>0</td>\n",
       "      <td>11.967181</td>\n",
       "      <td>2</td>\n",
       "      <td>1</td>\n",
       "      <td>1</td>\n",
       "      <td>1</td>\n",
       "      <td>15037</td>\n",
       "      <td>7.652071</td>\n",
       "      <td>0</td>\n",
       "      <td>0</td>\n",
       "      <td>0</td>\n",
       "      <td>2.0</td>\n",
       "      <td>26.0</td>\n",
       "      <td>2.0</td>\n",
       "    </tr>\n",
       "  </tbody>\n",
       "</table>\n",
       "</div>"
      ],
      "text/plain": [
       "   gender  car  reality  child_num  income_total  income_type  edu_type  \\\n",
       "0       0    0        0          0     12.218495            0         1   \n",
       "1       0    0        1          1     12.419166            0         4   \n",
       "2       1    1        1          0     13.017003            4         1   \n",
       "3       0    0        1          0     12.218495            0         4   \n",
       "4       0    1        1          0     11.967181            2         1   \n",
       "\n",
       "   family_type  house_type  DAYS_BIRTH  DAYS_EMPLOYED  work_phone  phone  \\\n",
       "0            1           2       13899       8.457231           0      0   \n",
       "1            0           1       11380       7.339538           0      0   \n",
       "2            1           1       19087       8.397057           0      1   \n",
       "3            1           1       15088       7.645876           0      1   \n",
       "4            1           1       15037       7.652071           0      0   \n",
       "\n",
       "   email  family_size  begin_month  credit  \n",
       "0      0          2.0          6.0     1.0  \n",
       "1      1          3.0          5.0     1.0  \n",
       "2      0          2.0         22.0     2.0  \n",
       "3      0          2.0         37.0     0.0  \n",
       "4      0          2.0         26.0     2.0  "
      ]
     },
     "execution_count": 237,
     "metadata": {},
     "output_type": "execute_result"
    }
   ],
   "source": [
    "train.head()"
   ]
  },
  {
   "cell_type": "code",
   "execution_count": null,
   "id": "234ffdf9-e2d0-46e5-b305-4948814aae20",
   "metadata": {},
   "outputs": [],
   "source": []
  },
  {
   "cell_type": "code",
   "execution_count": null,
   "id": "8e7b0b69-6c84-47ee-b1ad-f290efba8c15",
   "metadata": {},
   "outputs": [],
   "source": []
  },
  {
   "cell_type": "code",
   "execution_count": null,
   "id": "46873ebc-d008-46f2-97c6-84ed47b0b076",
   "metadata": {},
   "outputs": [],
   "source": []
  },
  {
   "cell_type": "code",
   "execution_count": null,
   "id": "6b52b155-0046-440c-a6dc-4ff0b21f5482",
   "metadata": {},
   "outputs": [],
   "source": []
  },
  {
   "cell_type": "code",
   "execution_count": null,
   "id": "dd571ebc-2bcf-498e-8ef8-5352b648cb79",
   "metadata": {},
   "outputs": [],
   "source": []
  },
  {
   "cell_type": "code",
   "execution_count": null,
   "id": "079ea68c-7ed2-4525-9ce2-03eb9eb98110",
   "metadata": {},
   "outputs": [],
   "source": []
  },
  {
   "cell_type": "code",
   "execution_count": null,
   "id": "7ab3f486-49d8-4046-98f3-850292d9cddf",
   "metadata": {},
   "outputs": [],
   "source": []
  },
  {
   "cell_type": "code",
   "execution_count": 190,
   "id": "d8baa0ad-7c55-4806-a968-52fa26d96253",
   "metadata": {},
   "outputs": [
    {
     "data": {
      "image/png": "[encoded data removed]",
      "text/plain": [
       "<Figure size 800x500 with 1 Axes>"
      ]
     },
     "metadata": {},
     "output_type": "display_data"
    }
   ],
   "source": [
    "\n",
    "plt.figure(figsize=(8, 5))\n",
    "sns.boxplot(data=[train['child_num'], train['family_size']], width=0.5, notch=True, showmeans=True)\n",
    "plt.title('Two Boxplots')\n",
    "plt.xlabel('Group')\n",
    "plt.ylabel('Value')\n",
    "plt.show()"
   ]
  },
  {
   "cell_type": "code",
   "execution_count": 154,
   "id": "6f71b3c0-6dd8-46d6-9674-912300726b24",
   "metadata": {},
   "outputs": [
    {
     "data": {
      "text/plain": [
       "<Axes: >"
      ]
     },
     "execution_count": 154,
     "metadata": {},
     "output_type": "execute_result"
    },
    {
     "data": {
      "image/png": "[encoded data removed]",
      "text/plain": [
       "<Figure size 640x480 with 1 Axes>"
      ]
     },
     "metadata": {},
     "output_type": "display_data"
    }
   ],
   "source": [
    "sns.boxplot(data=train)"
   ]
  },
  {
   "cell_type": "code",
   "execution_count": 156,
   "id": "17b75c06-bdb1-4659-a929-fc631c9c36c3",
   "metadata": {},
   "outputs": [
    {
     "data": {
      "text/html": [
       "<div>\n",
       "<style scoped>\n",
       "    .dataframe tbody tr th:only-of-type {\n",
       "        vertical-align: middle;\n",
       "    }\n",
       "\n",
       "    .dataframe tbody tr th {\n",
       "        vertical-align: top;\n",
       "    }\n",
       "\n",
       "    .dataframe thead th {\n",
       "        text-align: right;\n",
       "    }\n",
       "</style>\n",
       "<table border=\"1\" class=\"dataframe\">\n",
       "  <thead>\n",
       "    <tr style=\"text-align: right;\">\n",
       "      <th></th>\n",
       "      <th>gender</th>\n",
       "      <th>car</th>\n",
       "      <th>reality</th>\n",
       "      <th>child_num</th>\n",
       "      <th>income_total</th>\n",
       "      <th>income_type</th>\n",
       "      <th>edu_type</th>\n",
       "      <th>family_type</th>\n",
       "      <th>house_type</th>\n",
       "      <th>DAYS_BIRTH</th>\n",
       "      <th>DAYS_EMPLOYED</th>\n",
       "      <th>work_phone</th>\n",
       "      <th>phone</th>\n",
       "      <th>email</th>\n",
       "      <th>family_size</th>\n",
       "      <th>begin_month</th>\n",
       "      <th>credit</th>\n",
       "    </tr>\n",
       "  </thead>\n",
       "  <tbody>\n",
       "    <tr>\n",
       "      <th>0</th>\n",
       "      <td>0</td>\n",
       "      <td>0</td>\n",
       "      <td>0</td>\n",
       "      <td>0</td>\n",
       "      <td>12.218495</td>\n",
       "      <td>0</td>\n",
       "      <td>1</td>\n",
       "      <td>1</td>\n",
       "      <td>2</td>\n",
       "      <td>13899</td>\n",
       "      <td>8.457231</td>\n",
       "      <td>0</td>\n",
       "      <td>0</td>\n",
       "      <td>0</td>\n",
       "      <td>2.0</td>\n",
       "      <td>6.0</td>\n",
       "      <td>1.0</td>\n",
       "    </tr>\n",
       "    <tr>\n",
       "      <th>1</th>\n",
       "      <td>0</td>\n",
       "      <td>0</td>\n",
       "      <td>1</td>\n",
       "      <td>1</td>\n",
       "      <td>12.419166</td>\n",
       "      <td>0</td>\n",
       "      <td>4</td>\n",
       "      <td>0</td>\n",
       "      <td>1</td>\n",
       "      <td>11380</td>\n",
       "      <td>7.339538</td>\n",
       "      <td>0</td>\n",
       "      <td>0</td>\n",
       "      <td>1</td>\n",
       "      <td>3.0</td>\n",
       "      <td>5.0</td>\n",
       "      <td>1.0</td>\n",
       "    </tr>\n",
       "    <tr>\n",
       "      <th>2</th>\n",
       "      <td>1</td>\n",
       "      <td>1</td>\n",
       "      <td>1</td>\n",
       "      <td>0</td>\n",
       "      <td>13.017003</td>\n",
       "      <td>4</td>\n",
       "      <td>1</td>\n",
       "      <td>1</td>\n",
       "      <td>1</td>\n",
       "      <td>19087</td>\n",
       "      <td>8.397057</td>\n",
       "      <td>0</td>\n",
       "      <td>1</td>\n",
       "      <td>0</td>\n",
       "      <td>2.0</td>\n",
       "      <td>22.0</td>\n",
       "      <td>2.0</td>\n",
       "    </tr>\n",
       "    <tr>\n",
       "      <th>3</th>\n",
       "      <td>0</td>\n",
       "      <td>0</td>\n",
       "      <td>1</td>\n",
       "      <td>0</td>\n",
       "      <td>12.218495</td>\n",
       "      <td>0</td>\n",
       "      <td>4</td>\n",
       "      <td>1</td>\n",
       "      <td>1</td>\n",
       "      <td>15088</td>\n",
       "      <td>7.645876</td>\n",
       "      <td>0</td>\n",
       "      <td>1</td>\n",
       "      <td>0</td>\n",
       "      <td>2.0</td>\n",
       "      <td>37.0</td>\n",
       "      <td>0.0</td>\n",
       "    </tr>\n",
       "    <tr>\n",
       "      <th>4</th>\n",
       "      <td>0</td>\n",
       "      <td>1</td>\n",
       "      <td>1</td>\n",
       "      <td>0</td>\n",
       "      <td>11.967181</td>\n",
       "      <td>2</td>\n",
       "      <td>1</td>\n",
       "      <td>1</td>\n",
       "      <td>1</td>\n",
       "      <td>15037</td>\n",
       "      <td>7.652071</td>\n",
       "      <td>0</td>\n",
       "      <td>0</td>\n",
       "      <td>0</td>\n",
       "      <td>2.0</td>\n",
       "      <td>26.0</td>\n",
       "      <td>2.0</td>\n",
       "    </tr>\n",
       "    <tr>\n",
       "      <th>...</th>\n",
       "      <td>...</td>\n",
       "      <td>...</td>\n",
       "      <td>...</td>\n",
       "      <td>...</td>\n",
       "      <td>...</td>\n",
       "      <td>...</td>\n",
       "      <td>...</td>\n",
       "      <td>...</td>\n",
       "      <td>...</td>\n",
       "      <td>...</td>\n",
       "      <td>...</td>\n",
       "      <td>...</td>\n",
       "      <td>...</td>\n",
       "      <td>...</td>\n",
       "      <td>...</td>\n",
       "      <td>...</td>\n",
       "      <td>...</td>\n",
       "    </tr>\n",
       "    <tr>\n",
       "      <th>26452</th>\n",
       "      <td>0</td>\n",
       "      <td>0</td>\n",
       "      <td>0</td>\n",
       "      <td>2</td>\n",
       "      <td>12.323856</td>\n",
       "      <td>2</td>\n",
       "      <td>4</td>\n",
       "      <td>1</td>\n",
       "      <td>1</td>\n",
       "      <td>12079</td>\n",
       "      <td>7.592870</td>\n",
       "      <td>0</td>\n",
       "      <td>0</td>\n",
       "      <td>0</td>\n",
       "      <td>4.0</td>\n",
       "      <td>2.0</td>\n",
       "      <td>1.0</td>\n",
       "    </tr>\n",
       "    <tr>\n",
       "      <th>26453</th>\n",
       "      <td>0</td>\n",
       "      <td>0</td>\n",
       "      <td>1</td>\n",
       "      <td>1</td>\n",
       "      <td>12.100712</td>\n",
       "      <td>4</td>\n",
       "      <td>1</td>\n",
       "      <td>2</td>\n",
       "      <td>1</td>\n",
       "      <td>15291</td>\n",
       "      <td>7.813996</td>\n",
       "      <td>0</td>\n",
       "      <td>0</td>\n",
       "      <td>0</td>\n",
       "      <td>2.0</td>\n",
       "      <td>47.0</td>\n",
       "      <td>2.0</td>\n",
       "    </tr>\n",
       "    <tr>\n",
       "      <th>26454</th>\n",
       "      <td>0</td>\n",
       "      <td>1</td>\n",
       "      <td>0</td>\n",
       "      <td>0</td>\n",
       "      <td>12.586220</td>\n",
       "      <td>4</td>\n",
       "      <td>4</td>\n",
       "      <td>0</td>\n",
       "      <td>5</td>\n",
       "      <td>10082</td>\n",
       "      <td>7.608374</td>\n",
       "      <td>0</td>\n",
       "      <td>0</td>\n",
       "      <td>0</td>\n",
       "      <td>2.0</td>\n",
       "      <td>25.0</td>\n",
       "      <td>2.0</td>\n",
       "    </tr>\n",
       "    <tr>\n",
       "      <th>26455</th>\n",
       "      <td>1</td>\n",
       "      <td>0</td>\n",
       "      <td>1</td>\n",
       "      <td>0</td>\n",
       "      <td>12.049419</td>\n",
       "      <td>4</td>\n",
       "      <td>2</td>\n",
       "      <td>3</td>\n",
       "      <td>1</td>\n",
       "      <td>10145</td>\n",
       "      <td>4.672829</td>\n",
       "      <td>0</td>\n",
       "      <td>0</td>\n",
       "      <td>0</td>\n",
       "      <td>1.0</td>\n",
       "      <td>59.0</td>\n",
       "      <td>2.0</td>\n",
       "    </tr>\n",
       "    <tr>\n",
       "      <th>26456</th>\n",
       "      <td>0</td>\n",
       "      <td>0</td>\n",
       "      <td>0</td>\n",
       "      <td>0</td>\n",
       "      <td>11.302204</td>\n",
       "      <td>4</td>\n",
       "      <td>4</td>\n",
       "      <td>0</td>\n",
       "      <td>1</td>\n",
       "      <td>19569</td>\n",
       "      <td>6.920672</td>\n",
       "      <td>0</td>\n",
       "      <td>0</td>\n",
       "      <td>0</td>\n",
       "      <td>2.0</td>\n",
       "      <td>9.0</td>\n",
       "      <td>2.0</td>\n",
       "    </tr>\n",
       "  </tbody>\n",
       "</table>\n",
       "<p>26457 rows × 17 columns</p>\n",
       "</div>"
      ],
      "text/plain": [
       "       gender  car  reality  child_num  income_total  income_type  edu_type  \\\n",
       "0           0    0        0          0     12.218495            0         1   \n",
       "1           0    0        1          1     12.419166            0         4   \n",
       "2           1    1        1          0     13.017003            4         1   \n",
       "3           0    0        1          0     12.218495            0         4   \n",
       "4           0    1        1          0     11.967181            2         1   \n",
       "...       ...  ...      ...        ...           ...          ...       ...   \n",
       "26452       0    0        0          2     12.323856            2         4   \n",
       "26453       0    0        1          1     12.100712            4         1   \n",
       "26454       0    1        0          0     12.586220            4         4   \n",
       "26455       1    0        1          0     12.049419            4         2   \n",
       "26456       0    0        0          0     11.302204            4         4   \n",
       "\n",
       "       family_type  house_type  DAYS_BIRTH  DAYS_EMPLOYED  work_phone  phone  \\\n",
       "0                1           2       13899       8.457231           0      0   \n",
       "1                0           1       11380       7.339538           0      0   \n",
       "2                1           1       19087       8.397057           0      1   \n",
       "3                1           1       15088       7.645876           0      1   \n",
       "4                1           1       15037       7.652071           0      0   \n",
       "...            ...         ...         ...            ...         ...    ...   \n",
       "26452            1           1       12079       7.592870           0      0   \n",
       "26453            2           1       15291       7.813996           0      0   \n",
       "26454            0           5       10082       7.608374           0      0   \n",
       "26455            3           1       10145       4.672829           0      0   \n",
       "26456            0           1       19569       6.920672           0      0   \n",
       "\n",
       "       email  family_size  begin_month  credit  \n",
       "0          0          2.0          6.0     1.0  \n",
       "1          1          3.0          5.0     1.0  \n",
       "2          0          2.0         22.0     2.0  \n",
       "3          0          2.0         37.0     0.0  \n",
       "4          0          2.0         26.0     2.0  \n",
       "...      ...          ...          ...     ...  \n",
       "26452      0          4.0          2.0     1.0  \n",
       "26453      0          2.0         47.0     2.0  \n",
       "26454      0          2.0         25.0     2.0  \n",
       "26455      0          1.0         59.0     2.0  \n",
       "26456      0          2.0          9.0     2.0  \n",
       "\n",
       "[26457 rows x 17 columns]"
      ]
     },
     "execution_count": 156,
     "metadata": {},
     "output_type": "execute_result"
    }
   ],
   "source": [
    "train"
   ]
  },
  {
   "cell_type": "code",
   "execution_count": null,
   "id": "1f2ab564-0ad7-4cf0-90b6-70fa7ae9f8b7",
   "metadata": {},
   "outputs": [],
   "source": []
  },
  {
   "cell_type": "code",
   "execution_count": null,
   "id": "332f3876-b898-4a85-b55b-ec2c5bf0a3cd",
   "metadata": {},
   "outputs": [],
   "source": []
  },
  {
   "cell_type": "code",
   "execution_count": null,
   "id": "9475fe0f-7a2d-4638-9db7-fb40fd8f2cab",
   "metadata": {},
   "outputs": [],
   "source": []
  },
  {
   "cell_type": "code",
   "execution_count": null,
   "id": "cb0772c9-58c4-49b5-b032-d75c36349974",
   "metadata": {},
   "outputs": [],
   "source": []
  },
  {
   "cell_type": "code",
   "execution_count": null,
   "id": "6682bf3f-89eb-459a-bad2-76f63ba76bc6",
   "metadata": {},
   "outputs": [],
   "source": []
  },
  {
   "cell_type": "code",
   "execution_count": null,
   "id": "63f6721e-53bb-404b-932a-312f5746652d",
   "metadata": {},
   "outputs": [],
   "source": []
  },
  {
   "cell_type": "code",
   "execution_count": null,
   "id": "77f9b990-c060-433b-8e3b-f27dcba041a2",
   "metadata": {},
   "outputs": [],
   "source": [
    "count, bin_dividers =np.histogram(train['income_total'], bins=7)\n",
    "bin_names=['소득'+str(i) for i in range(7) ]\n",
    "#bin_dividers는 train기준!!\n",
    "train['income_total']=pd.cut(x=train['income_total'], bins=bin_dividers, labels=bin_names, include_lowest=True)\n",
    "test['income_total']=pd.cut(x=test['income_total'], bins=bin_dividers, labels=bin_names, include_lowest=True)\n"
   ]
  },
  {
   "cell_type": "code",
   "execution_count": null,
   "id": "0cf473d7-b9e6-491b-b24e-4464e4ea2cc4",
   "metadata": {},
   "outputs": [],
   "source": [
    "from sklearn import preprocessing\n",
    "label_encoder=preprocessing.LabelEncoder()\n",
    "# train['income_type']=label_encoder.fit_transform(train['income_type'])\n",
    "# test['income_type']=label_encoder.transform(test['income_type'])\n",
    "# ########################################################################\n",
    "# train['edu_type']=label_encoder.fit_transform(train['edu_type'])\n",
    "# test['edu_type']=label_encoder.transform(test['edu_type'])\n",
    "# ########################################################################\n",
    "# train['family_type']=label_encoder.fit_transform(train['family_type'])\n",
    "# test['family_type']=label_encoder.transform(test['family_type'])\n",
    "# ########################################################################\n",
    "# train['house_type']=label_encoder.fit_transform(train['house_type'])\n",
    "# test['house_type']=label_encoder.transform(test['house_type'])\n",
    "# ########################################################################\n",
    "# train['income_total']=label_encoder.fit_transform(train['income_total'])\n",
    "# test['income_total']=label_encoder.fit_transform(test['income_total'])"
   ]
  },
  {
   "cell_type": "code",
   "execution_count": null,
   "id": "2e876852-5acf-4b9c-9ea2-b22967217fb0",
   "metadata": {},
   "outputs": [],
   "source": [
    "#minus 변경하고\n",
    "#구간화 함수\n",
    "def make_bin(variable, n):\n",
    "    train[variable]=-train[variable]\n",
    "    test[variable]=-test[variable]\n",
    "    count, bin_dividers =np.histogram(train[variable], bins=n) #train의 구간화를 적용\n",
    "    bin_names=[str(i) for i in range(n)]\n",
    "    train[variable]=pd.cut(x=train[variable], bins=bin_dividers, labels=bin_names, include_lowest=True)\n",
    "    test[variable]=pd.cut(x=test[variable], bins=bin_dividers, labels=bin_names, include_lowest=True)\n",
    "    test[variable].fillna(str(0), inplace=True) #test에는 없는 것을 임의의 값으로 채움\n",
    "    ##########################################################\n",
    "    train[variable]=label_encoder.fit_transform(train[variable])\n",
    "    test[variable]=label_encoder.transform(test[variable])"
   ]
  },
  {
   "cell_type": "code",
   "execution_count": null,
   "id": "6cee7dc7-ce34-4874-8238-18b5326a0fe0",
   "metadata": {},
   "outputs": [],
   "source": [
    "make_bin('DAYS_BIRTH', n=10)\n",
    "make_bin('DAYS_EMPLOYED', n=6)\n",
    "make_bin('begin_month', n=4)"
   ]
  },
  {
   "cell_type": "markdown",
   "id": "bd66bf6c-3b93-4153-af47-ae97498c44b0",
   "metadata": {},
   "source": [
    "# **[데이터 모델링]**"
   ]
  },
  {
   "cell_type": "code",
   "execution_count": null,
   "id": "2f4d173c-381a-4b33-9cd5-f5436cc19267",
   "metadata": {},
   "outputs": [],
   "source": [
    "train_x=train.drop('credit', axis=1)\n",
    "train_y=train[['credit']]\n",
    "test_x=test"
   ]
  },
  {
   "cell_type": "code",
   "execution_count": null,
   "id": "721d161c-bf2e-49bc-8f91-76f390b687cb",
   "metadata": {},
   "outputs": [],
   "source": [
    "print(train_x.shape, train_y.shape, test.shape)"
   ]
  },
  {
   "cell_type": "code",
   "execution_count": null,
   "id": "852eed5d-df70-4522-9e9b-d587b0fa121c",
   "metadata": {},
   "outputs": [],
   "source": [
    "from sklearn.ensemble import RandomForestClassifier\n",
    "from sklearn.metrics import accuracy_score, log_loss\n",
    "from sklearn.metrics import f1_score\n",
    "from tensorflow.keras.utils import to_categorical\n",
    "\n",
    "X_train, X_val, y_train, y_val = train_test_split(train_x, train_y, \n",
    "                                                    stratify=train_y, test_size=0.25,\n",
    "                                                    random_state = 10086)\n",
    "\n",
    "print(\"Train set: \")\n",
    "print(X_train.shape)\n",
    "print(y_train.shape)\n",
    "print(\"===========\")\n",
    "print(\"Validation set: \")\n",
    "print(X_val.shape)\n",
    "print(y_val.shape)\n",
    "\n",
    "\n",
    "clf=RandomForestClassifier()\n",
    "clf.fit(X_train, y_train)\n",
    "y_pred=clf.predict_proba(X_val)\n",
    "\n",
    "print(f\"log_loss: {log_loss(to_categorical(y_val['credit']), y_pred)}\")"
   ]
  },
  {
   "cell_type": "code",
   "execution_count": null,
   "id": "dcf6ae72-04e9-4e0d-a89e-f632cd73b621",
   "metadata": {},
   "outputs": [],
   "source": [
    "from sklearn.linear_model import LogisticRegression"
   ]
  },
  {
   "cell_type": "code",
   "execution_count": null,
   "id": "f173d8fd-ebbc-40dc-95e9-9007e3ba6841",
   "metadata": {},
   "outputs": [],
   "source": [
    "from sklearn.model_selection import KFold, StratifiedKFold\n",
    "\n",
    "def run_kfold(clf):\n",
    "    folds=StratifiedKFold(n_splits=5, shuffle=True, random_state=55)\n",
    "    outcomes=[]\n",
    "    sub=np.zeros((test_x.shape[0], 3))  \n",
    "    for n_fold, (train_index, val_index) in enumerate(folds.split(train_x, train_y)):\n",
    "        X_train, X_val = train_x.iloc[train_index], train_x.iloc[val_index]\n",
    "        y_train, y_val = train_y.iloc[train_index], train_y.iloc[val_index]\n",
    "        clf.fit(X_train, y_train)\n",
    "        \n",
    "        predictions=clf.predict_proba(X_val)\n",
    "        \n",
    "        logloss=log_loss(to_categorical(y_val['credit']), predictions)\n",
    "        outcomes.append(logloss)\n",
    "        print(f\"FOLD {n_fold} : logloss:{logloss}\")\n",
    "        \n",
    "        sub+=clf.predict_proba(test_x)\n",
    "        \n",
    "        \n",
    "    mean_outcome=np.mean(outcomes)\n",
    "    \n",
    "    print(\"Mean:{}\".format(mean_outcome))\n",
    "    return sub/folds.n_splits\n",
    "\n",
    "my_submission = run_kfold(clf)"
   ]
  }
 ],
 "metadata": {
  "kernelspec": {
   "display_name": "Python 3 (ipykernel)",
   "language": "python",
   "name": "python3"
  },
  "language_info": {
   "codemirror_mode": {
    "name": "ipython",
    "version": 3
   },
   "file_extension": ".py",
   "mimetype": "text/x-python",
   "name": "python",
   "nbconvert_exporter": "python",
   "pygments_lexer": "ipython3",
   "version": "3.11.5"
  }
 },
 "nbformat": 4,
 "nbformat_minor": 5
}
