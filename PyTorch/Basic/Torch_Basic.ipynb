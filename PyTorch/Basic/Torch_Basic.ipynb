{
 "cells": [
  {
   "cell_type": "markdown",
   "id": "7c2f8bc8-654c-436b-a06b-44ad5e06b9c5",
   "metadata": {},
   "source": [
    "# 토치 텐서 연산"
   ]
  },
  {
   "cell_type": "markdown",
   "id": "8a896dda-e517-4740-a42a-6243e1df83c6",
   "metadata": {
    "jp-MarkdownHeadingCollapsed": true
   },
   "source": [
    "### View method"
   ]
  },
  {
   "cell_type": "code",
   "execution_count": 1,
   "id": "7bd00f86-685f-49c0-9b76-1603765ccab3",
   "metadata": {},
   "outputs": [],
   "source": [
    "import torch"
   ]
  },
  {
   "cell_type": "code",
   "execution_count": 2,
   "id": "f5acc0d8-94d8-489b-b2d5-daf4c7952604",
   "metadata": {},
   "outputs": [],
   "source": [
    "temp = torch.tensor([[1,2],[3,4]])"
   ]
  },
  {
   "cell_type": "code",
   "execution_count": 3,
   "id": "7e3aa118-ea64-41bd-8572-ea0c17088fac",
   "metadata": {},
   "outputs": [
    {
     "data": {
      "text/plain": [
       "torch.Size([2, 2])"
      ]
     },
     "execution_count": 3,
     "metadata": {},
     "output_type": "execute_result"
    }
   ],
   "source": [
    "temp.shape"
   ]
  },
  {
   "cell_type": "code",
   "execution_count": 4,
   "id": "bc8adcb4-624d-4def-8d91-84f35347d97f",
   "metadata": {},
   "outputs": [
    {
     "data": {
      "text/plain": [
       "tensor([[1],\n",
       "        [2],\n",
       "        [3],\n",
       "        [4]])"
      ]
     },
     "execution_count": 4,
     "metadata": {},
     "output_type": "execute_result"
    }
   ],
   "source": [
    "temp.view(4,1) # 4*1로 변경"
   ]
  },
  {
   "cell_type": "code",
   "execution_count": 5,
   "id": "5b614c2b-d833-4729-abfe-9c89647c9ffa",
   "metadata": {},
   "outputs": [
    {
     "data": {
      "text/plain": [
       "tensor([1, 2, 3, 4])"
      ]
     },
     "execution_count": 5,
     "metadata": {},
     "output_type": "execute_result"
    }
   ],
   "source": [
    "temp.view(-1) # 1차원 벡터로 변경"
   ]
  },
  {
   "cell_type": "code",
   "execution_count": 6,
   "id": "b9f7715c-4f91-47fb-a8a8-5f53627b354d",
   "metadata": {},
   "outputs": [
    {
     "data": {
      "text/plain": [
       "tensor([[1, 2, 3, 4]])"
      ]
     },
     "execution_count": 6,
     "metadata": {},
     "output_type": "execute_result"
    }
   ],
   "source": [
    "temp.view(1,-1) # -1은 (1,?)와 같은 의미로 다른 차원으로부터 해당 값을 유추 하겠다.\n",
    "# 여기서 유추란 temp의 원소 개수 (2*2)를 유지 한채 (1,?) 형태로 만들겠다."
   ]
  },
  {
   "cell_type": "code",
   "execution_count": 7,
   "id": "151ac207-e374-4b46-955e-bd9eadbf3413",
   "metadata": {},
   "outputs": [
    {
     "data": {
      "text/plain": [
       "tensor([[1],\n",
       "        [2],\n",
       "        [3],\n",
       "        [4]])"
      ]
     },
     "execution_count": 7,
     "metadata": {},
     "output_type": "execute_result"
    }
   ],
   "source": [
    "temp.view(-1,1)"
   ]
  },
  {
   "cell_type": "markdown",
   "id": "1bb09e39-903d-4fce-82ca-85fc4ba9137b",
   "metadata": {},
   "source": [
    "### torch max"
   ]
  },
  {
   "cell_type": "code",
   "execution_count": 29,
   "id": "c5792c79-2e28-4a50-9fa7-9c547689ea20",
   "metadata": {},
   "outputs": [],
   "source": [
    "import torch"
   ]
  },
  {
   "cell_type": "code",
   "execution_count": 41,
   "id": "1749116b-67b2-4492-be7c-c273d8251070",
   "metadata": {},
   "outputs": [],
   "source": [
    "y_pred = [[0.2,0.7,0.8,0.4],\n",
    "          [0.4,0.2,0.6,0.1],\n",
    "          [0.2,0.5,0.3,0.9]]\n",
    "# y_pred = [[0.2,0.5,0.3,0.9]]"
   ]
  },
  {
   "cell_type": "code",
   "execution_count": 42,
   "id": "16b7443e-9680-4bcd-a6dd-2a31d3b8d514",
   "metadata": {},
   "outputs": [],
   "source": [
    "y_pred = torch.tensor(y_pred)"
   ]
  },
  {
   "cell_type": "code",
   "execution_count": 50,
   "id": "510d6e14-cb84-4a01-a82c-d872f46e5072",
   "metadata": {},
   "outputs": [
    {
     "data": {
      "text/plain": [
       "torch.return_types.max(\n",
       "values=tensor([0.8000, 0.6000, 0.9000]),\n",
       "indices=tensor([2, 2, 3]))"
      ]
     },
     "execution_count": 50,
     "metadata": {},
     "output_type": "execute_result"
    }
   ],
   "source": [
    "torch.max(y_pred,1) #1의 의미는 잘 모르겠음"
   ]
  },
  {
   "cell_type": "code",
   "execution_count": 51,
   "id": "5514a10e-9a1b-4081-b244-6a94cfbb0fd3",
   "metadata": {},
   "outputs": [
    {
     "data": {
      "text/plain": [
       "torch.return_types.max(\n",
       "values=tensor([0.4000, 0.7000, 0.8000, 0.9000]),\n",
       "indices=tensor([1, 0, 0, 2]))"
      ]
     },
     "execution_count": 51,
     "metadata": {},
     "output_type": "execute_result"
    }
   ],
   "source": [
    "torch.max(y_pred,0) #1의 의미는 잘 모르겠음"
   ]
  },
  {
   "cell_type": "markdown",
   "id": "cbca54cf-8c99-4ed6-933d-b8538a58d062",
   "metadata": {},
   "source": [
    "### torch clone & detach\n",
    "\n",
    "- clone\n",
    "  - clone은 기존 텐서의 내용을 복사한 텐서를 생성하겠다는 의미이며,\n",
    "- detach\n",
    "  - detach는 기존 텐서에서 기울기가 전파되지 않는 텐서입니다.\n",
    "즉 tensor.clone().detach()는 기존 텐서를 복사한 새로운 텐서를 생성하지만 기울기에 영향을 주지는 않겠다."
   ]
  },
  {
   "cell_type": "markdown",
   "id": "f16e97b0-a8e5-4f0e-b270-430475d802fe",
   "metadata": {},
   "source": [
    "### torch clip\n",
    "\n",
    "데이터를 주어진 값 사이로 제한하겠다는 의미"
   ]
  },
  {
   "cell_type": "code",
   "execution_count": 54,
   "id": "da8af7a9-f912-4d42-bfb1-e78b3888a93c",
   "metadata": {},
   "outputs": [
    {
     "name": "stdout",
     "output_type": "stream",
     "text": [
      "[-1.8 -1.2  0.   0.8]\n",
      "[-0.5 -0.5  0.   0.5]\n"
     ]
    }
   ],
   "source": [
    "import numpy as np\n",
    "exam = np.array([-1.8,-1.2, 0.0, 0.8])\n",
    "print(exam)\n",
    "print(np.clip(exam,-0.5, 0.5))"
   ]
  },
  {
   "cell_type": "markdown",
   "id": "938bb308-2c37-4182-bfba-fcc20b8680af",
   "metadata": {
    "jp-MarkdownHeadingCollapsed": true
   },
   "source": [
    "# 데이터"
   ]
  },
  {
   "cell_type": "markdown",
   "id": "c9d2f269-a6dd-461a-83d4-62061f33f358",
   "metadata": {},
   "source": [
    "### 사용자 정의 커스텀 데이터 셋"
   ]
  },
  {
   "cell_type": "code",
   "execution_count": null,
   "id": "90ffbb25-3aeb-416e-bf63-42e517e071c8",
   "metadata": {},
   "outputs": [],
   "source": [
    "import torch.utils.data import Dataset\n",
    "import torch.utils.data import DataLoader\n",
    "class CustomDataset(Dataset):\n",
    "    def __init__(self):\n",
    "        pass\n",
    "    def __len__(self): #전체 데이터셋의 크기를 반환합니다.\n",
    "        pass\n",
    "    def __item__(self): #전체 x와 y데이터 중 해당 idx번째의 데이터를 가져옵니다.\n",
    "        pass"
   ]
  },
  {
   "cell_type": "markdown",
   "id": "4fdbae03-047a-4afc-ba53-695d70868a62",
   "metadata": {},
   "source": [
    "### DataLoader\n",
    "- 데이터로더 객체는 학습에 사용될 데이터 전체를 보관했다가 모델 학습을 할 때 배치 크기만큼 데이터를 꺼내서 사용합니다. 이때 주의할 것은 미리 잘라 놓는 것이 아니라 내부적으로 반복자(iterator)에 포함된 인덱스(index)를 이용하여 배치 크기만큼 데이터를 반환한다는 것이다."
   ]
  },
  {
   "cell_type": "code",
   "execution_count": null,
   "id": "f7d0077b-e992-4957-8041-d7cae5a69677",
   "metadata": {},
   "outputs": [],
   "source": [
    "dataset = DataLoader(tensor_dataset, batch_size = 4, shuffle = True)"
   ]
  },
  {
   "cell_type": "code",
   "execution_count": null,
   "id": "2ccd3c29-9926-4461-b251-552937c8a89a",
   "metadata": {},
   "outputs": [],
   "source": [
    "# 데이터 로더는 for문을 이용하여 구문을 반복 실행하는 것과 같다.\n",
    "for i, data in enumerate(dataset):\n",
    "    batch=data[0]"
   ]
  },
  {
   "cell_type": "markdown",
   "id": "239443d7-e0a4-4c6c-a275-1bc98c94aab5",
   "metadata": {
    "jp-MarkdownHeadingCollapsed": true
   },
   "source": [
    "# 모델 정의\n",
    "모델을 정의 하기 위해 모듈을 상속한 클래스를 사용한다.\n",
    "- 계층: 모듈 또는 모듈을 구성하는 한 개의 계층\n",
    "- 모듈: 한 개 이상의 계층이 모여서 구성된 것, 모듈이 모여 새로운 모듈 만들 수 있다.\n",
    "- 모델: 최종적으로 원하는 네트워크, 한 개의 모듈이 모델이 될 수 있다."
   ]
  },
  {
   "cell_type": "markdown",
   "id": "a640655a-428f-4acb-bf40-ac8c154b5ffe",
   "metadata": {},
   "source": [
    "## 단순 신경망을 정의하는 방법"
   ]
  },
  {
   "cell_type": "code",
   "execution_count": null,
   "id": "bf5b1823-afa9-4599-9c97-16626118a46d",
   "metadata": {},
   "outputs": [],
   "source": [
    "model = nn.Linear(in_features = 1, out_features = 1, bias = True)"
   ]
  },
  {
   "cell_type": "markdown",
   "id": "72cac7f6-918e-46c9-851d-1e2fe78e4a5c",
   "metadata": {},
   "source": [
    "## nn.Module()을 상속하여 정의 하는 방법\n",
    "nn.Module을 상속받는 모델은 기본적으로 \\_\\_init__()과 forward() 함수를 포함한다.\n",
    "\n",
    "- \\_\\_init__()은 모델에서 사용될 모듈, 활성화 함수 등을 정의\n",
    "- forward()는 모델에서 실행되어야 하는 연산을 정의한다."
   ]
  },
  {
   "cell_type": "code",
   "execution_count": null,
   "id": "e24f7471-9c09-4697-bbbd-0952c10c0e4b",
   "metadata": {},
   "outputs": [],
   "source": [
    "class MLP(nn.Module):\n",
    "    def __init__(self):\n",
    "        pass\n",
    "    def forward(self):\n",
    "        pass"
   ]
  },
  {
   "cell_type": "markdown",
   "id": "33c20db0-63f6-4091-9a75-f4b5e5393a3e",
   "metadata": {},
   "source": [
    "## Sequential 신경망을 정의하는 방법"
   ]
  },
  {
   "cell_type": "code",
   "execution_count": null,
   "id": "52107fd1-4d15-4cdf-92bd-2c9762c0cdd9",
   "metadata": {},
   "outputs": [],
   "source": [
    "class MLP(nn.Module):\n",
    "    def __init__(self):\n",
    "        super().__init__()\n",
    "        self.layer = nn.Sequential(\n",
    "            nn.Conv2d(in_channels = 3, out_channels = 64, kernel_size = 5),\n",
    "            nn.ReLU(inplace = True),\n",
    "            nn.MaxPool2d(2)\n",
    "        )\n",
    "    def forward(self):\n",
    "        pass"
   ]
  },
  {
   "cell_type": "markdown",
   "id": "f92fadc9-542c-4ea5-a690-bd17ddddc411",
   "metadata": {},
   "source": [
    "## 함수로 신경망을 정의하는 방법"
   ]
  },
  {
   "cell_type": "code",
   "execution_count": null,
   "id": "be1c4b4b-c0cb-4d94-8667-c8410f0be558",
   "metadata": {},
   "outputs": [],
   "source": [
    "def MLP(in_features = 1, hidden_features = 20, out_features = 1):\n",
    "    hidden = nn.Conv2d(in_channels = 3, out_channels = 64, kernel_size = 5),\n",
    "    activation = nn.ReLU(inplace = True),\n",
    "    pool = nn.MaxPool2d(2)\n",
    "    net = nn.Sequential(hidden,activation, pool)\n",
    "    return net"
   ]
  },
  {
   "cell_type": "markdown",
   "id": "bb232537-99ec-49de-af9b-51afe9721cdf",
   "metadata": {
    "jp-MarkdownHeadingCollapsed": true
   },
   "source": [
    "# 모델의 파라미터 정의"
   ]
  },
  {
   "cell_type": "markdown",
   "id": "56d2879a-d1ce-45f7-ab70-4ac30a96d302",
   "metadata": {},
   "source": [
    "- 손실 함수: 출력과 실제 값 사이의 오차 측정 -> 모델의 정확성을 측정\n",
    "  - BCELoss: 이진 분류\n",
    "  - CrossEntropyLoss: 다중 클래스 분류\n",
    "  - MSELoss: 회귀 모델\n",
    "- 옵티마이저: 데이터와 손실함수를 바탕으로 모델의 업데이트 방법을 결정\n",
    "  - optimizer는 step() 메서드를 통해 전달받은 파라미터를 업데이트 한다.\n",
    "  - 모델의 파라미터별로 (learning rate) 다르게 적용 가능\n",
    "  - zero_grad()는 옵티마이저에 사용된 파라미터들의 기울기를 0으로 만든다.\n",
    "- 학습률 스케쥴러: 미리 지정한 횟수의 에폭을 지날 때마다 학습률을 감소 시켜 준다. 초기에는 빠른 학습을 하다가 전역 최소점 근처에 다다르면 학습률을 줄여서 최적점을 찾아갈 수 있게 도와준다."
   ]
  },
  {
   "cell_type": "markdown",
   "id": "491d22a9-3261-4a9c-9ee0-24e00a5baab7",
   "metadata": {},
   "source": [
    "# 모델 훈련\n",
    "- 모델, 손실함수, 옵티마이저 정의\n",
    "- 기울기 초기화 (optimizer.zero_grad())\n",
    "- model output (출력) (output = model(input))\n",
    "- 손실 함수로 오차 계산 (loss = loss_fn(output, target))\n",
    "- 역전파 학습 (loss.backward())\n",
    "- 기울기 업데이트 (optimizer.step())"
   ]
  },
  {
   "cell_type": "markdown",
   "id": "e186f133-6f41-4652-b3a5-d0cca63d56ce",
   "metadata": {
    "jp-MarkdownHeadingCollapsed": true
   },
   "source": [
    "# 모델 평가\n",
    "# 훈련 과정 모니터링\n",
    "- 텐서보드 사용"
   ]
  },
  {
   "cell_type": "markdown",
   "id": "8d0ef798-8dbe-417a-9876-3fa8e4446ce3",
   "metadata": {},
   "source": [
    "### model.eval()\n",
    "torch.no_grad를 사용하여 기울기 값을 저장하지 않도록 한다. 토치는 모든 연산과 기울기 값을 저장하기 때문이다. -> 필요한 메모리와 연산 시간을 줄일 수 있다."
   ]
  },
  {
   "cell_type": "code",
   "execution_count": null,
   "id": "8d52b19a-9ac0-43d2-8274-141ae28891ec",
   "metadata": {},
   "outputs": [],
   "source": [
    "model.eval()\n",
    "with torch.no_grad():\n",
    "    valid_loss = 0\n",
    "    for x, y in valid_dataloader:\n",
    "        outputs = model(x)\n",
    "        loss = F.cross_entropy(outputs, y.long().squeeze())\n",
    "        valid_loss += float(loss)\n",
    "        y_hat += [outputs]\n",
    "    valid_loss = valid_loss / len(valid_loader)"
   ]
  },
  {
   "cell_type": "markdown",
   "id": "c7031ec2-dfc4-4107-8964-8f106bb51015",
   "metadata": {
    "jp-MarkdownHeadingCollapsed": true
   },
   "source": [
    "# Numpy stack, concatenate 차이"
   ]
  },
  {
   "cell_type": "code",
   "execution_count": 8,
   "id": "79bcf58a-8869-4377-a401-eedf143cf684",
   "metadata": {},
   "outputs": [],
   "source": [
    "import numpy as np"
   ]
  },
  {
   "cell_type": "code",
   "execution_count": 9,
   "id": "af31ae62-f123-42d9-a634-795a2d88332e",
   "metadata": {},
   "outputs": [],
   "source": [
    "a = np.array([[1,2],[3,4]])\n",
    "b = np.array([[5,6],[7,8]])\n",
    "c = np.array([[5,6],[7,8],[9,10]])"
   ]
  },
  {
   "cell_type": "code",
   "execution_count": 12,
   "id": "cd8a7399-f358-4c0d-9dbf-69818061d719",
   "metadata": {},
   "outputs": [
    {
     "data": {
      "text/plain": [
       "array([[1, 2],\n",
       "       [3, 4],\n",
       "       [5, 6],\n",
       "       [7, 8]])"
      ]
     },
     "execution_count": 12,
     "metadata": {},
     "output_type": "execute_result"
    }
   ],
   "source": [
    "np.concatenate((a,b), axis = 0) #0이면 밑으로 쭉"
   ]
  },
  {
   "cell_type": "code",
   "execution_count": 13,
   "id": "a8c89e1b-89dd-4d5c-ab44-df80a161be74",
   "metadata": {},
   "outputs": [
    {
     "data": {
      "text/plain": [
       "array([[1, 2, 5, 6],\n",
       "       [3, 4, 7, 8]])"
      ]
     },
     "execution_count": 13,
     "metadata": {},
     "output_type": "execute_result"
    }
   ],
   "source": [
    "np.concatenate((a,b), axis = 1) #1이면 옆으로 쭉"
   ]
  },
  {
   "cell_type": "code",
   "execution_count": 19,
   "id": "eef995de-719b-4efd-84f1-4407f15916a2",
   "metadata": {},
   "outputs": [
    {
     "data": {
      "text/plain": [
       "array([[[1, 2],\n",
       "        [3, 4]],\n",
       "\n",
       "       [[5, 6],\n",
       "        [7, 8]]])"
      ]
     },
     "execution_count": 19,
     "metadata": {},
     "output_type": "execute_result"
    }
   ],
   "source": [
    "np.stack((a,b), axis = 0) #(2,2,2)\n",
    "# stack은 여러 같은 차원을 합쳐 다음 차원을 만든다"
   ]
  },
  {
   "cell_type": "code",
   "execution_count": 15,
   "id": "6880ac92-dbaa-4239-aa39-b491a3e9c11a",
   "metadata": {},
   "outputs": [
    {
     "data": {
      "text/plain": [
       "array([[ 1,  2],\n",
       "       [ 3,  4],\n",
       "       [ 5,  6],\n",
       "       [ 7,  8],\n",
       "       [ 9, 10]])"
      ]
     },
     "execution_count": 15,
     "metadata": {},
     "output_type": "execute_result"
    }
   ],
   "source": [
    "np.concatenate((a,c), axis = 0) #0이면 밑으로 쭉"
   ]
  },
  {
   "cell_type": "code",
   "execution_count": 17,
   "id": "72a05f98-946d-48b1-b03c-5cfcb38fe2f6",
   "metadata": {},
   "outputs": [
    {
     "ename": "ValueError",
     "evalue": "all input arrays must have the same shape",
     "output_type": "error",
     "traceback": [
      "\u001b[0;31m---------------------------------------------------------------------------\u001b[0m",
      "\u001b[0;31mValueError\u001b[0m                                Traceback (most recent call last)",
      "Cell \u001b[0;32mIn[17], line 1\u001b[0m\n\u001b[0;32m----> 1\u001b[0m \u001b[43mnp\u001b[49m\u001b[38;5;241;43m.\u001b[39;49m\u001b[43mstack\u001b[49m\u001b[43m(\u001b[49m\u001b[43m(\u001b[49m\u001b[43ma\u001b[49m\u001b[43m,\u001b[49m\u001b[43mc\u001b[49m\u001b[43m)\u001b[49m\u001b[43m,\u001b[49m\u001b[43m \u001b[49m\u001b[43maxis\u001b[49m\u001b[43m \u001b[49m\u001b[38;5;241;43m=\u001b[39;49m\u001b[43m \u001b[49m\u001b[38;5;241;43m0\u001b[39;49m\u001b[43m)\u001b[49m \u001b[38;5;66;03m#(2,2,2)\u001b[39;00m\n",
      "File \u001b[0;32m~/Desktop/GIt/myMLstudy/.mlvenv/lib/python3.11/site-packages/numpy/core/shape_base.py:449\u001b[0m, in \u001b[0;36mstack\u001b[0;34m(arrays, axis, out, dtype, casting)\u001b[0m\n\u001b[1;32m    447\u001b[0m shapes \u001b[38;5;241m=\u001b[39m {arr\u001b[38;5;241m.\u001b[39mshape \u001b[38;5;28;01mfor\u001b[39;00m arr \u001b[38;5;129;01min\u001b[39;00m arrays}\n\u001b[1;32m    448\u001b[0m \u001b[38;5;28;01mif\u001b[39;00m \u001b[38;5;28mlen\u001b[39m(shapes) \u001b[38;5;241m!=\u001b[39m \u001b[38;5;241m1\u001b[39m:\n\u001b[0;32m--> 449\u001b[0m     \u001b[38;5;28;01mraise\u001b[39;00m \u001b[38;5;167;01mValueError\u001b[39;00m(\u001b[38;5;124m'\u001b[39m\u001b[38;5;124mall input arrays must have the same shape\u001b[39m\u001b[38;5;124m'\u001b[39m)\n\u001b[1;32m    451\u001b[0m result_ndim \u001b[38;5;241m=\u001b[39m arrays[\u001b[38;5;241m0\u001b[39m]\u001b[38;5;241m.\u001b[39mndim \u001b[38;5;241m+\u001b[39m \u001b[38;5;241m1\u001b[39m\n\u001b[1;32m    452\u001b[0m axis \u001b[38;5;241m=\u001b[39m normalize_axis_index(axis, result_ndim)\n",
      "\u001b[0;31mValueError\u001b[0m: all input arrays must have the same shape"
     ]
    }
   ],
   "source": [
    "np.stack((a,c), axis = 0) #(2,2,2)"
   ]
  },
  {
   "cell_type": "markdown",
   "id": "39ae5d4f-95ce-412e-829d-8963c50cf46b",
   "metadata": {
    "jp-MarkdownHeadingCollapsed": true
   },
   "source": [
    "# Numpy randint, rand"
   ]
  },
  {
   "cell_type": "code",
   "execution_count": 1,
   "id": "16911ee4-8c8f-4de9-b654-ffa8cdc20189",
   "metadata": {},
   "outputs": [],
   "source": [
    "import numpy as np"
   ]
  },
  {
   "cell_type": "code",
   "execution_count": 2,
   "id": "a4069afd-688d-4cd5-a95a-c5368b3cab0e",
   "metadata": {},
   "outputs": [
    {
     "data": {
      "text/plain": [
       "6"
      ]
     },
     "execution_count": 2,
     "metadata": {},
     "output_type": "execute_result"
    }
   ],
   "source": [
    "np.random.randint(10) # 0~10임의의 숫자 출력"
   ]
  },
  {
   "cell_type": "code",
   "execution_count": 4,
   "id": "381d1b19-6e9f-44e7-a44c-53fbe44df3b2",
   "metadata": {},
   "outputs": [
    {
     "data": {
      "text/plain": [
       "array([0.06512202, 0.24871075, 0.27347486, 0.81668293, 0.58424542,\n",
       "       0.99329761, 0.98966703, 0.23611681])"
      ]
     },
     "execution_count": 4,
     "metadata": {},
     "output_type": "execute_result"
    }
   ],
   "source": [
    "np.random.rand(8) # 0~1사이의 표준 정규 분포 난수를 행렬로 (1* 8) 출력"
   ]
  },
  {
   "cell_type": "code",
   "execution_count": 5,
   "id": "98d0c57b-b989-48d5-b880-c43b9838b186",
   "metadata": {},
   "outputs": [
    {
     "data": {
      "text/plain": [
       "array([[0.7134414 , 0.13935659],\n",
       "       [0.61501823, 0.9503671 ],\n",
       "       [0.63884066, 0.72220164],\n",
       "       [0.12278518, 0.06363522]])"
      ]
     },
     "execution_count": 5,
     "metadata": {},
     "output_type": "execute_result"
    }
   ],
   "source": [
    "np.random.rand(4,2) # 그 난수를 (4*2) 출력"
   ]
  },
  {
   "cell_type": "code",
   "execution_count": 7,
   "id": "c45060c6-fd0b-4ea0-a2af-473ee469ac6a",
   "metadata": {},
   "outputs": [],
   "source": [
    "a = np.arange(0,100,3) # 1~99의 숫자에서 3씩 건너뛴 행렬을 생성"
   ]
  },
  {
   "cell_type": "code",
   "execution_count": 12,
   "id": "ecdfb78f-b248-4a60-b533-5c67c1be38f8",
   "metadata": {},
   "outputs": [],
   "source": [
    "a.resize(6,5)"
   ]
  },
  {
   "cell_type": "code",
   "execution_count": 13,
   "id": "9384ee93-6598-4256-a575-1a1e4d580cfc",
   "metadata": {},
   "outputs": [
    {
     "data": {
      "text/plain": [
       "array([[ 0,  3,  6,  9, 12],\n",
       "       [15, 18, 21, 24, 27],\n",
       "       [30, 33, 36, 39, 42],\n",
       "       [45, 48, 51, 54, 57],\n",
       "       [60, 63, 66, 69, 72],\n",
       "       [75, 78, 81, 84, 87]])"
      ]
     },
     "execution_count": 13,
     "metadata": {},
     "output_type": "execute_result"
    }
   ],
   "source": [
    "a"
   ]
  },
  {
   "cell_type": "markdown",
   "id": "a405070d-5461-458c-b3ba-5781871147e6",
   "metadata": {},
   "source": [
    "# 활성화 함수 지정 방법\n",
    "- F.relu(): forward() 함수에서 정의\n",
    "- nn.ReLU(): \\_\\_init__() 함수에서 정의\n",
    "\n",
    "둘의 차이는 간단히 사용하는 위치이다. 근본적으로는 사용 방법에 차이가 있다."
   ]
  },
  {
   "cell_type": "code",
   "execution_count": 23,
   "id": "a2c9fa6e-28e9-4cf3-882d-66a8d07ab035",
   "metadata": {},
   "outputs": [],
   "source": [
    "import torch\n",
    "import torch.nn as nn\n",
    "inputs = torch.randn(64,3,244,244)\n",
    "conv = nn.Conv2d(in_channels=3, out_channels= 64, kernel_size=3, padding=1)\n",
    "outputs = conv(inputs)\n",
    "layer = nn.Conv2d(1,1,3)"
   ]
  },
  {
   "cell_type": "code",
   "execution_count": 24,
   "id": "252fd9ac-9a04-4099-8a14-231813ff17ad",
   "metadata": {},
   "outputs": [
    {
     "data": {
      "text/plain": [
       "torch.Size([3, 244, 244])"
      ]
     },
     "execution_count": 24,
     "metadata": {},
     "output_type": "execute_result"
    }
   ],
   "source": [
    "inputs.shape"
   ]
  },
  {
   "cell_type": "markdown",
   "id": "9a9f0af8-3e0d-4676-93a1-ff8ad61bad83",
   "metadata": {},
   "source": [
    "# Numpy transpose"
   ]
  },
  {
   "cell_type": "code",
   "execution_count": 25,
   "id": "ffe0d597-16c8-4cba-8416-fb23afb23c60",
   "metadata": {},
   "outputs": [],
   "source": [
    "import numpy as np"
   ]
  },
  {
   "cell_type": "code",
   "execution_count": 27,
   "id": "1b5bdbcc-216f-469d-a348-c20a95b8e58f",
   "metadata": {},
   "outputs": [
    {
     "data": {
      "text/plain": [
       "array([[[ 0,  1,  2,  3],\n",
       "        [ 4,  5,  6,  7],\n",
       "        [ 8,  9, 10, 11]],\n",
       "\n",
       "       [[12, 13, 14, 15],\n",
       "        [16, 17, 18, 19],\n",
       "        [20, 21, 22, 23]]])"
      ]
     },
     "execution_count": 27,
     "metadata": {},
     "output_type": "execute_result"
    }
   ],
   "source": [
    "exam = np.arange(24).reshape(2,3,4)\n",
    "exam "
   ]
  },
  {
   "cell_type": "code",
   "execution_count": 28,
   "id": "4087379c-e033-4a3f-ab71-3799f685fd6f",
   "metadata": {},
   "outputs": [
    {
     "data": {
      "text/plain": [
       "array([[[ 0, 12],\n",
       "        [ 4, 16],\n",
       "        [ 8, 20]],\n",
       "\n",
       "       [[ 1, 13],\n",
       "        [ 5, 17],\n",
       "        [ 9, 21]],\n",
       "\n",
       "       [[ 2, 14],\n",
       "        [ 6, 18],\n",
       "        [10, 22]],\n",
       "\n",
       "       [[ 3, 15],\n",
       "        [ 7, 19],\n",
       "        [11, 23]]])"
      ]
     },
     "execution_count": 28,
     "metadata": {},
     "output_type": "execute_result"
    }
   ],
   "source": [
    "np.transpose(exam, (2,1,0)) # 2번 인덱스 1번 인덱스../. 각각의 인덱스 값 -> (2,3,4) -> (4,3,2)로 변환"
   ]
  },
  {
   "cell_type": "code",
   "execution_count": null,
   "id": "1ebc619f-fb13-4558-b04e-9d4ed51291b4",
   "metadata": {},
   "outputs": [],
   "source": []
  }
 ],
 "metadata": {
  "kernelspec": {
   "display_name": "Python 3 (ipykernel)",
   "language": "python",
   "name": "python3"
  },
  "language_info": {
   "codemirror_mode": {
    "name": "ipython",
    "version": 3
   },
   "file_extension": ".py",
   "mimetype": "text/x-python",
   "name": "python",
   "nbconvert_exporter": "python",
   "pygments_lexer": "ipython3",
   "version": "3.11.5"
  }
 },
 "nbformat": 4,
 "nbformat_minor": 5
}
