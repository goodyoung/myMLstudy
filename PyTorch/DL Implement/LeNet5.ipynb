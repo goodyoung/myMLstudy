{
 "cells": [
  {
   "cell_type": "code",
   "execution_count": 2,
   "id": "7b405812-509c-4484-8cb9-a18711d2bcae",
   "metadata": {},
   "outputs": [],
   "source": [
    "import torch\n",
    "import torch.nn as nn\n",
    "import torch.nn.functional as F\n",
    "import torch.optim as optim\n",
    "\n",
    "import torchvision\n",
    "import torchvision.transforms as transforms\n",
    "\n",
    "import numpy as np\n",
    "import matplotlib as mpl\n",
    "import matplotlib.pyplot as plt\n",
    "\n",
    "from torchsummary import summary"
   ]
  },
  {
   "cell_type": "code",
   "execution_count": 95,
   "id": "6ddcf298-7a0f-421e-803c-4373570ba600",
   "metadata": {},
   "outputs": [],
   "source": [
    "class LeNet_5(nn.Module):\n",
    "    def __init__(self):\n",
    "        super().__init__()\n",
    "        self.layer1 = nn.Sequential(\n",
    "            nn.Conv2d(in_channels =3,out_channels=16,kernel_size=5, stride=1),\n",
    "            nn.ReLU(),\n",
    "            nn.MaxPool2d(2)\n",
    "        )\n",
    "        self.layer2 = nn.Sequential(\n",
    "            nn.Conv2d(in_channels=16,out_channels=32,kernel_size=5, stride=1),\n",
    "            nn.ReLU(),\n",
    "            nn.MaxPool2d(2)\n",
    "        )\n",
    "        \n",
    "        self.layer3 =nn.Sequential(\n",
    "            nn.Linear(53*53*32,512),\n",
    "            nn.ReLU()\n",
    "        )\n",
    "        self.layer4 =nn.Sequential(\n",
    "            nn.Linear(512,2),\n",
    "            nn.ReLU()\n",
    "        )\n",
    "        self.output = nn.Softmax(dim = 1)\n",
    "    def forward(self, x):\n",
    "\n",
    "        x = self.layer1(x)\n",
    "\n",
    "        x = self.layer2(x)\n",
    "        x = self.layer3(x.view(x.size(0), -1))\n",
    "        x = self.layer4(x)\n",
    "        return self.output(x)"
   ]
  },
  {
   "cell_type": "code",
   "execution_count": 96,
   "id": "b4a16e17-5faf-4ee3-96bb-32e1a9d74e60",
   "metadata": {},
   "outputs": [],
   "source": [
    "from torchsummary import summary"
   ]
  },
  {
   "cell_type": "code",
   "execution_count": 97,
   "id": "1dc60fba-0a72-4fff-9530-83dbb5d8b4a4",
   "metadata": {},
   "outputs": [],
   "source": [
    "model = LeNet_5()"
   ]
  },
  {
   "cell_type": "code",
   "execution_count": 98,
   "id": "1901e3ce-50f1-40ea-bc9f-db3db5b63ccf",
   "metadata": {},
   "outputs": [
    {
     "name": "stdout",
     "output_type": "stream",
     "text": [
      "----------------------------------------------------------------\n",
      "        Layer (type)               Output Shape         Param #\n",
      "================================================================\n",
      "            Conv2d-1         [-1, 16, 220, 220]           1,216\n",
      "              ReLU-2         [-1, 16, 220, 220]               0\n",
      "         MaxPool2d-3         [-1, 16, 110, 110]               0\n",
      "            Conv2d-4         [-1, 32, 106, 106]          12,832\n",
      "              ReLU-5         [-1, 32, 106, 106]               0\n",
      "         MaxPool2d-6           [-1, 32, 53, 53]               0\n",
      "            Linear-7                  [-1, 512]      46,023,168\n",
      "              ReLU-8                  [-1, 512]               0\n",
      "            Linear-9                    [-1, 2]           1,026\n",
      "             ReLU-10                    [-1, 2]               0\n",
      "          Softmax-11                    [-1, 2]               0\n",
      "================================================================\n",
      "Total params: 46,038,242\n",
      "Trainable params: 46,038,242\n",
      "Non-trainable params: 0\n",
      "----------------------------------------------------------------\n",
      "Input size (MB): 0.57\n",
      "Forward/backward pass size (MB): 19.47\n",
      "Params size (MB): 175.62\n",
      "Estimated Total Size (MB): 195.67\n",
      "----------------------------------------------------------------\n"
     ]
    }
   ],
   "source": [
    "summary(model,input_size = (3,224,224))"
   ]
  },
  {
   "cell_type": "code",
   "execution_count": null,
   "id": "0c212ad9-1b19-406e-b115-3eeccb2ff248",
   "metadata": {},
   "outputs": [],
   "source": []
  }
 ],
 "metadata": {
  "kernelspec": {
   "display_name": "Python 3 (ipykernel)",
   "language": "python",
   "name": "python3"
  },
  "language_info": {
   "codemirror_mode": {
    "name": "ipython",
    "version": 3
   },
   "file_extension": ".py",
   "mimetype": "text/x-python",
   "name": "python",
   "nbconvert_exporter": "python",
   "pygments_lexer": "ipython3",
   "version": "3.11.5"
  }
 },
 "nbformat": 4,
 "nbformat_minor": 5
}
