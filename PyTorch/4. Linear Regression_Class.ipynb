{
 "cells": [
  {
   "cell_type": "markdown",
   "id": "d7947d45-b43b-4de4-813c-a21f89942b65",
   "metadata": {},
   "source": [
    "# 모델을 클래스로 구현하기"
   ]
  },
  {
   "cell_type": "code",
   "execution_count": 7,
   "id": "814b8d9b-ab01-49e3-9a70-f6890df0d4a8",
   "metadata": {},
   "outputs": [],
   "source": [
    "import torch\n",
    "import torch.nn as nn\n",
    "import torch.nn.functional as F"
   ]
  },
  {
   "cell_type": "code",
   "execution_count": 8,
   "id": "abc9072b-558d-4055-926f-8a2119b82555",
   "metadata": {},
   "outputs": [
    {
     "data": {
      "text/plain": [
       "<torch._C.Generator at 0x10d209b30>"
      ]
     },
     "execution_count": 8,
     "metadata": {},
     "output_type": "execute_result"
    }
   ],
   "source": [
    "torch.manual_seed(1)"
   ]
  },
  {
   "cell_type": "markdown",
   "id": "ba5cbaa4-7233-4e9d-bdc4-4322c59a984d",
   "metadata": {
    "jp-MarkdownHeadingCollapsed": true
   },
   "source": [
    "## 단순 선형 회귀 모델"
   ]
  },
  {
   "cell_type": "code",
   "execution_count": 39,
   "id": "21a3832e-33d9-4874-bbc0-1cd32e2b9ffc",
   "metadata": {},
   "outputs": [],
   "source": [
    "class LinearRegressionModel(nn.Module):\n",
    "    \"\"\" 단순 선형 회귀 모델 \"\"\"\n",
    "    \n",
    "    def __init__(self):\n",
    "        \"\"\" 생성자 \"\"\"\n",
    "        super().__init__()\n",
    "        torch.manual_seed(1) # seed 동일\n",
    "        self.linear = nn.Linear(1, 1)\n",
    "\n",
    "    def forward(self, x):\n",
    "        \"\"\" 입력 x로부터 예측된 y를 얻는 것 \"\"\"\n",
    "        return self.linear(x)"
   ]
  },
  {
   "cell_type": "code",
   "execution_count": 48,
   "id": "6e5cb01c-b58e-462a-a131-7e97b8dfd31d",
   "metadata": {},
   "outputs": [],
   "source": [
    "model_1 = LinearRegressionModel()"
   ]
  },
  {
   "cell_type": "code",
   "execution_count": 49,
   "id": "526d57a5-504b-4de9-9649-5bcdd15dc4bc",
   "metadata": {},
   "outputs": [],
   "source": [
    "new_var_1 = torch.FloatTensor([[4.0]])"
   ]
  },
  {
   "cell_type": "code",
   "execution_count": 50,
   "id": "71e19c70-aedc-4a7b-a6fa-52676af4833e",
   "metadata": {},
   "outputs": [
    {
     "data": {
      "text/plain": [
       "tensor([[1.6197]], grad_fn=<AddmmBackward0>)"
      ]
     },
     "execution_count": 50,
     "metadata": {},
     "output_type": "execute_result"
    }
   ],
   "source": [
    "model_1.forward(new_var_1)"
   ]
  },
  {
   "cell_type": "markdown",
   "id": "b407d767-7735-4b15-9541-01221e2c26e8",
   "metadata": {
    "jp-MarkdownHeadingCollapsed": true
   },
   "source": [
    "## 다중 선형 회귀 모델"
   ]
  },
  {
   "cell_type": "code",
   "execution_count": 40,
   "id": "8b74b737-e43a-42e6-925b-24dc25106cee",
   "metadata": {},
   "outputs": [],
   "source": [
    "class MultivariateLinearRegressionModel(nn.Module):\n",
    "    \"\"\" 다중 선형 회귀 모델 \"\"\"\n",
    "    \n",
    "    def __init__(self):\n",
    "        \"\"\" 생성자 \"\"\"\n",
    "        super().__init__()\n",
    "        torch.manual_seed(1) # seed 동일\n",
    "        self.linear = nn.Linear(3, 1)\n",
    "\n",
    "    def forward(self, x):\n",
    "        \"\"\" 입력 x로부터 예측된 y를 얻는 것 \"\"\"\n",
    "        return self.linear(x)"
   ]
  },
  {
   "cell_type": "code",
   "execution_count": 51,
   "id": "686097bc-c351-4d35-a146-60124b7a2b6a",
   "metadata": {},
   "outputs": [],
   "source": [
    "model_2 = MultivariateLinearRegressionModel()"
   ]
  },
  {
   "cell_type": "code",
   "execution_count": 53,
   "id": "0f2a8d25-8712-4a92-afb4-4ab79b083a72",
   "metadata": {},
   "outputs": [],
   "source": [
    "new_var_2 =  torch.FloatTensor([[73, 80, 75]]) "
   ]
  },
  {
   "cell_type": "code",
   "execution_count": 54,
   "id": "ede9ac1c-5b5c-49cf-a7c6-3760c1a4f074",
   "metadata": {},
   "outputs": [
    {
     "data": {
      "text/plain": [
       "tensor([[-6.7933]], grad_fn=<AddmmBackward0>)"
      ]
     },
     "execution_count": 54,
     "metadata": {},
     "output_type": "execute_result"
    }
   ],
   "source": [
    "model_2.forward(new_var_2)"
   ]
  },
  {
   "cell_type": "code",
   "execution_count": null,
   "id": "f3463f9b-5c8e-46ce-9f84-cebb4b1dae96",
   "metadata": {},
   "outputs": [],
   "source": []
  }
 ],
 "metadata": {
  "kernelspec": {
   "display_name": "Python 3 (ipykernel)",
   "language": "python",
   "name": "python3"
  },
  "language_info": {
   "codemirror_mode": {
    "name": "ipython",
    "version": 3
   },
   "file_extension": ".py",
   "mimetype": "text/x-python",
   "name": "python",
   "nbconvert_exporter": "python",
   "pygments_lexer": "ipython3",
   "version": "3.11.5"
  }
 },
 "nbformat": 4,
 "nbformat_minor": 5
}
