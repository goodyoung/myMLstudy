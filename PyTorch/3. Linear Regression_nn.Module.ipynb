{
 "cells": [
  {
   "cell_type": "markdown",
   "id": "4c3d751d-f997-400d-84d9-39e8a1d031fb",
   "metadata": {},
   "source": [
    "- 파이토치의 선형 회귀 모델 ``nn.Linear()``라는 함수가 있다.\n",
    "  - H(x) 개선\n",
    "- 평균 제곱 오차 ``nn.functional.mse_loss()`` 라는 함수로 구현되어 있다\n",
    "\n",
    "직접 구현하던 것들이 없어졌다"
   ]
  },
  {
   "cell_type": "markdown",
   "id": "e094d620-dc5f-4afa-b68e-e20817934a96",
   "metadata": {
    "jp-MarkdownHeadingCollapsed": true
   },
   "source": [
    "# nn.Module을 이용하여 단순 선형 회귀 구현"
   ]
  },
  {
   "cell_type": "code",
   "execution_count": 27,
   "id": "ab87e7aa-432a-40c9-8d3e-75e2b3889292",
   "metadata": {},
   "outputs": [],
   "source": [
    "import torch\n",
    "import torch.nn\n",
    "import torch.nn.functional as F"
   ]
  },
  {
   "cell_type": "code",
   "execution_count": 28,
   "id": "c5036c60-dc27-4ed2-816e-0bfc852e9f8c",
   "metadata": {},
   "outputs": [
    {
     "data": {
      "text/plain": [
       "<torch._C.Generator at 0x1168cd9b0>"
      ]
     },
     "execution_count": 28,
     "metadata": {},
     "output_type": "execute_result"
    }
   ],
   "source": [
    "torch.manual_seed(1)"
   ]
  },
  {
   "cell_type": "code",
   "execution_count": 29,
   "id": "bfc99998-1ac7-4f6e-a0da-5fccfbb32462",
   "metadata": {},
   "outputs": [],
   "source": [
    "# 데이터\n",
    "x_train = torch.FloatTensor([[1], [2], [3]])\n",
    "y_train = torch.FloatTensor([[2], [4], [6]])"
   ]
  },
  {
   "cell_type": "markdown",
   "id": "d218c993-a611-456f-8fc4-8bbfe0d48aad",
   "metadata": {},
   "source": [
    "하나의 입력 x에 대하여 하나의 출력 y를 가지므로 둘 다 1이다."
   ]
  },
  {
   "cell_type": "code",
   "execution_count": 30,
   "id": "18e4300c-9109-4b32-bdf7-8b56416c17c7",
   "metadata": {},
   "outputs": [],
   "source": [
    "# 모델을 선언 및 초기화. 단순 선형 회귀이므로 input_dim=1, output_dim=1.\n",
    "model = nn.Linear(1,1)"
   ]
  },
  {
   "cell_type": "code",
   "execution_count": 31,
   "id": "733c9c42-42ac-40e2-b88e-d8b61217e6a0",
   "metadata": {},
   "outputs": [
    {
     "data": {
      "text/plain": [
       "[Parameter containing:\n",
       " tensor([[0.5153]], requires_grad=True),\n",
       " Parameter containing:\n",
       " tensor([-0.4414], requires_grad=True)]"
      ]
     },
     "execution_count": 31,
     "metadata": {},
     "output_type": "execute_result"
    }
   ],
   "source": [
    "# model에는 가중치 W와 편향 b가 저장되어져 있다\n",
    "# 랜덤 초기화가 되어져 있다\n",
    "list(model.parameters())"
   ]
  },
  {
   "cell_type": "code",
   "execution_count": 32,
   "id": "45ea702b-0d3b-4a33-b1d7-35a8d92fb931",
   "metadata": {},
   "outputs": [],
   "source": [
    "optimizer = torch.optim.SGD(model.parameters(), lr = 0.01)"
   ]
  },
  {
   "cell_type": "code",
   "execution_count": 33,
   "id": "0f6359e9-3432-43c9-85d3-17a34439bae1",
   "metadata": {},
   "outputs": [
    {
     "name": "stdout",
     "output_type": "stream",
     "text": [
      "Epoch    0/2000 Cost: 13.103541\n",
      "Epoch  200/2000 Cost: 0.001724\n",
      "Epoch  400/2000 Cost: 0.000658\n",
      "Epoch  600/2000 Cost: 0.000251\n",
      "Epoch  800/2000 Cost: 0.000096\n",
      "Epoch 1000/2000 Cost: 0.000037\n",
      "Epoch 1200/2000 Cost: 0.000014\n",
      "Epoch 1400/2000 Cost: 0.000005\n",
      "Epoch 1600/2000 Cost: 0.000002\n",
      "Epoch 1800/2000 Cost: 0.000001\n",
      "Epoch 2000/2000 Cost: 0.000000\n"
     ]
    }
   ],
   "source": [
    "n_epoch = 2000\n",
    "for epoch in range(n_epoch+1):\n",
    "    prediction = model(x_train)\n",
    "    cost = F.mse_loss(prediction, y_train)\n",
    "\n",
    "    # cost로 H(x) 개선\n",
    "    # gradient를 0으로 초기화 -> 미분한 결과 W,b를 제대로 반영 할 수 있게 된다!!!\n",
    "    optimizer.zero_grad()\n",
    "    \n",
    "    # 비용 함수를 미분하여 gradient 게싼\n",
    "    cost.backward()\n",
    "    \n",
    "    # W와 b 업데이트\n",
    "    optimizer.step()\n",
    "\n",
    "    if not (epoch%200):\n",
    "      print('Epoch {:4d}/{} Cost: {:.6f}'.format(\n",
    "          epoch, n_epoch, cost.item()\n",
    "      ))"
   ]
  },
  {
   "cell_type": "code",
   "execution_count": 34,
   "id": "dd2654a0-a9b8-40a7-9c09-3b1d1e364e91",
   "metadata": {},
   "outputs": [
    {
     "name": "stdout",
     "output_type": "stream",
     "text": [
      "훈련 후 예측값 tensor([[7.9989]], grad_fn=<AddmmBackward0>)\n"
     ]
    }
   ],
   "source": [
    "# 예측\n",
    "new_var = torch.FloatTensor([[4.0]])\n",
    "\n",
    "pred_y = model(new_var) #forward 연산\n",
    "\n",
    "print(\"훈련 후 예측값\", pred_y)"
   ]
  },
  {
   "cell_type": "code",
   "execution_count": 35,
   "id": "47379cb5-0687-42fa-9073-256fb2bb80a0",
   "metadata": {},
   "outputs": [
    {
     "data": {
      "text/plain": [
       "[Parameter containing:\n",
       " tensor([[1.9994]], requires_grad=True),\n",
       " Parameter containing:\n",
       " tensor([0.0014], requires_grad=True)]"
      ]
     },
     "execution_count": 35,
     "metadata": {},
     "output_type": "execute_result"
    }
   ],
   "source": [
    "list(model.parameters())"
   ]
  },
  {
   "cell_type": "markdown",
   "id": "97c64953-6271-45d0-8cd2-41d4d3cc63e5",
   "metadata": {},
   "source": [
    "# nn.Module을 이용하여 다중 선형 회귀 구현하기"
   ]
  },
  {
   "cell_type": "code",
   "execution_count": 36,
   "id": "ff8a21a3-8511-43cc-82a5-3fa2b7926aa9",
   "metadata": {},
   "outputs": [],
   "source": [
    "import torch\n",
    "import torch.nn\n",
    "import torch.nn.functional as F"
   ]
  },
  {
   "cell_type": "code",
   "execution_count": 37,
   "id": "9ad3307b-1644-423d-8410-0ea9b6ba9f79",
   "metadata": {},
   "outputs": [
    {
     "data": {
      "text/plain": [
       "<torch._C.Generator at 0x1168cd9b0>"
      ]
     },
     "execution_count": 37,
     "metadata": {},
     "output_type": "execute_result"
    }
   ],
   "source": [
    "torch.manual_seed(1)"
   ]
  },
  {
   "cell_type": "code",
   "execution_count": 39,
   "id": "e2e2a277-c0b3-4127-a3ee-a77bb15729c7",
   "metadata": {},
   "outputs": [],
   "source": [
    "# 데이터\n",
    "x_train = torch.FloatTensor([[73, 80, 75],\n",
    "                             [93, 88, 93],\n",
    "                             [89, 91, 90],\n",
    "                             [96, 98, 100],\n",
    "                             [73, 66, 70]])\n",
    "y_train = torch.FloatTensor([[152], [185], [180], [196], [142]])"
   ]
  },
  {
   "cell_type": "code",
   "execution_count": 40,
   "id": "7797616d-2e8d-4e67-891d-e347da49ec5e",
   "metadata": {},
   "outputs": [],
   "source": [
    "model = nn.Linear(3,1)"
   ]
  },
  {
   "cell_type": "code",
   "execution_count": 41,
   "id": "e4942266-a676-4e7b-a93c-386a6fb1dacb",
   "metadata": {},
   "outputs": [],
   "source": [
    "optimizer = torch.optim.SGD(model.parameters(), lr=1e-5) "
   ]
  },
  {
   "cell_type": "code",
   "execution_count": 42,
   "id": "99fcba75-f7b5-4966-a2fc-d0100f5a0133",
   "metadata": {},
   "outputs": [
    {
     "name": "stdout",
     "output_type": "stream",
     "text": [
      "Epoch    0/2000 Cost: 31667.599609\n",
      "Epoch  200/2000 Cost: 0.223911\n",
      "Epoch  400/2000 Cost: 0.220059\n",
      "Epoch  600/2000 Cost: 0.216575\n",
      "Epoch  800/2000 Cost: 0.213413\n",
      "Epoch 1000/2000 Cost: 0.210559\n",
      "Epoch 1200/2000 Cost: 0.207967\n",
      "Epoch 1400/2000 Cost: 0.205618\n",
      "Epoch 1600/2000 Cost: 0.203481\n",
      "Epoch 1800/2000 Cost: 0.201539\n",
      "Epoch 2000/2000 Cost: 0.199770\n"
     ]
    }
   ],
   "source": [
    "n_epoch = 2000\n",
    "for epoch in range(n_epoch+1):\n",
    "    prediction = model(x_train)\n",
    "    cost = F.mse_loss(prediction, y_train)\n",
    "\n",
    "    # cost로 H(x) 개선\n",
    "    # gradient를 0으로 초기화 -> 미분한 결과 W,b를 제대로 반영 할 수 있게 된다!!!\n",
    "    optimizer.zero_grad()\n",
    "    \n",
    "    # 비용 함수를 미분하여 gradient 게싼\n",
    "    cost.backward()\n",
    "    \n",
    "    # W와 b 업데이트\n",
    "    optimizer.step()\n",
    "\n",
    "    if not (epoch%200):\n",
    "      print('Epoch {:4d}/{} Cost: {:.6f}'.format(\n",
    "          epoch, n_epoch, cost.item()\n",
    "      ))"
   ]
  },
  {
   "cell_type": "code",
   "execution_count": 43,
   "id": "20d9a01b-3bf3-44af-aeb7-db4b7eb71f27",
   "metadata": {},
   "outputs": [
    {
     "name": "stdout",
     "output_type": "stream",
     "text": [
      "훈련 후 입력이 73, 80, 75일 때의 예측값 : tensor([[151.2306]], grad_fn=<AddmmBackward0>)\n"
     ]
    }
   ],
   "source": [
    "# 임의의 입력 [73, 80, 75]를 선언\n",
    "new_var =  torch.FloatTensor([[73, 80, 75]]) \n",
    "# 입력한 값 [73, 80, 75]에 대해서 예측값 y를 리턴받아서 pred_y에 저장\n",
    "pred_y = model(new_var) \n",
    "print(\"훈련 후 입력이 73, 80, 75일 때의 예측값 :\", pred_y) "
   ]
  },
  {
   "cell_type": "code",
   "execution_count": null,
   "id": "72e13d55-8fa4-406c-a740-d64f97619320",
   "metadata": {},
   "outputs": [],
   "source": []
  }
 ],
 "metadata": {
  "kernelspec": {
   "display_name": "Python 3 (ipykernel)",
   "language": "python",
   "name": "python3"
  },
  "language_info": {
   "codemirror_mode": {
    "name": "ipython",
    "version": 3
   },
   "file_extension": ".py",
   "mimetype": "text/x-python",
   "name": "python",
   "nbconvert_exporter": "python",
   "pygments_lexer": "ipython3",
   "version": "3.11.5"
  }
 },
 "nbformat": 4,
 "nbformat_minor": 5
}
