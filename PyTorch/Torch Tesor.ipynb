{
 "cells": [
  {
   "cell_type": "code",
   "execution_count": 1,
   "id": "31e759d7-bcdc-42bf-82f6-81684d0e3541",
   "metadata": {},
   "outputs": [],
   "source": [
    "import torch\n",
    "original_tensor = torch.arange(1,13)"
   ]
  },
  {
   "cell_type": "code",
   "execution_count": 3,
   "id": "bf7884d1-05b8-4e2c-b101-918aef64d45a",
   "metadata": {},
   "outputs": [
    {
     "name": "stdout",
     "output_type": "stream",
     "text": [
      "Original Tensor:\n",
      "tensor([ 1,  2,  3,  4,  5,  6,  7,  8,  9, 10, 11, 12])\n",
      "Shape: torch.Size([12])\n"
     ]
    }
   ],
   "source": [
    "print(\"Original Tensor:\")\n",
    "print(original_tensor)\n",
    "print(\"Shape:\", original_tensor.shape)"
   ]
  },
  {
   "cell_type": "code",
   "execution_count": 4,
   "id": "16a59c92-5b7d-4c4a-b58b-5a26103279d6",
   "metadata": {},
   "outputs": [],
   "source": [
    "reshaped_tensor = original_tensor.view(3,4)"
   ]
  },
  {
   "cell_type": "code",
   "execution_count": 5,
   "id": "7ee26477-e135-4ff1-968c-901e99dc7dd2",
   "metadata": {},
   "outputs": [
    {
     "name": "stdout",
     "output_type": "stream",
     "text": [
      "Reshaped Tensor:\n",
      "tensor([[ 1,  2,  3,  4],\n",
      "        [ 5,  6,  7,  8],\n",
      "        [ 9, 10, 11, 12]])\n",
      "Shape: torch.Size([3, 4])\n"
     ]
    }
   ],
   "source": [
    "print(\"Reshaped Tensor:\")\n",
    "print(reshaped_tensor)\n",
    "print(\"Shape:\", reshaped_tensor.shape)"
   ]
  },
  {
   "cell_type": "code",
   "execution_count": 10,
   "id": "ba4d76a2-6372-41e5-a8c1-76d2419fe104",
   "metadata": {},
   "outputs": [
    {
     "name": "stdout",
     "output_type": "stream",
     "text": [
      "Shape tensor([[ 1,  2,  3,  4,  5,  6],\n",
      "        [ 7,  8,  9, 10, 11, 12]])\n"
     ]
    }
   ],
   "source": [
    "print(\"Shape\",reshaped_tensor.view(2,6))"
   ]
  },
  {
   "cell_type": "code",
   "execution_count": 13,
   "id": "bf573860-4ea7-4c3d-903d-74d0cb938c43",
   "metadata": {},
   "outputs": [
    {
     "name": "stdout",
     "output_type": "stream",
     "text": [
      "Shape tensor([[ 1,  2,  3,  4,  5,  6,  7,  8,  9, 10, 11, 12]])\n"
     ]
    }
   ],
   "source": [
    "print(\"Shape\",reshaped_tensor.view(-1,len(original_tensor)))"
   ]
  },
  {
   "cell_type": "code",
   "execution_count": null,
   "id": "69a6b605-426f-410a-a174-b7ff9ffe2249",
   "metadata": {},
   "outputs": [],
   "source": []
  }
 ],
 "metadata": {
  "kernelspec": {
   "display_name": "Python 3 (ipykernel)",
   "language": "python",
   "name": "python3"
  },
  "language_info": {
   "codemirror_mode": {
    "name": "ipython",
    "version": 3
   },
   "file_extension": ".py",
   "mimetype": "text/x-python",
   "name": "python",
   "nbconvert_exporter": "python",
   "pygments_lexer": "ipython3",
   "version": "3.11.5"
  }
 },
 "nbformat": 4,
 "nbformat_minor": 5
}
