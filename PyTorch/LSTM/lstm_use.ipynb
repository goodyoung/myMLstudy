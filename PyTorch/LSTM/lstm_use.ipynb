{
 "cells": [
  {
   "cell_type": "code",
   "execution_count": null,
   "id": "f248abbe-ec55-4edc-8a3a-22eedc244032",
   "metadata": {},
   "outputs": [],
   "source": [
    "# batch_first=True로 설정하면 입력을 (batch_size, sequence_length, input_size) 이렇게 받는다"
   ]
  },
  {
   "cell_type": "code",
   "execution_count": null,
   "id": "e4f59897-6ee3-4db1-a406-101a2b3bd57c",
   "metadata": {},
   "outputs": [],
   "source": [
    "class My_LSTM(nn.Module):\n",
    "    def __init__(self, num_classes, input_size, hidden_size, num_layers, seq_length) : \n",
    "        self.num_classes = num_classes\n",
    "        self.num_layers = num_layers\n",
    "        self.input_size = input_size\n",
    "        self.hidden_size = hidden_size\n",
    "        self.seq_length = seq_length\n",
    "        self.lstm = nn.LSTM(input_size = input_size, hidden_size = hidden_size, num_layers = num_layers, batch_first = True)\n",
    "        self.layer_1 = nn.Linear(hidden_size, 256)\n",
    "        self.layer_2 = nn.Linear(256,256)\n",
    "        self.layer_3 = nn.Linear(256,128)\n",
    "        self.layer_out = nn.Linear(128, num_classes)\n",
    "        self.relu = nn.ReLU() \n",
    "\n",
    "    def forward(self,x):\n",
    "        h_0 = Variable(torch.zeros(self.num_layers, x.size(0), self.hidden_size)).to(device) #Hidden State\n",
    "        c_0 = Variable(torch.zeros(self.num_layers, x.size(0), self.hidden_size)).to(device) #Internal Process State\n",
    "        output, (hn, cn) = self.lstm(x, (h_0, c_0))\n",
    "        hn = hn.view(-1, self.hidden_size) # 1차원으로 변환해줌\n",
    "\n",
    "        out = self.relu(hn) \n",
    "        out = self.layer_1(out) \n",
    "        out = self.relu(out) \n",
    "        out = self.layer_2(out)\n",
    "        out = self.relu(out)\n",
    "        out = self.layer_3(out)\n",
    "        out = self.relu(out)\n",
    "        out = self.layer_out(out) \n",
    "\n",
    "        return out"
   ]
  },
  {
   "cell_type": "code",
   "execution_count": null,
   "id": "35d59b36-3837-4df9-a7f6-bf2d03ae6cea",
   "metadata": {},
   "outputs": [],
   "source": [
    "# Code Mai\n",
    "num_epochs = 10000\n",
    "learning_rate = 0.001\n",
    "input_size = int(len(x.columns))\n",
    "hidden_size = 2 # number of features in hidden state\n",
    "num_layers = 1\n",
    "num_classes = int(len(y.columns))\n",
    "LSTM_Jun = LSTM_Jun(num_classes, input_size, hidden_size, num_layers, train_x_tensor_final.shape[1]).to(device)\n",
    "loss_function = torch.nn.MSELoss()\n",
    "optimizer = torch.optim.Adam(LSTM_Jun.parameters(), lr = learning_rate)\n",
    "for epoch in range(num_epochs) : \n",
    "    outputs = LSTM_Jun.forward(train_x_tensor_final.to(device))\n",
    "    optimizer.zero_grad()\n",
    "    loss = loss_function(outputs, train_y_tensor.to(device))\n",
    "    loss.backward()\n",
    "    optimizer.step() # improve from loss = back propagation\n",
    "    if epoch % 200 == 0 :\n",
    "        print(\"Epoch : %d, loss : %1.5f\" % (epoch, loss.item()))\n",
    "# Estimated Value\n",
    "test_predict = LSTM_Jun(train_x_tensor_final.to(device)) #Forward Pass\n",
    "predict_data = test_predict.data.detach().cpu().numpy() #numpy conversion\n",
    "predict_data = minmax.inverse_transform(predict_data) #inverse normalization(Min/Max)\n",
    "\n",
    "# Real Value\n",
    "real_data = train_y_tensor.data.numpy() # Real value\n",
    "real_data = minmax.inverse_transform(real_data) #inverse normalization\n",
    "#Figure\n",
    "\n",
    "plt.figure(figsize = (10,6)) # Plotting\n",
    "plt.plot(real_data, label = 'Real Data')\n",
    "plt.plot(predict_data, label = 'predicted data')\n",
    "plt.title('Time series prediction')\n",
    "plt.legend()\n",
    "plt.show()"
   ]
  }
 ],
 "metadata": {
  "kernelspec": {
   "display_name": "Python 3 (ipykernel)",
   "language": "python",
   "name": "python3"
  },
  "language_info": {
   "codemirror_mode": {
    "name": "ipython",
    "version": 3
   },
   "file_extension": ".py",
   "mimetype": "text/x-python",
   "name": "python",
   "nbconvert_exporter": "python",
   "pygments_lexer": "ipython3",
   "version": "3.11.5"
  }
 },
 "nbformat": 4,
 "nbformat_minor": 5
}
