{
 "cells": [
  {
   "cell_type": "code",
   "execution_count": 4,
   "id": "042596f0-0cbf-4cb7-ba98-c0887b18fdff",
   "metadata": {},
   "outputs": [],
   "source": [
    "import torch\n",
    "import torch.nn as nn\n",
    "\n",
    "import numpy as np\n",
    "import pandas as pd\n",
    "import matplotlib.pyplot as plt\n",
    "from torch.autograd import Variable\n",
    "from sklearn.preprocessing import MinMaxScaler"
   ]
  },
  {
   "cell_type": "code",
   "execution_count": 26,
   "id": "9f40fd86-b81c-4674-b247-321a734504e0",
   "metadata": {},
   "outputs": [],
   "source": [
    "df = pd.read_csv(\"international-airline-passengers.csv\")"
   ]
  },
  {
   "cell_type": "code",
   "execution_count": 18,
   "id": "b59e94cc-3d5d-43d7-90a8-f652d241eab4",
   "metadata": {},
   "outputs": [
    {
     "data": {
      "text/html": [
       "<div>\n",
       "<style scoped>\n",
       "    .dataframe tbody tr th:only-of-type {\n",
       "        vertical-align: middle;\n",
       "    }\n",
       "\n",
       "    .dataframe tbody tr th {\n",
       "        vertical-align: top;\n",
       "    }\n",
       "\n",
       "    .dataframe thead th {\n",
       "        text-align: right;\n",
       "    }\n",
       "</style>\n",
       "<table border=\"1\" class=\"dataframe\">\n",
       "  <thead>\n",
       "    <tr style=\"text-align: right;\">\n",
       "      <th></th>\n",
       "      <th>1949-01</th>\n",
       "      <th>112</th>\n",
       "    </tr>\n",
       "  </thead>\n",
       "  <tbody>\n",
       "    <tr>\n",
       "      <th>0</th>\n",
       "      <td>1949-02</td>\n",
       "      <td>118</td>\n",
       "    </tr>\n",
       "    <tr>\n",
       "      <th>1</th>\n",
       "      <td>1949-03</td>\n",
       "      <td>132</td>\n",
       "    </tr>\n",
       "    <tr>\n",
       "      <th>2</th>\n",
       "      <td>1949-04</td>\n",
       "      <td>129</td>\n",
       "    </tr>\n",
       "    <tr>\n",
       "      <th>3</th>\n",
       "      <td>1949-05</td>\n",
       "      <td>121</td>\n",
       "    </tr>\n",
       "    <tr>\n",
       "      <th>4</th>\n",
       "      <td>1949-06</td>\n",
       "      <td>135</td>\n",
       "    </tr>\n",
       "  </tbody>\n",
       "</table>\n",
       "</div>"
      ],
      "text/plain": [
       "   1949-01  112\n",
       "0  1949-02  118\n",
       "1  1949-03  132\n",
       "2  1949-04  129\n",
       "3  1949-05  121\n",
       "4  1949-06  135"
      ]
     },
     "execution_count": 18,
     "metadata": {},
     "output_type": "execute_result"
    }
   ],
   "source": [
    "df.head()"
   ]
  },
  {
   "cell_type": "code",
   "execution_count": 28,
   "id": "e8a2ec82-f385-479c-b5e0-f2c0960aae2b",
   "metadata": {},
   "outputs": [],
   "source": [
    "train_set = df.iloc[:,1:2].values"
   ]
  },
  {
   "cell_type": "code",
   "execution_count": 29,
   "id": "cbef0c93-4cc7-4ac5-8886-25950db35a8d",
   "metadata": {},
   "outputs": [],
   "source": [
    "mx = MinMaxScaler()\n",
    "\n",
    "# df[['112']] = mx.fit_transform(df[['112']])\n",
    "train_data = mx.fit_transform(train_set)"
   ]
  },
  {
   "cell_type": "code",
   "execution_count": 42,
   "id": "005dd8cd-e9b1-4e51-954a-80c857c6dc93",
   "metadata": {},
   "outputs": [],
   "source": [
    "def sliding_windows(data, seq_length):\n",
    "    x, y = [], []\n",
    "\n",
    "    for i in range(len(data)- seq_length-1):\n",
    "        _x = data[i:(i+seq_length)]\n",
    "        _y = data[i+seq_length]\n",
    "        x.append(_x)\n",
    "        y.append(_y)\n",
    "        \n",
    "    return np.array(x), np.array(y)"
   ]
  },
  {
   "cell_type": "code",
   "execution_count": 43,
   "id": "b0a8ed90-291d-4f07-a21c-7d2e9b2752b4",
   "metadata": {
    "scrolled": true
   },
   "outputs": [],
   "source": [
    "seq_length = 4\n",
    "x, y = sliding_windows(train_data, seq_length)"
   ]
  },
  {
   "cell_type": "code",
   "execution_count": 45,
   "id": "5a7b9023-b5d8-4993-a348-a3def5334ec5",
   "metadata": {},
   "outputs": [
    {
     "data": {
      "text/plain": [
       "((138, 4, 1), (138, 1))"
      ]
     },
     "execution_count": 45,
     "metadata": {},
     "output_type": "execute_result"
    }
   ],
   "source": [
    "x.shape, y.shape"
   ]
  },
  {
   "cell_type": "code",
   "execution_count": null,
   "id": "e552a571-028c-4059-ae9b-4e117074356e",
   "metadata": {},
   "outputs": [],
   "source": [
    "class myModel(nn.Module):\n",
    "    def __init__(self):\n",
    "        self.lstm = nn.LSTM(embedding_length, hidden_size)\n",
    "        self.label = nn.Linear(hidden_size, output_size )\n",
    "    def forward(self):\n",
    "        h_0 = Variable(torch.zeros(1,batch_size, self.hidden_size).cuda())\n",
    "        c_0 = Variable(torch.zeros(1, batch_size, self.hidden_size).cuda())\n",
    "        output, (final_hidden_state, final_cell_state) = self.lstm(input, (h_0, c_0))\n",
    "        return self.label(final_hidden_state[-1])"
   ]
  },
  {
   "cell_type": "code",
   "execution_count": null,
   "id": "3dc0afec-2ac9-4f7e-9c67-a304f9693a90",
   "metadata": {},
   "outputs": [],
   "source": []
  }
 ],
 "metadata": {
  "kernelspec": {
   "display_name": "Python 3 (ipykernel)",
   "language": "python",
   "name": "python3"
  },
  "language_info": {
   "codemirror_mode": {
    "name": "ipython",
    "version": 3
   },
   "file_extension": ".py",
   "mimetype": "text/x-python",
   "name": "python",
   "nbconvert_exporter": "python",
   "pygments_lexer": "ipython3",
   "version": "3.11.5"
  }
 },
 "nbformat": 4,
 "nbformat_minor": 5
}
