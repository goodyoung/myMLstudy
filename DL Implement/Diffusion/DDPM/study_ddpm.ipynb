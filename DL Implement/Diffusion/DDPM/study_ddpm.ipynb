{
 "cells": [
  {
   "attachments": {},
   "cell_type": "markdown",
   "id": "00108550-0fae-4996-a17a-99aa2f6d649d",
   "metadata": {},
   "source": [
    "## DDPM 기초 구현\n",
    "By https://github.com/CodingVillainKor/SimpleDeepLearning/blob/main/DDPM_notebook.ipynb + https://www.youtube.com/watch?v=svSQhYGKk0Q\n",
    "\n",
    "### 구현해야될 항목\n",
    "  - 각종 변수들 ($\\alpha, \\tilde\\alpha, \\mu, ...$)\n",
    "  - 훈련 코드\n",
    "    1. **repeat**:\n",
    "       - \\($ \\mathbf{x}_0 \\sim q(\\mathbf{x}_0) $\\)  (데이터 분포에서 샘플링)\n",
    "       - \\($ t \\sim \\text{Uniform}(\\{1, \\dots, T\\})$ \\)  (랜덤한 시간 스텝 샘플링)\n",
    "       - \\($ \\epsilon \\sim \\mathcal{N}(\\mathbf{0}, \\mathbf{I})$ \\)  (정규분포에서 노이즈 샘플링)\n",
    "       - Gradient descent step on:\n",
    "    \n",
    "       - $\n",
    "         \\nabla_\\theta \\left\\| \\epsilon - \\epsilon_\\theta \\left( \\sqrt{\\bar{\\alpha}_t} \\mathbf{x}_0 + \\sqrt{1 - \\bar{\\alpha}_t} \\epsilon, t \\right) \\right\\|^2\n",
    "         $\n",
    "    \n",
    "    2. **until converged**\n",
    "\n",
    "  - 샘플링 코드\n",
    "    1. **Initialize**:  \n",
    "       - \\($ \\mathbf{x}_T \\sim \\mathcal{N}(\\mathbf{0}, \\mathbf{I}) $\\)  (시작 샘플은 표준 정규분포에서 샘플링)\n",
    "    \n",
    "    2. **For \\( t = T, \\dots, 1 \\) do**:\n",
    "       - \\($ \\mathbf{z} \\sim \\mathcal{N}(\\mathbf{0}, \\mathbf{I})$ \\) if \\($ t > 1 $\\), else \\($ \\mathbf{z} = 0 $\\)  \n",
    "         (마지막 단계가 아니면 가우시안 노이즈 추가)\n",
    "    \n",
    "       - 업데이트:\n",
    "         $\n",
    "         \\mathbf{x}_{t-1} = \\frac{1}{\\sqrt{\\alpha_t}} \n",
    "         \\left( \\mathbf{x}_t - \\frac{1 - \\alpha_t}{\\sqrt{1 - \\bar{\\alpha}_t}} \\epsilon_\\theta(\\mathbf{x}_t, t) \\right) \n",
    "         + \\sigma_t \\mathbf{z}\n",
    "         $\n",
    "    \n",
    "    3. **Return** \\( $\\mathbf{x}_0 $\\)  (최종 생성된 샘플)"
   ]
  },
  {
   "cell_type": "markdown",
   "id": "3c1eef6e-dbfd-4cd4-98d5-3c6a2168079a",
   "metadata": {
    "jp-MarkdownHeadingCollapsed": true
   },
   "source": [
    "### 라이브러리"
   ]
  },
  {
   "cell_type": "code",
   "execution_count": 8,
   "id": "37a74eb4-1a30-4d8c-80e2-b1972bd32be7",
   "metadata": {},
   "outputs": [
    {
     "name": "stdout",
     "output_type": "stream",
     "text": [
      " Device:  cuda:0\n"
     ]
    }
   ],
   "source": [
    "# torch\n",
    "import torch\n",
    "import torch.nn as nn\n",
    "from torch.nn import init\n",
    "import torch.nn.functional as F\n",
    "import math\n",
    "\n",
    "# dataset\n",
    "from torchvision.datasets import CIFAR10\n",
    "from torchvision import transforms\n",
    "\n",
    "# check cuda\n",
    "if torch.cuda.is_available():\n",
    "    device = torch.device('cuda:0')\n",
    "else:\n",
    "    torch.device(\"cpu\")\n",
    "print(\" Device: \", device)"
   ]
  },
  {
   "cell_type": "markdown",
   "id": "f2ba63e6-ad32-4be5-b64c-fcbc44c31c2a",
   "metadata": {},
   "source": [
    "### 기본 변수 코드\n",
    "<details>\n",
    "  <summary> torch 예제 코드 </summary>\n",
    "    \n",
    "1. cumprod 함수 예제\n",
    "    \n",
    "    ``` python\n",
    "    \n",
    "    a = torch.tensor([5, 7, 10])\n",
    "    torch.cumprod(a, dim = 0)\n",
    "    # 출력: tensor([  5,  35, 350])\n",
    "    \n",
    "    ```\n",
    "\n",
    "---\n",
    "\n",
    "2. pad 함수 예제\n",
    "\n",
    "    ```python\n",
    "    a = torch.tensor([1,2,3,4])\n",
    "    \n",
    "    # 앞쪽에 2개, 뒤쪽에 3개 패딩 추가 , 기본 값 0 -> 9\n",
    "    F.pad(a, (2, 3), value = 9)\n",
    "    # 출력:: tensor([9, 9, 1, 2, 3, 4, 9, 9, 9])\n",
    "    ```\n",
    "</details>"
   ]
  },
  {
   "cell_type": "code",
   "execution_count": 23,
   "id": "25abe153-f1e1-4474-ba64-7487f269ff86",
   "metadata": {},
   "outputs": [],
   "source": [
    "# time t\n",
    "T = 1000 \n",
    "\n",
    "# beta: linear하게 증가\n",
    "betas = torch.linspace(1e-4, 0.02, T).to(device) \n",
    "\n",
    "# alpha는 beta의 변형이므로\n",
    "alphas = 1 - betas\n",
    "\n",
    "# alpha bar는 alhpa의 누적 합 -> torch의 cumprod 함수\n",
    "alphas_bar = torch.cumprod(alphas, dim = 0, ).to(device)\n",
    "\n",
    "# alpha bar 의 t-1도 sampling 과정에서 필요하다. \n",
    "# 맨 처음에 alpha가 하나도 없었다는 뜻으로 맨 앞에 1을 추가.\n",
    "alphas_bar_prev = F.pad(alphas_bar[:-1], (1, 0), value = 1)\n",
    "\n",
    "# continue"
   ]
  },
  {
   "cell_type": "markdown",
   "id": "2ba39202-e5da-4337-a0c2-f608b3a9781f",
   "metadata": {},
   "source": [
    "### 훈련 코드"
   ]
  },
  {
   "cell_type": "markdown",
   "id": "5b46c59a-e665-478b-b8e1-ddf0801cc9d4",
   "metadata": {},
   "source": [
    "### 샘플링 코드"
   ]
  },
  {
   "cell_type": "code",
   "execution_count": null,
   "id": "09208470-8318-4bb5-8fd6-cd13b9f99bcf",
   "metadata": {},
   "outputs": [],
   "source": []
  }
 ],
 "metadata": {
  "kernelspec": {
   "display_name": "Python 3 (ipykernel)",
   "language": "python",
   "name": "python3"
  },
  "language_info": {
   "codemirror_mode": {
    "name": "ipython",
    "version": 3
   },
   "file_extension": ".py",
   "mimetype": "text/x-python",
   "name": "python",
   "nbconvert_exporter": "python",
   "pygments_lexer": "ipython3",
   "version": "3.12.8"
  }
 },
 "nbformat": 4,
 "nbformat_minor": 5
}
